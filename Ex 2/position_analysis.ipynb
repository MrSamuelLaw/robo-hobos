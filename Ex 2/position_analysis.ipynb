{
 "cells": [
  {
   "cell_type": "markdown",
   "metadata": {},
   "source": [
    "# TITLE: EXERCISE ONE\n",
    "# AUTHORS: Samuel Law & Rhys Miller"
   ]
  },
  {
   "cell_type": "code",
   "execution_count": 2,
   "metadata": {},
   "outputs": [],
   "source": [
    "%reset -f\n",
    "import sympy as sm\n",
    "import sympy.physics.mechanics as me\n",
    "from IPython.display import display, Latex"
   ]
  },
  {
   "cell_type": "code",
   "execution_count": 3,
   "metadata": {},
   "outputs": [],
   "source": [
    "def show(eq_lhs: str, eq_rhs: str):\n",
    "    eq = f\"${eq_lhs} = {eq_rhs}$\"\n",
    "    return diplay(Latex(eq))"
   ]
  },
  {
   "cell_type": "code",
   "execution_count": 4,
   "metadata": {},
   "outputs": [],
   "source": [
    "# define variables\n",
    "q1 = me.dynamicsymbols(\"q1\")\n",
    "\n",
    "# define constants\n",
    "LA = sm.symbols(\"LA\")"
   ]
  },
  {
   "cell_type": "code",
   "execution_count": 5,
   "metadata": {},
   "outputs": [],
   "source": [
    "# define the frames\n",
    "N = me.ReferenceFrame(\"N\")\n",
    "A = N.orientnew(\"A\", \"axis\", (q1, N.z))"
   ]
  },
  {
   "cell_type": "code",
   "execution_count": 6,
   "metadata": {},
   "outputs": [],
   "source": [
    "# define the points\n",
    "pN = me.Point(\"pN\")\n",
    "pA = pN.locatenew(\"pA\", LA*A.x)"
   ]
  },
  {
   "cell_type": "code",
   "execution_count": 8,
   "metadata": {},
   "outputs": [
    {
     "name": "stdout",
     "output_type": "stream",
     "text": [
      "\\left[\\begin{matrix}\\operatorname{cos}\\left(q_{1}\\right) & - \\operatorname{sin}\\left(q_{1}\\right) & 0\\\\\\operatorname{sin}\\left(q_{1}\\right) & \\operatorname{cos}\\left(q_{1}\\right) & 0\\\\0 & 0 & 1\\end{matrix}\\right]\n"
     ]
    }
   ],
   "source": [
    "# create the expresson\n",
    "print(me.vlatex(N.dcm(A).subs({q1: \"q1\"})))"
   ]
  }
 ],
 "metadata": {
  "kernelspec": {
   "display_name": "Python 3",
   "language": "python",
   "name": "python3"
  },
  "language_info": {
   "codemirror_mode": {
    "name": "ipython",
    "version": 3
   },
   "file_extension": ".py",
   "mimetype": "text/x-python",
   "name": "python",
   "nbconvert_exporter": "python",
   "pygments_lexer": "ipython3",
   "version": "3.8.2"
  }
 },
 "nbformat": 4,
 "nbformat_minor": 4
}
