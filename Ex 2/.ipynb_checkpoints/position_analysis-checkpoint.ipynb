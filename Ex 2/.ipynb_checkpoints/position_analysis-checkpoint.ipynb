{
 "cells": [
  {
   "cell_type": "markdown",
   "metadata": {},
   "source": [
    "# TITLE: EXERCISE ONE\n",
    "# AUTHORS: Samuel Law & Rhys Miller"
   ]
  },
  {
   "cell_type": "code",
   "execution_count": 4,
   "metadata": {},
   "outputs": [],
   "source": [
    "%reset -f\n",
    "import sympy as sm\n",
    "import sympy.physics.mechanics as me\n",
    "from IPython.display import display, Latex"
   ]
  },
  {
   "cell_type": "code",
   "execution_count": 6,
   "metadata": {},
   "outputs": [],
   "source": [
    "def show(eq_lhs: str, eq_rhs: str):\n",
    "    eq = f\"${eq_lhs} = {eq_rhs}$\"\n",
    "    return diplay(Latex(eq))"
   ]
  },
  {
   "cell_type": "code",
   "execution_count": 11,
   "metadata": {},
   "outputs": [],
   "source": [
    "# define variables\n",
    "q1 = me.dynamicsymbols(\"q1\")\n",
    "\n",
    "# define constants\n",
    "LA = sm.symbols(\"LA\")"
   ]
  },
  {
   "cell_type": "code",
   "execution_count": 12,
   "metadata": {},
   "outputs": [],
   "source": [
    "# define the frames\n",
    "N = me.ReferenceFrame(\"N\")\n",
    "A = N.orientnew(\"A\", \"axis\", (q1, N.z))"
   ]
  },
  {
   "cell_type": "code",
   "execution_count": 16,
   "metadata": {},
   "outputs": [],
   "source": [
    "# define the points\n",
    "pN = me.Point(\"pN\")\n",
    "pA = pN.locatenew(\"pA\", LA*A.x)"
   ]
  },
  {
   "cell_type": "code",
   "execution_count": 17,
   "metadata": {},
   "outputs": [
    {
     "data": {
      "text/latex": [
       "$\\displaystyle \\left[\\begin{matrix}\\cos{\\left(\\operatorname{q_{1}}{\\left(t \\right)} \\right)} & - \\sin{\\left(\\operatorname{q_{1}}{\\left(t \\right)} \\right)} & 0\\\\\\sin{\\left(\\operatorname{q_{1}}{\\left(t \\right)} \\right)} & \\cos{\\left(\\operatorname{q_{1}}{\\left(t \\right)} \\right)} & 0\\\\0 & 0 & 1\\end{matrix}\\right]$"
      ],
      "text/plain": [
       "Matrix([\n",
       "[cos(q1(t)), -sin(q1(t)), 0],\n",
       "[sin(q1(t)),  cos(q1(t)), 0],\n",
       "[         0,           0, 1]])"
      ]
     },
     "execution_count": 17,
     "metadata": {},
     "output_type": "execute_result"
    }
   ],
   "source": [
    "# create the expresson\n",
    "N.dcm(A)"
   ]
  }
 ],
 "metadata": {
  "kernelspec": {
   "display_name": "Python 3",
   "language": "python",
   "name": "python3"
  },
  "language_info": {
   "codemirror_mode": {
    "name": "ipython",
    "version": 3
   },
   "file_extension": ".py",
   "mimetype": "text/x-python",
   "name": "python",
   "nbconvert_exporter": "python",
   "pygments_lexer": "ipython3",
   "version": "3.8.2"
  }
 },
 "nbformat": 4,
 "nbformat_minor": 4
}
