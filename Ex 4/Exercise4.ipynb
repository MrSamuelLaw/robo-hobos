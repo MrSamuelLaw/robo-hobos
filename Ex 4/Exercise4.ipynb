{
 "cells": [
  {
   "cell_type": "markdown",
   "metadata": {},
   "source": [
    "# Intro to Robotics: Exercise 3\n",
    "# Author: Samuel Law & Rhys Miller"
   ]
  },
  {
   "cell_type": "code",
   "execution_count": 321,
   "metadata": {},
   "outputs": [],
   "source": [
    "%reset -f"
   ]
  },
  {
   "cell_type": "code",
   "execution_count": 322,
   "metadata": {},
   "outputs": [],
   "source": [
    "%matplotlib inline"
   ]
  },
  {
   "cell_type": "code",
   "execution_count": 323,
   "metadata": {},
   "outputs": [],
   "source": [
    "import sympy as sm\n",
    "import sympy.physics.mechanics as me\n",
    "from scipy.integrate import RK45\n",
    "from numpy import array, vstack, pi\n",
    "import matplotlib.pyplot as plt"
   ]
  },
  {
   "cell_type": "markdown",
   "metadata": {},
   "source": [
    "### Kinematics"
   ]
  },
  {
   "cell_type": "code",
   "execution_count": 324,
   "metadata": {},
   "outputs": [],
   "source": [
    "# setup N frame\n",
    "N = me.ReferenceFrame(\"N\")\n",
    "pN = me.Point(\"pN\")\n",
    "pN.set_vel(N, 0)"
   ]
  },
  {
   "cell_type": "code",
   "execution_count": 325,
   "metadata": {},
   "outputs": [],
   "source": [
    "# set up constants\n",
    "g, gr, L = sm.symbols(\"g, gr, L\")"
   ]
  },
  {
   "cell_type": "code",
   "execution_count": 326,
   "metadata": {},
   "outputs": [],
   "source": [
    "# set up independent variables\n",
    "q1, q2, q4, q5, u1, u2, u4, u5 = me.dynamicsymbols(\"q1, q2, q4, q5, u1, u2, u4, u5\")\n",
    "q1d, q2d, q4d, q5d, u1d, u2d, u4d, u5d = me.dynamicsymbols(\"q1, q2, q4, q5, u1, u2, u4, u5\", 1)"
   ]
  },
  {
   "cell_type": "code",
   "execution_count": 327,
   "metadata": {},
   "outputs": [],
   "source": [
    "# set up dependent variables which are the gears\n",
    "q0, q3 = -q1*gr, -q4*gr\n",
    "u0, u3 = -u1*gr, -u4*gr\n",
    "q0d, q3d = -q1d*gr, -q4d*gr\n",
    "u0d, u3d = -u1d*gr, -u4d*gr"
   ]
  },
  {
   "cell_type": "code",
   "execution_count": 328,
   "metadata": {},
   "outputs": [],
   "source": [
    "# set up the motor bodies\n",
    "right_motor = me.Body(\n",
    "    name = \"motorR\",\n",
    "    frame = N.orientnew(\"R\", \"axis\", (q0, N.z)),\n",
    "    masscenter = pN.locatenew(\"motorR_COM\", 0)\n",
    ")\n",
    "left_motor = me.Body(\n",
    "    name = \"motorL\",\n",
    "    frame = N.orientnew(\"L\", \"axis\", (q3, N.z)),\n",
    "    masscenter = pN.locatenew(\"motorL_COM\", -L*N.x)\n",
    ")"
   ]
  },
  {
   "cell_type": "code",
   "execution_count": 329,
   "metadata": {},
   "outputs": [],
   "source": [
    "# set up the link bodies\n",
    "bodyA = me.Body(\n",
    "    name = \"bodyA\",\n",
    "    frame = N.orientnew(\"A\", \"axis\", (q1, N.z))\n",
    ")\n",
    "bodyB = me.Body(\n",
    "    name = \"bodyB\",\n",
    "    frame = bodyA.frame.orientnew(\"B\", \"axis\", (q2, bodyA.frame.z))\n",
    ")\n",
    "bodyC = me.Body(\n",
    "    name = \"bodyC\",\n",
    "    frame = N.orientnew(\"C\", \"axis\", (q4, N.z))\n",
    ")\n",
    "bodyD = me.Body(\n",
    "    name = \"bodyD\",\n",
    "    frame = bodyC.frame.orientnew(\"D\", \"axis\", (q5, bodyC.frame.z))\n",
    ")"
   ]
  },
  {
   "cell_type": "code",
   "execution_count": 330,
   "metadata": {},
   "outputs": [],
   "source": [
    "# define the link lengths\n",
    "bodyA.L1, bodyA.L2 = sm.symbols(\"LA_1, LA_2\")\n",
    "bodyB.L1, bodyB.L2 = sm.symbols(\"LB_1, LB_2\")\n",
    "bodyC.L1, bodyC.L2 = sm.symbols(\"LC_1, LC_2\")\n",
    "bodyD.L1, bodyD.L2 = sm.symbols(\"LD_1, LD_2\")\n",
    "\n",
    "# define the COM lengths\n",
    "bodyA.L = sm.symbols(\"LA_COM\")\n",
    "bodyB.L = sm.symbols(\"LB_COM\")\n",
    "bodyC.L = sm.symbols(\"LC_COM\")\n",
    "bodyD.L = sm.symbols(\"LD_COM\")"
   ]
  },
  {
   "cell_type": "code",
   "execution_count": 331,
   "metadata": {},
   "outputs": [],
   "source": [
    "# set all the positions\n",
    "bodyA.masscenter = pN.locatenew(\"pA\", bodyA.L*bodyA.frame.x)\n",
    "bodyB.masscenter = pN.locatenew(\"pB\", (bodyA.L1*bodyA.frame.x) + (bodyB.L*bodyB.frame.x))\n",
    "bodyC.masscenter = left_motor.masscenter.locatenew(\"pC\", bodyC.L*bodyC.frame.x)\n",
    "bodyD.masscenter = left_motor.masscenter.locatenew(\"pD\", (bodyC.L1*bodyC.frame.x) + (bodyD.L*bodyD.frame.x))"
   ]
  },
  {
   "cell_type": "code",
   "execution_count": 332,
   "metadata": {},
   "outputs": [],
   "source": [
    "# set all the velocities\n",
    "right_motor.masscenter.set_vel(N, 0)\n",
    "left_motor.masscenter.set_vel(N, 0)\n",
    "bodyA.masscenter.set_vel(N, bodyA.masscenter.pos_from(pN).dt(N))\n",
    "bodyB.masscenter.set_vel(N, bodyB.masscenter.pos_from(pN).dt(N))\n",
    "bodyC.masscenter.set_vel(N, bodyC.masscenter.pos_from(pN).dt(N))\n",
    "bodyD.masscenter.set_vel(N, bodyD.masscenter.pos_from(pN).dt(N))"
   ]
  },
  {
   "cell_type": "code",
   "execution_count": 333,
   "metadata": {},
   "outputs": [],
   "source": [
    "# set all the accelerations\n",
    "bodyA.masscenter.set_acc(N, bodyA.masscenter.vel(N).dt(N))\n",
    "bodyB.masscenter.set_acc(N, bodyB.masscenter.vel(N).dt(N))\n",
    "bodyC.masscenter.set_acc(N, bodyC.masscenter.vel(N).dt(N))"
   ]
  },
  {
   "cell_type": "code",
   "execution_count": 334,
   "metadata": {},
   "outputs": [],
   "source": [
    "# define the independent coordinates\n",
    "q_ind = [q1, q4]\n",
    "q_dep = [q2, q5]\n",
    "u_ind = [u1, u4]\n",
    "u_dep = [u2, u5]\n",
    "\n",
    "# and the kinematic differential equations\n",
    "kde = [\n",
    "    [q1d - u1],\n",
    "    [q2d - u2],\n",
    "    [q4d - u4],\n",
    "    [q5d - u5],\n",
    "]\n",
    "\n",
    "# and create the vector loop equations\n",
    "zero = pN.locatenew(\n",
    "    \"zero\", \n",
    "    bodyA.L1*bodyA.frame.x + bodyB.L1*bodyB.frame.x - \\\n",
    "    bodyC.L1*bodyC.frame.x - bodyD.L1*bodyD.frame.x - L*N.x\n",
    ")\n",
    "\n",
    "pos_constraints = [zero.pos_from(pN).dot(N.x), \n",
    "                   zero.pos_from(pN).dot(N.y)]\n",
    "vel_constraints = [zero.pos_from(pN).dt(N).dot(N.x), \n",
    "                   zero.pos_from(pN).dt(N).dot(N.y)]"
   ]
  },
  {
   "cell_type": "code",
   "execution_count": 335,
   "metadata": {},
   "outputs": [],
   "source": [
    "KM = me.KanesMethod(\n",
    "    frame = N, \n",
    "    q_ind = q_ind,\n",
    "    u_ind = u_ind,\n",
    "    kd_eqs = kde,\n",
    "    q_dependent = q_dep,\n",
    "    configuration_constraints = pos_constraints,\n",
    "    u_dependent = u_dep,\n",
    "    velocity_constraints = vel_constraints\n",
    ")"
   ]
  },
  {
   "cell_type": "markdown",
   "metadata": {},
   "source": [
    "### Dynamics"
   ]
  },
  {
   "cell_type": "code",
   "execution_count": 336,
   "metadata": {},
   "outputs": [],
   "source": [
    "# define the loads\n",
    "tau1, tau2 = sm.symbols(\"tau1, tau2\")\n",
    "loads = [\n",
    "    # point/frame, force/moment\n",
    "    (right_motor.masscenter, right_motor.mass*g*-N.z),\n",
    "    (left_motor.masscenter, left_motor.mass*g*-N.z),\n",
    "    (bodyA.masscenter, bodyA.mass*g*-N.z),\n",
    "    (bodyB.masscenter, bodyB.mass*g*-N.z),\n",
    "    (bodyC.masscenter, bodyC.mass*g*-N.z),\n",
    "    (bodyD.masscenter, bodyD.mass*g*-N.z),\n",
    "    (bodyA.frame, tau1*right_motor.frame.z),\n",
    "    (bodyC.frame, tau2*left_motor.frame.z),\n",
    "]\n",
    "# define the bodies\n",
    "bodies = [right_motor, bodyA, bodyB, left_motor, bodyC, bodyD]"
   ]
  },
  {
   "cell_type": "code",
   "execution_count": 337,
   "metadata": {},
   "outputs": [
    {
     "data": {
      "text/plain": [
       "((2, 1), (2, 1))"
      ]
     },
     "execution_count": 337,
     "metadata": {},
     "output_type": "execute_result"
    }
   ],
   "source": [
    "Fr, Fr_star = KM.kanes_equations(bodies, loads)\n",
    "Fr.shape, Fr_star.shape"
   ]
  },
  {
   "cell_type": "code",
   "execution_count": 338,
   "metadata": {},
   "outputs": [],
   "source": [
    "in2m = lambda x: x*25.4/1000\n",
    "vals = {\n",
    "    # constants\n",
    "    g: 9.81,               # N*m\n",
    "    L: in2m(4),            # m\n",
    "    gr: 144,               # a.u.\n",
    "    # joint c-c\n",
    "    bodyA.L1: in2m(2.4),   # m\n",
    "    bodyC.L1: in2m(2.4),   # m\n",
    "    bodyB.L1: in2m(3.2),   # m\n",
    "    bodyD.L1: in2m(3.2),   # m\n",
    "    # com properties\n",
    "    bodyA.L: 0.027,        # m\n",
    "    bodyC.L: 0.027,        # m\n",
    "    bodyB.L: 0.04,         # m\n",
    "    bodyD.L: 0.04,         # m\n",
    "    # masses\n",
    "    bodyA.mass: 0.007,     # kg\n",
    "    bodyC.mass: 0.007,     # kg \n",
    "    bodyB.mass: 0.008,     # kg\n",
    "    bodyD.mass: 0.008,     # kg\n",
    "    # moments of inertia \n",
    "    \"bodyA_izz\": 6.39e-6,  # kg m^2\n",
    "    \"bodyC_izz\": 6.39e-6,  # kg m^2\n",
    "    \"bodyB_izz\": 1.01e-5,  # kg m^2\n",
    "    \"bodyD_izz\": 1.01e-5,  # kg m^2\n",
    "    \"motorR_izz\": 3.3e-7,  # kg m^2\n",
    "    \"motorL_izz\": 3.3e-7,  # kg m^2\n",
    "}"
   ]
  },
  {
   "cell_type": "markdown",
   "metadata": {},
   "source": [
    "### Simulation"
   ]
  },
  {
   "cell_type": "code",
   "execution_count": 340,
   "metadata": {},
   "outputs": [
    {
     "data": {
      "text/latex": [
       "$\\displaystyle \\left[\\begin{matrix}0.14224\\\\0\\end{matrix}\\right]$"
      ],
      "text/plain": [
       "Matrix([\n",
       "[0.14224],\n",
       "[      0]])"
      ]
     },
     "execution_count": 340,
     "metadata": {},
     "output_type": "execute_result"
    }
   ],
   "source": [
    "# create the position function\n",
    "pE = pN.locatenew(\"pE\", (bodyA.L1*bodyA.frame.x) + (bodyB.L1*bodyB.frame.x))\n",
    "PNE = (pE.pos_from(pN).to_matrix(N).subs(vals))\n",
    "PNE = PNE.row_del(-1)\n",
    "PNE_func = sm.lambdify([q1, q2], PNE, modules=\"sympy\")\n",
    "PNE_func(0, 0)"
   ]
  },
  {
   "cell_type": "code",
   "execution_count": 341,
   "metadata": {},
   "outputs": [
    {
     "data": {
      "text/latex": [
       "$\\displaystyle \\left[\\begin{matrix}Kp \\left(- x_{current} + x_{desired}\\right) + Kv \\left(- xd_{current} + xd_{desired}\\right)\\\\Kp \\left(- y_{current} + y_{desired}\\right) + Kv \\left(- yd_{current} + yd_{desired}\\right)\\end{matrix}\\right]$"
      ],
      "text/plain": [
       "Matrix([\n",
       "[Kp*(-x_current + x_desired) + Kv*(-xd_current + xd_desired)],\n",
       "[Kp*(-y_current + y_desired) + Kv*(-yd_current + yd_desired)]])"
      ]
     },
     "execution_count": 341,
     "metadata": {},
     "output_type": "execute_result"
    }
   ],
   "source": [
    "# create the task space controller\n",
    "Kp, Kv = sm.symbols(\"Kp, Kv\")\n",
    "X_current = sm.Matrix(sm.symbols(\"x_current, y_current\"))\n",
    "Xd_current = sm.Matrix(sm.symbols(\"xd_current, yd_current\"))\n",
    "X_desired = sm.Matrix(sm.symbols(\"x_desired, y_desired\"))\n",
    "Xd_desired = sm.Matrix(sm.symbols(\"xd_desired, yd_desired\"))\n",
    "u = (Kv*(Xd_desired - Xd_current)) + (Kp*(X_desired - X_current))\n",
    "u"
   ]
  },
  {
   "cell_type": "code",
   "execution_count": 342,
   "metadata": {},
   "outputs": [
    {
     "data": {
      "text/plain": [
       "((2, 2), (2, 2), (4, 4))"
      ]
     },
     "execution_count": 342,
     "metadata": {},
     "output_type": "execute_result"
    }
   ],
   "source": [
    "# get the positions\n",
    "pE_rhs = right_motor.masscenter.locatenew(\"pE_rhs\", (bodyA.L1*bodyA.frame.x) + (bodyB.L1*bodyB.frame.x))\n",
    "pE_lhs = left_motor.masscenter.locatenew(\"pE_lhs\", (bodyC.L1*bodyC.frame.x) + (bodyD.L1*bodyD.frame.x))\n",
    "# create the 2x2 matrix\n",
    "M_rhs = pE_rhs.pos_from(pN).dt(N).to_matrix(N)\n",
    "M_lhs = pE_lhs.pos_from(pN).dt(N).to_matrix(N)\n",
    "M_rhs = M_rhs.subs(vals)\n",
    "M_lhs = M_lhs.subs(vals)\n",
    "M_rhs = M_rhs.row_del(-1)\n",
    "M_lhs = M_lhs.row_del(-1)\n",
    "M = sm.Matrix.vstack(M_rhs, M_lhs)\n",
    "# create the jacobains\n",
    "X_rhs = sm.Matrix([q1d, q2d])\n",
    "X_lhs = sm.Matrix([q4d, q5d])\n",
    "X = sm.Matrix([q1d, q2d, q4d, q5d])\n",
    "J_rhs = M_rhs.jacobian(X_rhs)\n",
    "J_lhs = M_lhs.jacobian(X_lhs)\n",
    "J = M.jacobian(X)\n",
    "J_rhs.shape, J_lhs.shape, J.shape"
   ]
  },
  {
   "cell_type": "code",
   "execution_count": 343,
   "metadata": {},
   "outputs": [
    {
     "data": {
      "text/latex": [
       "$\\displaystyle \\left[\\begin{matrix}- 0.16256 \\sin{\\left(1 \\right)} \\cos{\\left(1 \\right)} - 0.06096 \\sin{\\left(1 \\right)} & - 0.16256 \\sin{\\left(1 \\right)} \\cos{\\left(1 \\right)} & 0 & 0\\\\- 0.08128 \\sin^{2}{\\left(1 \\right)} + 0.08128 \\cos^{2}{\\left(1 \\right)} + 0.06096 \\cos{\\left(1 \\right)} & - 0.08128 \\sin^{2}{\\left(1 \\right)} + 0.08128 \\cos^{2}{\\left(1 \\right)} & 0 & 0\\\\0 & 0 & - 0.16256 \\sin{\\left(1 \\right)} \\cos{\\left(1 \\right)} - 0.06096 \\sin{\\left(1 \\right)} & - 0.16256 \\sin{\\left(1 \\right)} \\cos{\\left(1 \\right)}\\\\0 & 0 & - 0.08128 \\sin^{2}{\\left(1 \\right)} + 0.08128 \\cos^{2}{\\left(1 \\right)} + 0.06096 \\cos{\\left(1 \\right)} & - 0.08128 \\sin^{2}{\\left(1 \\right)} + 0.08128 \\cos^{2}{\\left(1 \\right)}\\end{matrix}\\right]$"
      ],
      "text/plain": [
       "Matrix([\n",
       "[                -0.16256*sin(1)*cos(1) - 0.06096*sin(1),                 -0.16256*sin(1)*cos(1),                                                       0,                                      0],\n",
       "[-0.08128*sin(1)**2 + 0.08128*cos(1)**2 + 0.06096*cos(1), -0.08128*sin(1)**2 + 0.08128*cos(1)**2,                                                       0,                                      0],\n",
       "[                                                      0,                                      0,                 -0.16256*sin(1)*cos(1) - 0.06096*sin(1),                 -0.16256*sin(1)*cos(1)],\n",
       "[                                                      0,                                      0, -0.08128*sin(1)**2 + 0.08128*cos(1)**2 + 0.06096*cos(1), -0.08128*sin(1)**2 + 0.08128*cos(1)**2]])"
      ]
     },
     "execution_count": 343,
     "metadata": {},
     "output_type": "execute_result"
    }
   ],
   "source": [
    "J_func = sm.lambdify([q1, q2, q4, q5], J, modules=\"sympy\")\n",
    "J_func(1, 1, 1, 1)"
   ]
  },
  {
   "cell_type": "code",
   "execution_count": 344,
   "metadata": {},
   "outputs": [
    {
     "data": {
      "text/latex": [
       "$\\displaystyle \\left[\\begin{matrix}- 0.16256 \\cos^{2}{\\left(1 \\right)} - 0.06096 \\cos{\\left(1 \\right)} + 0.16256 \\sin^{2}{\\left(1 \\right)} & - 0.16256 \\cos^{2}{\\left(1 \\right)} + 0.16256 \\sin^{2}{\\left(1 \\right)} & 0 & 0\\\\- 0.32512 \\sin{\\left(1 \\right)} \\cos{\\left(1 \\right)} - 0.06096 \\sin{\\left(1 \\right)} & - 0.32512 \\sin{\\left(1 \\right)} \\cos{\\left(1 \\right)} & 0 & 0\\\\0 & 0 & - 0.16256 \\cos^{2}{\\left(1 \\right)} - 0.06096 \\cos{\\left(1 \\right)} + 0.16256 \\sin^{2}{\\left(1 \\right)} & - 0.16256 \\cos^{2}{\\left(1 \\right)} + 0.16256 \\sin^{2}{\\left(1 \\right)}\\\\0 & 0 & - 0.32512 \\sin{\\left(1 \\right)} \\cos{\\left(1 \\right)} - 0.06096 \\sin{\\left(1 \\right)} & - 0.32512 \\sin{\\left(1 \\right)} \\cos{\\left(1 \\right)}\\end{matrix}\\right]$"
      ],
      "text/plain": [
       "Matrix([\n",
       "[-0.16256*cos(1)**2 - 0.06096*cos(1) + 0.16256*sin(1)**2, -0.16256*cos(1)**2 + 0.16256*sin(1)**2,                                                       0,                                      0],\n",
       "[                -0.32512*sin(1)*cos(1) - 0.06096*sin(1),                 -0.32512*sin(1)*cos(1),                                                       0,                                      0],\n",
       "[                                                      0,                                      0, -0.16256*cos(1)**2 - 0.06096*cos(1) + 0.16256*sin(1)**2, -0.16256*cos(1)**2 + 0.16256*sin(1)**2],\n",
       "[                                                      0,                                      0,                 -0.32512*sin(1)*cos(1) - 0.06096*sin(1),                 -0.32512*sin(1)*cos(1)]])"
      ]
     },
     "execution_count": 344,
     "metadata": {},
     "output_type": "execute_result"
    }
   ],
   "source": [
    "Jd = sm.diff(J, 't')\n",
    "Jd_func = sm.lambdify([q1, q2, q4, q5, q1d, q2d, q4d, q5d], Jd, modules=\"sympy\")\n",
    "Jd_func(1, 1, 1, 1, 1, 1, 1, 1)"
   ]
  },
  {
   "cell_type": "code",
   "execution_count": 345,
   "metadata": {},
   "outputs": [],
   "source": [
    "# =======================\n",
    "# x1 = q1,    x1d = q1d\n",
    "# x2 = q2,    x2d = q2d\n",
    "# x3 = q4,    x3d = q4d\n",
    "# x4 = q5.    x4d = q5d\n",
    "# =======================\n",
    "# x5 = q1d,    x5d = q1dd\n",
    "# x6 = q2d,    x6d = q2dd\n",
    "# x7 = q4d,    x7d = q4dd\n",
    "# x8 = q5d.    x8d = q5dd\n",
    "\n",
    "# declare variables\n",
    "U = u.subs(\n",
    "    {Kp: 5, Kv: 0.01, \n",
    "     \"x_desired\": -in2m(1.5), \"y_desired\": in2m(3), \n",
    "     \"xd_desired\": 0, \"yd_desired\": 0}\n",
    ")\n",
    "\n",
    "def model(t, x):\n",
    "    # unpack the vector\n",
    "    q1, q2, q4, q5, q1d, q2d, q4d, q5d = x\n",
    "    \n",
    "    # calculate current position\n",
    "    X = PNE_func(q1, q2)\n",
    "    \n",
    "    # calculate the current velocity\n",
    "    J = J_func(q1, q2, q4, q5)\n",
    "    Xd = J*sm.Matrix([q1d, q2d, q4d, q5d])\n",
    "   \n",
    "    \n",
    "    # plug into the controller\n",
    "    global U\n",
    "    u = U.subs({\"x_current\": X[0], \"y_current\": X[1],\n",
    "                \"xd_current\": Xd[0], \"yd_current\": Xd[1]})\n",
    "    \n",
    "    # create the Xdd vec\n",
    "    Xdd = sm.Matrix.vstack(u, u)\n",
    "  \n",
    "    # get qdd vals using jacobian\n",
    "    Jd = Jd_func(q1, q2, q4, q5, q1d, q2d, q4d, q5d)\n",
    "    q1dd, q2dd, q4dd, q5dd = J.inv()*(Xdd - (Jd*sm.Matrix([q1d, q2d, q4d, q5d])))\n",
    "    \n",
    "    # assign the xdot values\n",
    "    x1d, x2d, x3d, x4d = q1d, q2d, q4d, q5d\n",
    "    x5d, x6d, x7d, x8d = q1dd, q2dd, q4dd, q5dd\n",
    "    \n",
    "    return x1d, x2d, x3d, x4d, x5d, x6d, x7d, x8d"
   ]
  },
  {
   "cell_type": "code",
   "execution_count": 346,
   "metadata": {},
   "outputs": [
    {
     "name": "stdout",
     "output_type": "stream",
     "text": [
      "Attempt to step on a failed or finished solver.\n"
     ]
    }
   ],
   "source": [
    "# create and run the simulator\n",
    "ic = [pi/2, 0.68, pi/2, - 0.68, # positions\n",
    "      0, 0, 0, 0]\n",
    "simulator = RK45(\n",
    "    model,\n",
    "    0,\n",
    "    ic,\n",
    "    5\n",
    ")\n",
    "times = array([0])\n",
    "results = array(ic)\n",
    "while True:\n",
    "    try:\n",
    "        simulator.step()\n",
    "    except Exception as e:\n",
    "        print(e)\n",
    "        break\n",
    "    else:\n",
    "        times = vstack([times, simulator.t])\n",
    "        results = vstack([results, simulator.y])"
   ]
  },
  {
   "cell_type": "code",
   "execution_count": 347,
   "metadata": {},
   "outputs": [
    {
     "data": {
      "image/png": "[encoded data removed]",
      "text/plain": [
       "<Figure size 432x288 with 1 Axes>"
      ]
     },
     "metadata": {
      "needs_background": "light"
     },
     "output_type": "display_data"
    }
   ],
   "source": [
    "p1 = right_motor.masscenter.locatenew(\"p1\", bodyA.L1*bodyA.frame.x)\n",
    "p2 = p1.locatenew(\"p2\", bodyB.L1*bodyB.frame.x)\n",
    "p3 = left_motor.masscenter.locatenew(\"p3\", bodyC.L1*bodyC.frame.x)\n",
    "p4 = p3.locatenew(\"p4\", bodyD.L1*bodyD.frame.x)\n",
    "p1 = p1.pos_from(pN).to_matrix(N).row_del(-1).subs(vals)\n",
    "p2 = p2.pos_from(pN).to_matrix(N).row_del(-1).subs(vals)\n",
    "p3 = p3.pos_from(pN).to_matrix(N).row_del(-1).subs(vals)\n",
    "p4 = p4.pos_from(pN).to_matrix(N).row_del(-1).subs(vals)\n",
    "\n",
    "for i, _ in enumerate(times):\n",
    "    pa = p1.subs({q1: results[i,0]})\n",
    "    pb = p2.subs({q1: results[i,0], q2: results[i,1]})\n",
    "    pc = p3.subs({q4: results[i,2]})\n",
    "    pd = p4.subs({q4: results[i,2], q5: results[i,3]})\n",
    "    plt.plot([0, pa[0], pb[0]], [0, pa[1], pb[1]])\n",
    "    plt.plot([in2m(-4), pc[0], pd[0]], [0, pc[1], pd[1]])\n",
    "plt.grid()\n",
    "plt.title(\"task space controller\")\n",
    "plt.xlabel(\"N.x [m]\")\n",
    "plt.ylabel(\"N.y [m]\");"
   ]
  }
 ],
 "metadata": {
  "kernelspec": {
   "display_name": "Python 3",
   "language": "python",
   "name": "python3"
  },
  "language_info": {
   "codemirror_mode": {
    "name": "ipython",
    "version": 3
   },
   "file_extension": ".py",
   "mimetype": "text/x-python",
   "name": "python",
   "nbconvert_exporter": "python",
   "pygments_lexer": "ipython3",
   "version": "3.8.2"
  }
 },
 "nbformat": 4,
 "nbformat_minor": 4
}
