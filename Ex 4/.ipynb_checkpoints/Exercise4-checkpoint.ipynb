{
 "cells": [
  {
   "cell_type": "markdown",
   "metadata": {},
   "source": [
    "# Intro to Robotics: Exercise 4\n",
    "# Author: Samuel Law & Rhys Miller"
   ]
  },
  {
   "cell_type": "code",
   "execution_count": 1,
   "metadata": {},
   "outputs": [],
   "source": [
    "%reset -f"
   ]
  },
  {
   "cell_type": "code",
   "execution_count": 2,
   "metadata": {},
   "outputs": [],
   "source": [
    "%matplotlib inline"
   ]
  },
  {
   "cell_type": "code",
   "execution_count": 3,
   "metadata": {},
   "outputs": [],
   "source": [
    "import sympy as sm\n",
    "import sympy.physics.mechanics as me\n",
    "from scipy.integrate import RK45\n",
    "from scipy.optimize import fsolve\n",
    "from numpy import (array, vstack, pi, sqrt, arccos, \n",
    "                   sin, cos, linalg, linspace, sign, polyfit)\n",
    "from math import degrees\n",
    "import matplotlib.pyplot as plt"
   ]
  },
  {
   "cell_type": "markdown",
   "metadata": {},
   "source": [
    "### Kinematics"
   ]
  },
  {
   "cell_type": "code",
   "execution_count": 4,
   "metadata": {},
   "outputs": [],
   "source": [
    "# setup N frame\n",
    "N = me.ReferenceFrame(\"N\")\n",
    "pN = me.Point(\"pN\")\n",
    "pN.set_vel(N, 0)"
   ]
  },
  {
   "cell_type": "code",
   "execution_count": 5,
   "metadata": {},
   "outputs": [],
   "source": [
    "# set up constants\n",
    "g, gr, L = sm.symbols(\"g, gr, L\")"
   ]
  },
  {
   "cell_type": "code",
   "execution_count": 6,
   "metadata": {},
   "outputs": [],
   "source": [
    "# set up independent variables\n",
    "q1, q2, q4, q5, u1, u2, u4, u5 = me.dynamicsymbols(\"q1, q2, q4, q5, u1, u2, u4, u5\")\n",
    "q1d, q2d, q4d, q5d, u1d, u2d, u4d, u5d = me.dynamicsymbols(\"q1, q2, q4, q5, u1, u2, u4, u5\", 1)"
   ]
  },
  {
   "cell_type": "code",
   "execution_count": 7,
   "metadata": {},
   "outputs": [],
   "source": [
    "# set up dependent variables which are the gears\n",
    "q0, q3 = -q1*gr, -q4*gr\n",
    "u0, u3 = -u1*gr, -u4*gr\n",
    "q0d, q3d = -q1d*gr, -q4d*gr\n",
    "u0d, u3d = -u1d*gr, -u4d*gr"
   ]
  },
  {
   "cell_type": "code",
   "execution_count": 8,
   "metadata": {},
   "outputs": [],
   "source": [
    "# create dict for use when generating ccode\n",
    "var2sym = {\n",
    "    # positions\n",
    "    q1: sm.Symbol(\"q1\"),\n",
    "    q2: sm.Symbol(\"q2\"),\n",
    "    q4: sm.Symbol(\"q4\"),\n",
    "    q5: sm.Symbol(\"q5\"),\n",
    "    # position derivatives\n",
    "    q1d: sm.Symbol(\"q1d\"),\n",
    "    q2d: sm.Symbol(\"q2d\"),\n",
    "    q4d: sm.Symbol(\"q4d\"),\n",
    "    q5d: sm.Symbol(\"q5d\"),\n",
    "    # velocities\n",
    "    u1: sm.Symbol(\"u1\"),\n",
    "    u2: sm.Symbol(\"u2\"),\n",
    "    u4: sm.Symbol(\"u4\"),\n",
    "    u5: sm.Symbol(\"u5\"),\n",
    "    # velocity derivatives\n",
    "    u1d: sm.Symbol(\"u1d\"),\n",
    "    u2d: sm.Symbol(\"u2d\"),\n",
    "    u4d: sm.Symbol(\"u4d\"),\n",
    "    u5d: sm.Symbol(\"u5d\"),\n",
    "}"
   ]
  },
  {
   "cell_type": "code",
   "execution_count": 9,
   "metadata": {},
   "outputs": [],
   "source": [
    "# set up the motor bodies\n",
    "right_motor = me.Body(\n",
    "    name = \"motorR\",\n",
    "    frame = N.orientnew(\"R\", \"axis\", (q0, N.z)),\n",
    "    masscenter = pN.locatenew(\"motorR_COM\", 0)\n",
    ")\n",
    "left_motor = me.Body(\n",
    "    name = \"motorL\",\n",
    "    frame = N.orientnew(\"L\", \"axis\", (q3, N.z)),\n",
    "    masscenter = pN.locatenew(\"motorL_COM\", -L*N.x)\n",
    ")"
   ]
  },
  {
   "cell_type": "code",
   "execution_count": 10,
   "metadata": {},
   "outputs": [],
   "source": [
    "# set up the link bodies\n",
    "bodyA = me.Body(\n",
    "    name = \"bodyA\",\n",
    "    frame = N.orientnew(\"A\", \"axis\", (q1, N.z))\n",
    ")\n",
    "bodyB = me.Body(\n",
    "    name = \"bodyB\",\n",
    "    frame = bodyA.frame.orientnew(\"B\", \"axis\", (q2, bodyA.frame.z))\n",
    ")\n",
    "bodyC = me.Body(\n",
    "    name = \"bodyC\",\n",
    "    frame = N.orientnew(\"C\", \"axis\", (q4, N.z))\n",
    ")\n",
    "bodyD = me.Body(\n",
    "    name = \"bodyD\",\n",
    "    frame = bodyC.frame.orientnew(\"D\", \"axis\", (q5, bodyC.frame.z))\n",
    ")"
   ]
  },
  {
   "cell_type": "code",
   "execution_count": 11,
   "metadata": {},
   "outputs": [],
   "source": [
    "# define the link lengths\n",
    "bodyA.L1, bodyA.L2 = sm.symbols(\"LA_1, LA_2\")\n",
    "bodyB.L1, bodyB.L2 = sm.symbols(\"LB_1, LB_2\")\n",
    "bodyC.L1, bodyC.L2 = sm.symbols(\"LC_1, LC_2\")\n",
    "bodyD.L1, bodyD.L2 = sm.symbols(\"LD_1, LD_2\")\n",
    "\n",
    "# define the COM lengths\n",
    "bodyA.L = sm.symbols(\"LA_COM\")\n",
    "bodyB.L = sm.symbols(\"LB_COM\")\n",
    "bodyC.L = sm.symbols(\"LC_COM\")\n",
    "bodyD.L = sm.symbols(\"LD_COM\")"
   ]
  },
  {
   "cell_type": "code",
   "execution_count": 12,
   "metadata": {},
   "outputs": [],
   "source": [
    "# set all the positions\n",
    "bodyA.masscenter = pN.locatenew(\"pA\", bodyA.L*bodyA.frame.x)\n",
    "bodyB.masscenter = pN.locatenew(\"pB\", (bodyA.L1*bodyA.frame.x) + (bodyB.L*bodyB.frame.x))\n",
    "bodyC.masscenter = left_motor.masscenter.locatenew(\"pC\", bodyC.L*bodyC.frame.x)\n",
    "bodyD.masscenter = left_motor.masscenter.locatenew(\"pD\", (bodyC.L1*bodyC.frame.x) + (bodyD.L*bodyD.frame.x))"
   ]
  },
  {
   "cell_type": "code",
   "execution_count": 13,
   "metadata": {},
   "outputs": [],
   "source": [
    "# set all the velocities\n",
    "right_motor.masscenter.set_vel(N, 0)\n",
    "left_motor.masscenter.set_vel(N, 0)\n",
    "bodyA.masscenter.set_vel(N, bodyA.masscenter.pos_from(pN).dt(N))\n",
    "bodyB.masscenter.set_vel(N, bodyB.masscenter.pos_from(pN).dt(N))\n",
    "bodyC.masscenter.set_vel(N, bodyC.masscenter.pos_from(pN).dt(N))\n",
    "bodyD.masscenter.set_vel(N, bodyD.masscenter.pos_from(pN).dt(N))"
   ]
  },
  {
   "cell_type": "code",
   "execution_count": 14,
   "metadata": {},
   "outputs": [],
   "source": [
    "# set all the accelerations\n",
    "bodyA.masscenter.set_acc(N, bodyA.masscenter.vel(N).dt(N))\n",
    "bodyB.masscenter.set_acc(N, bodyB.masscenter.vel(N).dt(N))\n",
    "bodyC.masscenter.set_acc(N, bodyC.masscenter.vel(N).dt(N))"
   ]
  },
  {
   "cell_type": "code",
   "execution_count": 15,
   "metadata": {},
   "outputs": [],
   "source": [
    "# define the independent coordinates\n",
    "q_ind = [q1, q4]\n",
    "q_dep = [q2, q5]\n",
    "u_ind = [u1, u4]\n",
    "u_dep = [u2, u5]\n",
    "\n",
    "# and the kinematic differential equations\n",
    "kde = [\n",
    "    [q1d - u1],\n",
    "    [q2d - u2],\n",
    "    [q4d - u4],\n",
    "    [q5d - u5],\n",
    "]\n",
    "\n",
    "# and create the vector loop equations\n",
    "zero = pN.locatenew(\n",
    "    \"zero\", \n",
    "    bodyA.L1*bodyA.frame.x + bodyB.L1*bodyB.frame.x - \\\n",
    "    bodyC.L1*bodyC.frame.x - bodyD.L1*bodyD.frame.x - L*N.x\n",
    ")\n",
    "\n",
    "pos_constraints = [zero.pos_from(pN).dot(N.x), \n",
    "                   zero.pos_from(pN).dot(N.y)]\n",
    "vel_constraints = [zero.pos_from(pN).dt(N).dot(N.x), \n",
    "                   zero.pos_from(pN).dt(N).dot(N.y)]"
   ]
  },
  {
   "cell_type": "code",
   "execution_count": 16,
   "metadata": {},
   "outputs": [],
   "source": [
    "KM = me.KanesMethod(\n",
    "    frame = N, \n",
    "    q_ind = q_ind,\n",
    "    u_ind = u_ind,\n",
    "    kd_eqs = kde,\n",
    "    q_dependent = q_dep,\n",
    "    configuration_constraints = pos_constraints,\n",
    "    u_dependent = u_dep,\n",
    "    velocity_constraints = vel_constraints\n",
    ")"
   ]
  },
  {
   "cell_type": "markdown",
   "metadata": {},
   "source": [
    "### Dynamics"
   ]
  },
  {
   "cell_type": "code",
   "execution_count": 17,
   "metadata": {},
   "outputs": [],
   "source": [
    "# define the loads\n",
    "tau1, tau2 = sm.symbols(\"tau1, tau2\")\n",
    "loads = [\n",
    "    # point/frame, force/moment\n",
    "    (right_motor.masscenter, right_motor.mass*g*-N.z),\n",
    "    (left_motor.masscenter, left_motor.mass*g*-N.z),\n",
    "    (bodyA.masscenter, bodyA.mass*g*-N.z),\n",
    "    (bodyB.masscenter, bodyB.mass*g*-N.z),\n",
    "    (bodyC.masscenter, bodyC.mass*g*-N.z),\n",
    "    (bodyD.masscenter, bodyD.mass*g*-N.z),\n",
    "    (bodyA.frame, tau1*right_motor.frame.z),\n",
    "    (bodyC.frame, tau2*left_motor.frame.z),\n",
    "]\n",
    "# define the bodies\n",
    "bodies = [right_motor, bodyA, bodyB, left_motor, bodyC, bodyD]"
   ]
  },
  {
   "cell_type": "code",
   "execution_count": 18,
   "metadata": {},
   "outputs": [
    {
     "data": {
      "text/plain": [
       "((2, 1), (2, 1))"
      ]
     },
     "execution_count": 18,
     "metadata": {},
     "output_type": "execute_result"
    }
   ],
   "source": [
    "Fr, Fr_star = KM.kanes_equations(bodies, loads)\n",
    "Fr.shape, Fr_star.shape"
   ]
  },
  {
   "cell_type": "code",
   "execution_count": 19,
   "metadata": {},
   "outputs": [],
   "source": [
    "in2m = lambda x: x*25.4/1000\n",
    "vals = {\n",
    "    # constants\n",
    "    g: 9.81,               # N*m\n",
    "    L: in2m(4),            # m\n",
    "    gr: 144,               # a.u.\n",
    "    # joint c-c\n",
    "    bodyA.L1: in2m(2.4),   # m\n",
    "    bodyC.L1: in2m(2.4),   # m\n",
    "    bodyB.L1: in2m(3.2),   # m\n",
    "    bodyD.L1: in2m(3.2),   # m\n",
    "    # com properties\n",
    "    bodyA.L: 0.027,        # m\n",
    "    bodyC.L: 0.027,        # m\n",
    "    bodyB.L: 0.04,         # m\n",
    "    bodyD.L: 0.04,         # m\n",
    "    # masses\n",
    "    bodyA.mass: 0.007,     # kg\n",
    "    bodyC.mass: 0.007,     # kg \n",
    "    bodyB.mass: 0.008,     # kg\n",
    "    bodyD.mass: 0.008,     # kg\n",
    "    # moments of inertia \n",
    "    \"bodyA_izz\": 6.39e-6,  # kg m^2\n",
    "    \"bodyC_izz\": 6.39e-6,  # kg m^2\n",
    "    \"bodyB_izz\": 1.01e-5,  # kg m^2\n",
    "    \"bodyD_izz\": 1.01e-5,  # kg m^2\n",
    "    \"motorR_izz\": 3.3e-7,  # kg m^2\n",
    "    \"motorL_izz\": 3.3e-7,  # kg m^2\n",
    "}"
   ]
  },
  {
   "cell_type": "markdown",
   "metadata": {},
   "source": [
    "### Code Capture & Function Generation"
   ]
  },
  {
   "cell_type": "code",
   "execution_count": 20,
   "metadata": {},
   "outputs": [
    {
     "data": {
      "text/plain": [
       "(array([[-85974703.6102171 ],\n",
       "        [ 85974703.81021719],\n",
       "        [        0.        ],\n",
       "        [        0.        ]]),\n",
       " array([[ 9.33921195e+10,  9.33921195e+10,  5.05481544e+10,\n",
       "          5.05481544e+10],\n",
       "        [-9.33921195e+10, -9.33921195e+10, -5.05481544e+10,\n",
       "         -5.05481544e+10],\n",
       "        [-2.22336883e-02,  2.22336883e-02, -1.61478432e-02,\n",
       "          1.61478432e-02],\n",
       "        [ 1.40315265e-01, -1.40315265e-01,  7.96598114e-02,\n",
       "         -7.96598114e-02]]))"
      ]
     },
     "execution_count": 20,
     "metadata": {},
     "output_type": "execute_result"
    }
   ],
   "source": [
    "# create python callable for qdd vec based on forcing matrix\n",
    "FM = KM.forcing.subs(vals)\n",
    "MM = KM.mass_matrix.subs(vals)\n",
    "FM = me.msubs(FM, {q1d: u1, q2d: u2, q4d: u4, q5d: u5})\n",
    "FM_func = sm.lambdify([q1, q2, q4, q5, u1, u2, u4, u5, tau1, tau2], FM, modules=\"numpy\")\n",
    "MM_func = sm.lambdify([q1, q2, q4, q5], MM, modules=\"numpy\")\n",
    "FM_func(*[0.1]*10), MM_func(*[0.1]*4)"
   ]
  },
  {
   "cell_type": "code",
   "execution_count": 21,
   "metadata": {},
   "outputs": [],
   "source": [
    "# create container to capture auto generated c code\n",
    "c_code = {}\n",
    "# save off expression for tau1 and tau2 in c code\n",
    "c_code[\"tau1\"] = sm.ccode(me.msubs(Fr_star[0], var2sym))\n",
    "c_code[\"tau2\"] = sm.ccode(me.msubs(Fr_star[1], var2sym))"
   ]
  },
  {
   "cell_type": "code",
   "execution_count": 22,
   "metadata": {},
   "outputs": [
    {
     "data": {
      "text/plain": [
       "array([[-2.88740295e+10],\n",
       "       [ 2.88740295e+10]])"
      ]
     },
     "execution_count": 22,
     "metadata": {},
     "output_type": "execute_result"
    }
   ],
   "source": [
    "# create python callable for tau1 and tau2\n",
    "tau_func = sm.lambdify([q1, q2, q4, q5, u1, u2, u4, u5, u1d, u2d, u4d, u5d], Fr_star.subs(vals))\n",
    "tau_func(*[0.1]*12)"
   ]
  },
  {
   "cell_type": "code",
   "execution_count": 23,
   "metadata": {},
   "outputs": [],
   "source": [
    "# create the position matrix\n",
    "pE = pN.locatenew(\"pE\", (bodyA.L1*bodyA.frame.x) + (bodyB.L1*bodyB.frame.x))\n",
    "PNE = (pE.pos_from(pN).to_matrix(N))\n",
    "PNE = PNE.row_del(-1)\n",
    "c_code[\"x_current\"] = sm.ccode(me.msubs(PNE[0], var2sym))\n",
    "c_code[\"y_current\"] = sm.ccode(me.msubs(PNE[1], var2sym))"
   ]
  },
  {
   "cell_type": "code",
   "execution_count": 24,
   "metadata": {},
   "outputs": [
    {
     "data": {
      "text/latex": [
       "$\\displaystyle \\left[\\begin{matrix}0.14224\\\\0\\end{matrix}\\right]$"
      ],
      "text/plain": [
       "Matrix([\n",
       "[0.14224],\n",
       "[      0]])"
      ]
     },
     "execution_count": 24,
     "metadata": {},
     "output_type": "execute_result"
    }
   ],
   "source": [
    "# create callable for the simulation\n",
    "PNE = PNE.subs(vals)\n",
    "PNE_func = sm.lambdify([q1, q2], PNE, modules=\"sympy\")\n",
    "PNE_func(0, 0)"
   ]
  },
  {
   "cell_type": "code",
   "execution_count": 25,
   "metadata": {},
   "outputs": [],
   "source": [
    "# create velocity matrix\n",
    "VNE = pE.pos_from(pN).dt(N).to_matrix(N)\n",
    "VNE = VNE.row_del(-1)\n",
    "# save off the expressions in c-code\n",
    "c_code[\"xd_current\"] = sm.ccode(me.msubs(VNE[0], var2sym))\n",
    "c_code[\"yd_current\"] = sm.ccode(me.msubs(VNE[1], var2sym))"
   ]
  },
  {
   "cell_type": "code",
   "execution_count": 26,
   "metadata": {},
   "outputs": [
    {
     "data": {
      "text/latex": [
       "$\\displaystyle \\left[\\begin{matrix}0\\\\0.14224\\end{matrix}\\right]$"
      ],
      "text/plain": [
       "Matrix([\n",
       "[      0],\n",
       "[0.14224]])"
      ]
     },
     "execution_count": 26,
     "metadata": {},
     "output_type": "execute_result"
    }
   ],
   "source": [
    "# create the python callable\n",
    "VNE = VNE.subs(vals)\n",
    "VNE_func = sm.lambdify([q1, q2, q1d, q2d], VNE, modules=\"sympy\")\n",
    "VNE_func(0, 0, 1, 0)"
   ]
  },
  {
   "cell_type": "code",
   "execution_count": 27,
   "metadata": {},
   "outputs": [
    {
     "data": {
      "text/latex": [
       "$\\displaystyle \\left[\\begin{matrix}Kp \\left(- x_{current} + x_{desired}\\right) + Kv \\left(- xd_{current} + xd_{desired}\\right)\\\\Kp \\left(- y_{current} + y_{desired}\\right) + Kv \\left(- yd_{current} + yd_{desired}\\right)\\end{matrix}\\right]$"
      ],
      "text/plain": [
       "Matrix([\n",
       "[Kp*(-x_current + x_desired) + Kv*(-xd_current + xd_desired)],\n",
       "[Kp*(-y_current + y_desired) + Kv*(-yd_current + yd_desired)]])"
      ]
     },
     "execution_count": 27,
     "metadata": {},
     "output_type": "execute_result"
    }
   ],
   "source": [
    "# create the task space controller\n",
    "Kp, Kv = sm.symbols(\"Kp, Kv\")\n",
    "X_current = sm.Matrix(sm.symbols(\"x_current, y_current\"))\n",
    "Xd_current = sm.Matrix(sm.symbols(\"xd_current, yd_current\"))\n",
    "X_desired = sm.Matrix(sm.symbols(\"x_desired, y_desired\"))\n",
    "Xd_desired = sm.Matrix(sm.symbols(\"xd_desired, yd_desired\"))\n",
    "u = (Kv*(Xd_desired - Xd_current)) + (Kp*(X_desired - X_current))\n",
    "u"
   ]
  },
  {
   "cell_type": "code",
   "execution_count": 28,
   "metadata": {},
   "outputs": [],
   "source": [
    "# save off the controller code in c\n",
    "c_code[\"xdd_desired\"] = sm.ccode(me.msubs(u[0], var2sym))\n",
    "c_code[\"ydd_desired\"] = sm.ccode(me.msubs(u[1], var2sym))"
   ]
  },
  {
   "cell_type": "code",
   "execution_count": 29,
   "metadata": {},
   "outputs": [
    {
     "data": {
      "text/plain": [
       "((2, 2), (2, 2), (4, 4))"
      ]
     },
     "execution_count": 29,
     "metadata": {},
     "output_type": "execute_result"
    }
   ],
   "source": [
    "# get the positions\n",
    "pE_rhs = right_motor.masscenter.locatenew(\"pE_rhs\", (bodyA.L1*bodyA.frame.x) + (bodyB.L1*bodyB.frame.x))\n",
    "pE_lhs = left_motor.masscenter.locatenew(\"pE_lhs\", (bodyC.L1*bodyC.frame.x) + (bodyD.L1*bodyD.frame.x))\n",
    "\n",
    "# create the 2x2 matrix\n",
    "M_rhs = pE_rhs.pos_from(pN).dt(N).to_matrix(N)\n",
    "M_lhs = pE_lhs.pos_from(pN).dt(N).to_matrix(N)\n",
    "M_rhs = M_rhs.subs(vals)\n",
    "M_lhs = M_lhs.subs(vals)\n",
    "M_rhs = M_rhs.row_del(-1)\n",
    "M_lhs = M_lhs.row_del(-1)\n",
    "M = sm.Matrix.vstack(M_rhs, M_lhs)\n",
    "\n",
    "# create the jacobains\n",
    "X_rhs = sm.Matrix([q1d, q2d])\n",
    "X_lhs = sm.Matrix([q4d, q5d])\n",
    "X = sm.Matrix([q1d, q2d, q4d, q5d])\n",
    "J_rhs = M_rhs.jacobian(X_rhs)\n",
    "J_lhs = M_lhs.jacobian(X_lhs)\n",
    "J = M.jacobian(X)\n",
    "J_rhs.shape, J_lhs.shape, J.shape"
   ]
  },
  {
   "cell_type": "code",
   "execution_count": 30,
   "metadata": {},
   "outputs": [],
   "source": [
    "# extract the Jacobina c++ code\n",
    "rows, cols = J.shape\n",
    "for r in range(rows):\n",
    "    for c in range(cols):\n",
    "        c_code[f\"J({r},{c})\"] = J[r, c]"
   ]
  },
  {
   "cell_type": "code",
   "execution_count": 31,
   "metadata": {},
   "outputs": [
    {
     "data": {
      "text/latex": [
       "$\\displaystyle \\left[\\begin{matrix}- 0.16256 \\sin{\\left(1 \\right)} \\cos{\\left(1 \\right)} - 0.06096 \\sin{\\left(1 \\right)} & - 0.16256 \\sin{\\left(1 \\right)} \\cos{\\left(1 \\right)} & 0 & 0\\\\- 0.08128 \\sin^{2}{\\left(1 \\right)} + 0.08128 \\cos^{2}{\\left(1 \\right)} + 0.06096 \\cos{\\left(1 \\right)} & - 0.08128 \\sin^{2}{\\left(1 \\right)} + 0.08128 \\cos^{2}{\\left(1 \\right)} & 0 & 0\\\\0 & 0 & - 0.16256 \\sin{\\left(1 \\right)} \\cos{\\left(1 \\right)} - 0.06096 \\sin{\\left(1 \\right)} & - 0.16256 \\sin{\\left(1 \\right)} \\cos{\\left(1 \\right)}\\\\0 & 0 & - 0.08128 \\sin^{2}{\\left(1 \\right)} + 0.08128 \\cos^{2}{\\left(1 \\right)} + 0.06096 \\cos{\\left(1 \\right)} & - 0.08128 \\sin^{2}{\\left(1 \\right)} + 0.08128 \\cos^{2}{\\left(1 \\right)}\\end{matrix}\\right]$"
      ],
      "text/plain": [
       "Matrix([\n",
       "[                -0.16256*sin(1)*cos(1) - 0.06096*sin(1),                 -0.16256*sin(1)*cos(1),                                                       0,                                      0],\n",
       "[-0.08128*sin(1)**2 + 0.08128*cos(1)**2 + 0.06096*cos(1), -0.08128*sin(1)**2 + 0.08128*cos(1)**2,                                                       0,                                      0],\n",
       "[                                                      0,                                      0,                 -0.16256*sin(1)*cos(1) - 0.06096*sin(1),                 -0.16256*sin(1)*cos(1)],\n",
       "[                                                      0,                                      0, -0.08128*sin(1)**2 + 0.08128*cos(1)**2 + 0.06096*cos(1), -0.08128*sin(1)**2 + 0.08128*cos(1)**2]])"
      ]
     },
     "execution_count": 31,
     "metadata": {},
     "output_type": "execute_result"
    }
   ],
   "source": [
    "# create jocobain python callable\n",
    "J_func = sm.lambdify([q1, q2, q4, q5], J, modules=\"sympy\")\n",
    "J_func(1, 1, 1, 1)"
   ]
  },
  {
   "cell_type": "code",
   "execution_count": 32,
   "metadata": {},
   "outputs": [],
   "source": [
    "# create the jacobian derivative\n",
    "Jd = sm.diff(J, 't')\n",
    "\n",
    "# collect the jacobian derivative in c code\n",
    "rows, cols = Jd.shape\n",
    "for r in range(rows):\n",
    "    for c in range(cols):\n",
    "        c_code[f\"J({r},{c})\"] = Jd[r, c]"
   ]
  },
  {
   "cell_type": "code",
   "execution_count": 33,
   "metadata": {},
   "outputs": [
    {
     "data": {
      "text/latex": [
       "$\\displaystyle \\left[\\begin{matrix}- 0.16256 \\cos^{2}{\\left(1 \\right)} - 0.06096 \\cos{\\left(1 \\right)} + 0.16256 \\sin^{2}{\\left(1 \\right)} & - 0.16256 \\cos^{2}{\\left(1 \\right)} + 0.16256 \\sin^{2}{\\left(1 \\right)} & 0 & 0\\\\- 0.32512 \\sin{\\left(1 \\right)} \\cos{\\left(1 \\right)} - 0.06096 \\sin{\\left(1 \\right)} & - 0.32512 \\sin{\\left(1 \\right)} \\cos{\\left(1 \\right)} & 0 & 0\\\\0 & 0 & - 0.16256 \\cos^{2}{\\left(1 \\right)} - 0.06096 \\cos{\\left(1 \\right)} + 0.16256 \\sin^{2}{\\left(1 \\right)} & - 0.16256 \\cos^{2}{\\left(1 \\right)} + 0.16256 \\sin^{2}{\\left(1 \\right)}\\\\0 & 0 & - 0.32512 \\sin{\\left(1 \\right)} \\cos{\\left(1 \\right)} - 0.06096 \\sin{\\left(1 \\right)} & - 0.32512 \\sin{\\left(1 \\right)} \\cos{\\left(1 \\right)}\\end{matrix}\\right]$"
      ],
      "text/plain": [
       "Matrix([\n",
       "[-0.16256*cos(1)**2 - 0.06096*cos(1) + 0.16256*sin(1)**2, -0.16256*cos(1)**2 + 0.16256*sin(1)**2,                                                       0,                                      0],\n",
       "[                -0.32512*sin(1)*cos(1) - 0.06096*sin(1),                 -0.32512*sin(1)*cos(1),                                                       0,                                      0],\n",
       "[                                                      0,                                      0, -0.16256*cos(1)**2 - 0.06096*cos(1) + 0.16256*sin(1)**2, -0.16256*cos(1)**2 + 0.16256*sin(1)**2],\n",
       "[                                                      0,                                      0,                 -0.32512*sin(1)*cos(1) - 0.06096*sin(1),                 -0.32512*sin(1)*cos(1)]])"
      ]
     },
     "execution_count": 33,
     "metadata": {},
     "output_type": "execute_result"
    }
   ],
   "source": [
    "# create the jacobian derivative python callable\n",
    "Jd_func = sm.lambdify([q1, q2, q4, q5, q1d, q2d, q4d, q5d], Jd, modules=\"sympy\")\n",
    "Jd_func(1, 1, 1, 1, 1, 1, 1, 1)"
   ]
  },
  {
   "cell_type": "markdown",
   "metadata": {},
   "source": [
    "### Inverse Kinematics"
   ]
  },
  {
   "cell_type": "code",
   "execution_count": 34,
   "metadata": {},
   "outputs": [
    {
     "data": {
      "text/latex": [
       "$\\displaystyle \\operatorname{acos}{\\left(\\frac{\\sqrt{L^{2} + 2 L LA_{1} \\cos{\\left(\\operatorname{q_{1}}{\\left(t \\right)} \\right)} - 2 L LC_{1} \\cos{\\left(\\operatorname{q_{4}}{\\left(t \\right)} \\right)} + LA_{1}^{2} - 2 LA_{1} LC_{1} \\left(\\sin{\\left(\\operatorname{q_{1}}{\\left(t \\right)} \\right)} \\sin{\\left(\\operatorname{q_{4}}{\\left(t \\right)} \\right)} + \\cos{\\left(\\operatorname{q_{1}}{\\left(t \\right)} \\right)} \\cos{\\left(\\operatorname{q_{4}}{\\left(t \\right)} \\right)}\\right) + LC_{1}^{2}}}{2 LB_{1}} \\right)}$"
      ],
      "text/plain": [
       "acos(sqrt(L**2 + 2*L*LA_1*cos(q1(t)) - 2*L*LC_1*cos(q4(t)) + LA_1**2 - 2*LA_1*LC_1*(sin(q1(t))*sin(q4(t)) + cos(q1(t))*cos(q4(t))) + LC_1**2)/(2*LB_1))"
      ]
     },
     "execution_count": 34,
     "metadata": {},
     "output_type": "execute_result"
    }
   ],
   "source": [
    "# create length vectors\n",
    "p1 = right_motor.masscenter.locatenew(\"p1\", bodyA.L1*bodyA.frame.x)\n",
    "p2 = left_motor.masscenter.locatenew(\"p2\", bodyC.L1*bodyC.frame.x)\n",
    "\n",
    "# calculate gamma using the law of cosines\n",
    "W = p2.pos_from(p1)\n",
    "gamma = sm.acos(W.magnitude()/(2*bodyB.L1))\n",
    "\n",
    "# collect the exprssion for gamma in c code\n",
    "c_code[\"gamma\"] = sm.ccode(me.msubs(gamma, var2sym))\n",
    "gamma"
   ]
  },
  {
   "cell_type": "code",
   "execution_count": 35,
   "metadata": {},
   "outputs": [
    {
     "data": {
      "text/plain": [
       "0.8956647938578651"
      ]
     },
     "execution_count": 35,
     "metadata": {},
     "output_type": "execute_result"
    }
   ],
   "source": [
    "# substitute in numerical values\n",
    "gamma = gamma.subs(vals)\n",
    "\n",
    "# create gamma python callable\n",
    "gamma_func = sm.lambdify([q1, q4], gamma, modules=\"numpy\")\n",
    "gamma_func(pi/2, pi/2)"
   ]
  },
  {
   "cell_type": "code",
   "execution_count": 36,
   "metadata": {},
   "outputs": [
    {
     "data": {
      "text/latex": [
       "$\\displaystyle \\operatorname{acos}{\\left(\\frac{L LA_{1} \\cos{\\left(\\operatorname{q_{1}}{\\left(t \\right)} \\right)} + LA_{1}^{2} - LA_{1} LC_{1} \\left(\\sin{\\left(\\operatorname{q_{1}}{\\left(t \\right)} \\right)} \\sin{\\left(\\operatorname{q_{4}}{\\left(t \\right)} \\right)} + \\cos{\\left(\\operatorname{q_{1}}{\\left(t \\right)} \\right)} \\cos{\\left(\\operatorname{q_{4}}{\\left(t \\right)} \\right)}\\right)}{\\sqrt{L^{2} + 2 L LA_{1} \\cos{\\left(\\operatorname{q_{1}}{\\left(t \\right)} \\right)} - 2 L LC_{1} \\cos{\\left(\\operatorname{q_{4}}{\\left(t \\right)} \\right)} + LA_{1}^{2} - 2 LA_{1} LC_{1} \\left(\\sin{\\left(\\operatorname{q_{1}}{\\left(t \\right)} \\right)} \\sin{\\left(\\operatorname{q_{4}}{\\left(t \\right)} \\right)} + \\cos{\\left(\\operatorname{q_{1}}{\\left(t \\right)} \\right)} \\cos{\\left(\\operatorname{q_{4}}{\\left(t \\right)} \\right)}\\right) + LC_{1}^{2}} \\sqrt{LA_{1}^{2}}} \\right)}$"
      ],
      "text/plain": [
       "acos((L*LA_1*cos(q1(t)) + LA_1**2 - LA_1*LC_1*(sin(q1(t))*sin(q4(t)) + cos(q1(t))*cos(q4(t))))/(sqrt(L**2 + 2*L*LA_1*cos(q1(t)) - 2*L*LC_1*cos(q4(t)) + LA_1**2 - 2*LA_1*LC_1*(sin(q1(t))*sin(q4(t)) + cos(q1(t))*cos(q4(t))) + LC_1**2)*sqrt(LA_1**2)))"
      ]
     },
     "execution_count": 36,
     "metadata": {},
     "output_type": "execute_result"
    }
   ],
   "source": [
    "# create expression for alpha1\n",
    "alpha1 = sm.acos(W.dot(-p1.pos_from(right_motor.masscenter))/(W.magnitude()*p1.pos_from(right_motor.masscenter).magnitude()) )\n",
    "# save expression for alpha1 in c code\n",
    "c_code[\"alpha1\"] = sm.ccode(me.msubs(alpha1, var2sym))\n",
    "alpha1"
   ]
  },
  {
   "cell_type": "code",
   "execution_count": 37,
   "metadata": {},
   "outputs": [
    {
     "data": {
      "text/latex": [
       "$\\displaystyle \\operatorname{acos}{\\left(\\frac{123.111071230235 \\left(- 0.0037161216 \\sin{\\left(\\operatorname{q_{1}}{\\left(t \\right)} \\right)} \\sin{\\left(\\operatorname{q_{4}}{\\left(t \\right)} \\right)} - 0.0037161216 \\cos{\\left(\\operatorname{q_{1}}{\\left(t \\right)} \\right)} \\cos{\\left(\\operatorname{q_{4}}{\\left(t \\right)} \\right)} + 0.006193536 \\cos{\\left(\\operatorname{q_{1}}{\\left(t \\right)} \\right)} + 0.0037161216\\right)}{\\sqrt{- 0.418604651162791 \\sin{\\left(\\operatorname{q_{1}}{\\left(t \\right)} \\right)} \\sin{\\left(\\operatorname{q_{4}}{\\left(t \\right)} \\right)} - 0.418604651162791 \\cos{\\left(\\operatorname{q_{1}}{\\left(t \\right)} \\right)} \\cos{\\left(\\operatorname{q_{4}}{\\left(t \\right)} \\right)} + 0.697674418604651 \\cos{\\left(\\operatorname{q_{1}}{\\left(t \\right)} \\right)} - 0.697674418604651 \\cos{\\left(\\operatorname{q_{4}}{\\left(t \\right)} \\right)} + 1}} \\right)}$"
      ],
      "text/plain": [
       "acos(123.111071230235*(-0.0037161216*sin(q1(t))*sin(q4(t)) - 0.0037161216*cos(q1(t))*cos(q4(t)) + 0.006193536*cos(q1(t)) + 0.0037161216)/sqrt(-0.418604651162791*sin(q1(t))*sin(q4(t)) - 0.418604651162791*cos(q1(t))*cos(q4(t)) + 0.697674418604651*cos(q1(t)) - 0.697674418604651*cos(q4(t)) + 1))"
      ]
     },
     "execution_count": 37,
     "metadata": {},
     "output_type": "execute_result"
    }
   ],
   "source": [
    "# sub in numbers\n",
    "alpha1 = alpha1.subs(vals)\n",
    "alpha1"
   ]
  },
  {
   "cell_type": "code",
   "execution_count": 38,
   "metadata": {},
   "outputs": [
    {
     "data": {
      "text/latex": [
       "$\\displaystyle \\operatorname{q_{1}}{\\left(t \\right)} - \\operatorname{q_{4}}{\\left(t \\right)} - \\operatorname{acos}{\\left(\\frac{123.111071230235 \\left(- 0.0037161216 \\sin{\\left(\\operatorname{q_{1}}{\\left(t \\right)} \\right)} \\sin{\\left(\\operatorname{q_{4}}{\\left(t \\right)} \\right)} - 0.0037161216 \\cos{\\left(\\operatorname{q_{1}}{\\left(t \\right)} \\right)} \\cos{\\left(\\operatorname{q_{4}}{\\left(t \\right)} \\right)} + 0.006193536 \\cos{\\left(\\operatorname{q_{1}}{\\left(t \\right)} \\right)} + 0.0037161216\\right)}{\\sqrt{- 0.418604651162791 \\sin{\\left(\\operatorname{q_{1}}{\\left(t \\right)} \\right)} \\sin{\\left(\\operatorname{q_{4}}{\\left(t \\right)} \\right)} - 0.418604651162791 \\cos{\\left(\\operatorname{q_{1}}{\\left(t \\right)} \\right)} \\cos{\\left(\\operatorname{q_{4}}{\\left(t \\right)} \\right)} + 0.697674418604651 \\cos{\\left(\\operatorname{q_{1}}{\\left(t \\right)} \\right)} - 0.697674418604651 \\cos{\\left(\\operatorname{q_{4}}{\\left(t \\right)} \\right)} + 1}} \\right)} + \\pi$"
      ],
      "text/plain": [
       "q1(t) - q4(t) - acos(123.111071230235*(-0.0037161216*sin(q1(t))*sin(q4(t)) - 0.0037161216*cos(q1(t))*cos(q4(t)) + 0.006193536*cos(q1(t)) + 0.0037161216)/sqrt(-0.418604651162791*sin(q1(t))*sin(q4(t)) - 0.418604651162791*cos(q1(t))*cos(q4(t)) + 0.697674418604651*cos(q1(t)) - 0.697674418604651*cos(q4(t)) + 1)) + pi"
      ]
     },
     "execution_count": 38,
     "metadata": {},
     "output_type": "execute_result"
    }
   ],
   "source": [
    "# create expression for alpha2\n",
    "alpha2 = q1 - q4 - alpha1 + sm.pi\n",
    "# save off expression in c code\n",
    "c_code[\"alpha2\"] = sm.ccode(me.msubs(alpha2, var2sym))\n",
    "alpha2"
   ]
  },
  {
   "cell_type": "code",
   "execution_count": 39,
   "metadata": {},
   "outputs": [
    {
     "data": {
      "text/plain": [
       "[1.5707963267948966, 1.5707963267948966]"
      ]
     },
     "execution_count": 39,
     "metadata": {},
     "output_type": "execute_result"
    }
   ],
   "source": [
    "# create python callables for alpha1 and alpha2\n",
    "alpha_func = sm.lambdify([q1, q4], [alpha1, alpha2], modules=\"numpy\")\n",
    "alpha_func(pi/2, pi/2)"
   ]
  },
  {
   "cell_type": "code",
   "execution_count": 40,
   "metadata": {},
   "outputs": [
    {
     "data": {
      "text/plain": [
       "{Derivative(q2(t), t): 0.25*(3.0*sin(-q1(t) + q4(t) + q5(t))*Derivative(q1(t), t) - 4.0*sin(q1(t) + q2(t) - q4(t) - q5(t))*Derivative(q1(t), t) - 3.0*sin(q5(t))*Derivative(q4(t), t))/sin(q1(t) + q2(t) - q4(t) - q5(t)),\n",
       " Derivative(q5(t), t): 0.25*(-3.0*sin(q1(t) + q2(t) - q4(t))*Derivative(q4(t), t) - 4.0*sin(q1(t) + q2(t) - q4(t) - q5(t))*Derivative(q4(t), t) + 3.0*sin(q2(t))*Derivative(q1(t), t))/sin(q1(t) + q2(t) - q4(t) - q5(t))}"
      ]
     },
     "execution_count": 40,
     "metadata": {},
     "output_type": "execute_result"
    }
   ],
   "source": [
    "# solve for q2d and q5d using vector loop constraint\n",
    "M = zero.pos_from(pN).dt(N).to_matrix(N)\n",
    "M = M.subs(vals)\n",
    "sol = sm.solve([M], [q2d, q5d])\n",
    "sol"
   ]
  },
  {
   "cell_type": "code",
   "execution_count": 41,
   "metadata": {},
   "outputs": [],
   "source": [
    "# save off the expressions in c code\n",
    "eq1 = me.msubs(sol[q2d], var2sym)\n",
    "eq2 = me.msubs(sol[q5d], var2sym)\n",
    "c_code[\"q2d\"] = eq1\n",
    "c_code[\"q5d\"] = eq2"
   ]
  },
  {
   "cell_type": "code",
   "execution_count": 42,
   "metadata": {},
   "outputs": [
    {
     "data": {
      "text/plain": [
       "[-1.0, -1.0000000000000002]"
      ]
     },
     "execution_count": 42,
     "metadata": {},
     "output_type": "execute_result"
    }
   ],
   "source": [
    "# create python callable that solves for q2d, and q5d\n",
    "qd_func = sm.lambdify([q1, q2, q4, q5, q1d, q4d], [sol[q2d], sol[q5d]], modules=\"numpy\")\n",
    "qd_func(pi/2, 0.68, pi/2, -0.68, 1, 1)"
   ]
  },
  {
   "cell_type": "code",
   "execution_count": 43,
   "metadata": {},
   "outputs": [],
   "source": [
    "# create motor torque python callable to drive q1dd and q4dd\n",
    "rpms = (0, 40)\n",
    "taus = (0.980665, 0.4413)\n",
    "slope, intercept = polyfit(rpms, taus, 1)\n",
    "\n",
    "def tau_motor(x):\n",
    "    if rpms[0] <= x <= rpms[1]:\n",
    "        return (slope*x) + intercept\n",
    "    else:\n",
    "        return 0"
   ]
  },
  {
   "cell_type": "code",
   "execution_count": 44,
   "metadata": {},
   "outputs": [],
   "source": [
    "# create the python callable for the target point\n",
    "R, r, d = in2m(0.5), in2m(0.1), in2m(0.65)\n",
    "x_offset, y_offset = -in2m(2), in2m(4)\n",
    "xh = lambda theta: float(((R-r)*cos(theta)) + (d*cos((R-r)*(theta/r))) + x_offset)\n",
    "yh = lambda theta: float(((R-r)*sin(theta)) - (d*sin((R-r)*(theta/r))) + y_offset)"
   ]
  },
  {
   "cell_type": "code",
   "execution_count": 45,
   "metadata": {},
   "outputs": [
    {
     "data": {
      "image/png": "[encoded data removed]",
      "text/plain": [
       "<Figure size 432x288 with 1 Axes>"
      ]
     },
     "metadata": {
      "needs_background": "light"
     },
     "output_type": "display_data"
    }
   ],
   "source": [
    "# plot the target\n",
    "m2in = lambda x: x*1000/25.4\n",
    "thetas = linspace(0, 2*pi, 75)\n",
    "x_vals = [xh(t) for t in thetas]\n",
    "y_vals = [yh(t) for t in thetas]\n",
    "plt.plot([m2in(v) for v in x_vals], [m2in(v) for v in y_vals], '.')\n",
    "plt.grid()\n",
    "plt.title(\"control space target\")\n",
    "plt.xlabel(\"N.x [m]\")\n",
    "plt.ylabel(\"N.y [m]\");"
   ]
  },
  {
   "cell_type": "markdown",
   "metadata": {},
   "source": [
    "### Control Space Simulation"
   ]
  },
  {
   "cell_type": "markdown",
   "metadata": {},
   "source": [
    "<pre>\n",
    "For the control space simulation, we will set the target points in cartesian space\n",
    "and use inverse kinematics to feed in current position values. The integrator takes in\n",
    "the initial state of q1 and q4 as that's what sensors are capeable of detecting on\n",
    "the actual robot, that being said this is a control space simulation as the target\n",
    "and controller signal \"u\" are defined and controlled in cartesian space.\n",
    "</pre>"
   ]
  },
  {
   "cell_type": "code",
   "execution_count": 46,
   "metadata": {},
   "outputs": [],
   "source": [
    "# create the ODE45 to run the simulation\n",
    "# x1 = q1,    x1d = q1d\n",
    "# x2 = q4,    x2d = q4d\n",
    "# x3 = q1d,   x3d = q1dd\n",
    "# x4 = q4d,   x4d = q4dd\n",
    "\n",
    "# declare controller variables\n",
    "KP = 100\n",
    "KV = sqrt(KP*8)\n",
    "\n",
    "# declare globals for point tracking\n",
    "X_CURRENT, Y_CURRENT = 0, 0\n",
    "X_DESIRED, Y_DESIRED = 0, 0\n",
    "\n",
    "def model(t, x):\n",
    "    # unpack the vector\n",
    "    q1, q4, q1d, q4d = x\n",
    "    \n",
    "    # get gamma, alpha1, and alpha2\n",
    "    gamma = gamma_func(q1, q4)\n",
    "    alpha1, alpha2 = alpha_func(q1, q4)\n",
    "    \n",
    "    # solve for q2, and q5\n",
    "    q2 = pi - (alpha1 + gamma)\n",
    "    q5 = pi + (alpha2 + gamma)\n",
    "     \n",
    "    # solve for the velocities\n",
    "    q2d, q5d = qd_func(q1, q2, q4, q5, q1d, q4d)\n",
    "    \n",
    "    # calculate point E position\n",
    "    x, y = PNE_func(q1, q2)\n",
    "    \n",
    "    # assign to global namespace\n",
    "    global X_CURRENT, Y_CURRENT\n",
    "    X_CURRENT, Y_CURRENT = x, y\n",
    "    \n",
    "    # calculate the speeds\n",
    "    xd, yd = VNE_func(q1, q2, q1d, q2d)\n",
    "    \n",
    "    # calculate the controller output\n",
    "    global X_DESIRED, Y_DESIRED, KP, KV\n",
    "    u = (KV*(sm.Matrix([0 - xd, 0 - yd]))) + \\\n",
    "        (KP*(sm.Matrix([X_DESIRED - x, Y_DESIRED - y])))\n",
    "    \n",
    "    # create task space acceleration vector\n",
    "    Xdd = sm.Matrix.vstack(u, u)\n",
    "    \n",
    "    # calculate the jacobian\n",
    "    J = J_func(q1, q2, q4, q5)\n",
    "    \n",
    "    # calculate the angular velocities\n",
    "    Xd = sm.Matrix([xd, yd, xd, yd])\n",
    "    q1d, q2d, q4d, q5d = J.inv()*Xd\n",
    "    \n",
    "    # calculate the desired accelerations\n",
    "    Jd = Jd_func(q1, q2, q4, q5, q1d, q2d, q4d, q5d)\n",
    "    q1dd, q2dd, q4dd, q5dd = J.inv()*(Xdd - (Jd*sm.Matrix([q1d, q2d, q4d, q5d])))\n",
    "    \n",
    "    # calculate desired torques\n",
    "    TM = tau_func(q1, q2, q4, q5, q1d, q2d, q4d, q5d, q1dd, q2dd, q4dd, q5dd)\n",
    "    tau1_desired, tau2_desired = abs(TM[0][0]), abs(TM[1][0])\n",
    "    \n",
    "    # calculate max torques possible from motors\n",
    "    if sign(q1dd) != sign(q1d):\n",
    "        tau1_max = tau_motor(0)\n",
    "    else:\n",
    "        tau1_max = tau_motor(abs(q1d*30/pi))\n",
    "        \n",
    "    if sign(q4dd) != sign(q4d):\n",
    "        tau2_max = tau_motor(0)\n",
    "    else:\n",
    "        tau2_max = tau_motor(abs(q4d*30/pi))\n",
    "        \n",
    "    # constrain acclerations based on torques\n",
    "    if (tau1_desired > tau1_max) or (tau2_desired > tau2_max):\n",
    "        MM = MM_func(q1, q2, q4, q5)\n",
    "        FM = FM_func(q1, q2, q4, q5, q1d, q2d, q4d, q5d, tau1_max*sign(q1dd), tau2_max*sign(q4dd))\n",
    "        Qdd = linalg.inv(MM)*FM\n",
    "        q1dd, q2dd, q4dd, q5dd = Qdd[0][0], Qdd[1][0], Qdd[2][0], Qdd[3][0]\n",
    "                    \n",
    "    # assign the xdots\n",
    "    x1d = q1d\n",
    "    x2d = q4d\n",
    "    x3d = q1dd\n",
    "    x4d = q4dd\n",
    "    \n",
    "    # return the values\n",
    "    return (x1d, x2d, x3d, x4d)"
   ]
  },
  {
   "cell_type": "code",
   "execution_count": 47,
   "metadata": {},
   "outputs": [],
   "source": [
    "conditions = array([pi/2, pi/2, 0, 0])  # stores state between targets\n",
    "times = array([0])                      # records the time state between targets\n",
    "results = array([0, 0, *conditions])    # records the x, y, q1, q4, q1d, & q4d points for the entire simulation\n",
    "eps = 0.002                             # error threashold for event based simulation conclusion\n",
    "\n",
    "\n",
    "def run_interval(theta, times, conditions, results):\n",
    "    # set up this leg of the simulation\n",
    "    simulator = RK45(model, times[0], conditions, t_bound=0.1, max_step = 0.1)\n",
    "    # set the desired points \n",
    "    global X_DESIRED, Y_DESIRED\n",
    "    X_DESIRED = xh(theta)\n",
    "    Y_DESIRED = yh(theta)\n",
    "    # run this leg of the simulation\n",
    "    while True:\n",
    "        # attempt to step\n",
    "        try:\n",
    "            simulator.step()\n",
    "        # if the solver is finished\n",
    "        except Exception as e:\n",
    "            break\n",
    "        # if it's close enough to the target\n",
    "        if linalg.norm([float(X_DESIRED - X_CURRENT), float(Y_DESIRED - Y_CURRENT)]) <= eps:\n",
    "            break\n",
    "        # store the current state\n",
    "        conditions = simulator.y\n",
    "        # append step results to simulation results\n",
    "        times = vstack([times, simulator.t])\n",
    "        results = vstack([results, (X_CURRENT, Y_CURRENT, *conditions)])\n",
    "            \n",
    "    # return this leg of the simulation\n",
    "    return theta, times, conditions, results\n",
    "\n",
    "\n",
    "# run all the intervals\n",
    "theta = 0\n",
    "while theta < 7:\n",
    "    # put in the last conditions\n",
    "    theta, times, conditions, results = run_interval(theta, times, conditions, results)\n",
    "    theta += 0.1"
   ]
  },
  {
   "cell_type": "code",
   "execution_count": 48,
   "metadata": {},
   "outputs": [
    {
     "data": {
      "image/png": "[encoded data removed]",
      "text/plain": [
       "<Figure size 432x288 with 1 Axes>"
      ]
     },
     "metadata": {
      "needs_background": "light"
     },
     "output_type": "display_data"
    }
   ],
   "source": [
    "# curate the points\n",
    "Ex = [m2in(x) for x in results[1::, 0]]\n",
    "Ey = [m2in(y) for y in results[1::, 1]]\n",
    "Rx = [m2in(vals[bodyA.L1]*cos(q)) for q in results[1::, 2]]\n",
    "Ry = [m2in(vals[bodyA.L1]*sin(q)) for q in results[1::, 2]]\n",
    "Lx = [m2in(vals[bodyC.L1]*cos(q) - vals[L]) for q in results[1::, 3]]\n",
    "Ly = [m2in(vals[bodyC.L1]*sin(q)) for q in results[1::, 3]]\n",
    "\n",
    "# plot the results\n",
    "for i, _ in enumerate(Ex):\n",
    "    plt.plot([0, Rx[i], Ex[i]],[0, Ry[i], Ey[i]])                # right arm\n",
    "    plt.plot([m2in(-vals[L]), Lx[i], Ex[i]], [0, Ly[i], Ey[i]])  # left arm\n",
    "\n",
    "plt.grid()\n",
    "plt.title(\"control space simulation\")\n",
    "plt.xlabel(\"N.x [in]\")\n",
    "plt.ylabel(\"N.y [in]\");"
   ]
  },
  {
   "cell_type": "markdown",
   "metadata": {},
   "source": [
    "### Joint Space Simulation"
   ]
  },
  {
   "cell_type": "markdown",
   "metadata": {},
   "source": [
    "<pre>\n",
    "For the joint space simulation we will use the q1 and q4 values for the integrator\n",
    "just like we did for the control space simulation, however this time we will use \n",
    "inverse kinematics prior to running the integrator, the eleminating the need to do\n",
    "inverse kinematics during the integration step, and conversly on the arduino platform\n",
    "when implemented in hardware. The advantage of the joint space method is that the \n",
    "hardware of the actual device is not required to calculate inverse kinematics are run\n",
    "time.\n",
    "</pre>"
   ]
  },
  {
   "cell_type": "code",
   "execution_count": 49,
   "metadata": {},
   "outputs": [
    {
     "data": {
      "text/plain": [
       "[-0.85776, -4.0, -0.95936, -4.0]"
      ]
     },
     "execution_count": 49,
     "metadata": {},
     "output_type": "execute_result"
    }
   ],
   "source": [
    "# define paths to end effector\n",
    "rhs = right_motor.masscenter.locatenew(\"rhs\", bodyA.L1*bodyA.frame.x + bodyB.L1*bodyB.frame.x)\n",
    "lhs = left_motor.masscenter.locatenew(\"lhs\", bodyC.L1*bodyC.frame.x + bodyD.L1*bodyD.frame.x)\n",
    "# get the matricies\n",
    "rhs_M = rhs.pos_from(pN).to_matrix(N).row_del(-1)\n",
    "lhs_M = lhs.pos_from(pN).to_matrix(N).row_del(-1)\n",
    "# sub in numerical values for constants\n",
    "rhs_M = rhs_M.subs(vals)\n",
    "lhs_M = lhs_M.subs(vals)\n",
    "# create the equations\n",
    "x_desired, y_desired = sm.symbols(\"x_desired, y_desired\")\n",
    "eq1 = rhs_M[0] - x_desired\n",
    "eq2 = rhs_M[1] - y_desired\n",
    "eq3 = lhs_M[0] - x_desired\n",
    "eq4 = lhs_M[1] - y_desired\n",
    "# create the callable\n",
    "kin_eq_func = sm.lambdify([q1, q2, q4, q5, x_desired, y_desired], [eq1, eq2, eq3, eq4], modules=\"scipy\")\n",
    "kin_eq_func(0, 0, 0, 0, 1, 4)"
   ]
  },
  {
   "cell_type": "code",
   "execution_count": 63,
   "metadata": {},
   "outputs": [],
   "source": [
    "# put in values for x and y\n",
    "def model(x, args):\n",
    "    # unpack the q vec\n",
    "    q1, q2, q4, q5 = x\n",
    "    # get the desired points\n",
    "    x_des, y_des = args\n",
    "    # return the output for the given inputs\n",
    "    return kin_eq_func(q1, q2, q4, q5, x_des, y_des)\n",
    "\n",
    "# loop over each desires point\n",
    "q_desireds = array([0, 0, 0, 0])\n",
    "conditions = array([pi/2, 0.1, pi/2, -0.1])\n",
    "for x, y in zip(x_vals, y_vals):\n",
    "    sol = fsolve(model, x0 = conditions, args=[x, y])\n",
    "    q_desireds = vstack([q_desireds, sol])\n",
    "    conditions = sol\n",
    "    \n",
    "# drop the initializer values\n",
    "q_desireds = q_desireds[1::]"
   ]
  },
  {
   "cell_type": "code",
   "execution_count": 51,
   "metadata": {},
   "outputs": [],
   "source": [
    "# create the ODE45 to run the simulation\n",
    "# x1 = q1,    x1d = q1d\n",
    "# x2 = q4,    x2d = q4d\n",
    "# x3 = q1d,   x3d = q1dd\n",
    "# x4 = q4d,   x4d = q4dd\n",
    "\n",
    "# declare controller variables\n",
    "KP = 100\n",
    "KV = sqrt(KP*8)\n",
    "\n",
    "# declare globals for point tracking\n",
    "Q1_CURRENT, Q2_CURRENT, Q4_CURRENT, Q5_CURRENT = 0, 0, 0, 0\n",
    "Q1_DESIRED, Q2_DESIRED, Q4_DESIRED, Q5_DESIRED = 0, 0, 0, 0\n",
    "\n",
    "def model(t, x):\n",
    "    # unpack the vector\n",
    "    q1, q4, q1d, q4d = x\n",
    "    \n",
    "    # get gamma, alpha1, and alpha2\n",
    "    gamma = gamma_func(q1, q4)\n",
    "    alpha1, alpha2 = alpha_func(q1, q4)\n",
    "    \n",
    "    # solve for q2, and q5\n",
    "    q2 = pi - (alpha1 + gamma)\n",
    "    q5 = pi + (alpha2 + gamma)\n",
    "    \n",
    "    # assign to to globals\n",
    "    global Q1_CURRENT, Q2_CURRENT, Q4_CURRENT, Q5_CURRENT\n",
    "    Q1_CURRENT, Q2_CURRENT, Q4_CURRENT, Q5_CURRENT = q1, q2, q4, q5   \n",
    "     \n",
    "    # solve for the velocities\n",
    "    q2d, q5d = qd_func(q1, q2, q4, q5, q1d, q4d)\n",
    "    \n",
    "    # calculate the controller output\n",
    "    global Q1_DESIRED, Q2_DESIRED, Q4_DESIRED, Q5_DESIRED, KP, KV\n",
    "    u = (KV*(sm.Matrix([0 - q1d, 0 - q2d, 0 - q4d, 0 - q5d]))) + \\\n",
    "        (KP*(sm.Matrix([Q1_DESIRED - q1, Q2_DESIRED - q2, Q4_DESIRED - q4, Q5_DESIRED - q5])))\n",
    "    \n",
    "    # assign to vars\n",
    "    q1dd, q4dd = u[0], u[2]\n",
    "    \n",
    "    # calculate max torques possible from motors\n",
    "    if sign(q1dd) != sign(q1d):\n",
    "        tau1_max = tau_motor(0)\n",
    "    else:\n",
    "        tau1_max = tau_motor(abs(q1d*30/pi))\n",
    "        \n",
    "    if sign(q4dd) != sign(q4d):\n",
    "        tau2_max = tau_motor(0)\n",
    "    else:\n",
    "        tau2_max = tau_motor(abs(q4d*30/pi))\n",
    "        \n",
    "    # constrain acclerations based on possible torque\n",
    "    MM = MM_func(q1, q2, q4, q5)\n",
    "    FM = FM_func(q1, q2, q4, q5, q1d, q2d, q4d, q5d, tau1_max*sign(q1dd), tau2_max*sign(q4dd))\n",
    "    Qdd = linalg.inv(MM)*FM\n",
    "    q1dd_max, q4dd_max = Qdd[0][0],  Qdd[2][0], \n",
    "    if abs(q1dd) > abs(q1dd_max):\n",
    "        q1dd = abs(q1dd_max)*sign(q1dd)\n",
    "    if abs(q4dd) > abs(q4dd_max):\n",
    "        q4dd = abs(q4dd_max)*sign(q4dd)\n",
    "           \n",
    "    # assign the xdots\n",
    "    x1d = q1d\n",
    "    x2d = q4d\n",
    "    x3d = q1dd\n",
    "    x4d = q4dd\n",
    "    \n",
    "    # return the values\n",
    "    return (x1d, x2d, x3d, x4d)"
   ]
  },
  {
   "cell_type": "code",
   "execution_count": 52,
   "metadata": {},
   "outputs": [],
   "source": [
    "conditions = array([pi/2, pi/2, 0, 0])  # stores state between targets\n",
    "times = array([0])                      # records the time state between targets\n",
    "results = array([*conditions])          # records the, q1, q2, q4, & q5 for the entire simulation\n",
    "eps = 1e-5                              # error threashold for event based simulation conclusion\n",
    "\n",
    "\n",
    "def run_interval(count, times, conditions, results):\n",
    "    # set up this leg of the simulation\n",
    "    simulator = RK45(model, times[0], conditions, t_bound=5, max_step = 0.01)\n",
    "    # set the desired points \n",
    "    global Q1_DESIRED, Q2_DESIRED, Q4_DESIRED, Q5_DESIRED, q_desireds\n",
    "    Q1_DESIRED = q_desireds[count, 0]\n",
    "    Q2_DESIRED = q_desireds[count, 1]\n",
    "    Q4_DESIRED = q_desireds[count, 2]\n",
    "    Q5_DESIRED = q_desireds[count, 3]\n",
    "    # run this leg of the simulation\n",
    "    while True:\n",
    "        # attempt to step\n",
    "        try:\n",
    "            simulator.step()\n",
    "        # if the solver is finished\n",
    "        except Exception as e:\n",
    "            break\n",
    "        # if it's close enough to the target\n",
    "        if (abs(float(Q1_DESIRED - Q1_CURRENT)) <= eps)  and (abs(float(Q4_DESIRED - Q4_CURRENT)) <= eps):\n",
    "            break\n",
    "        # store the current state\n",
    "        conditions = simulator.y\n",
    "        # append step results to simulation results\n",
    "        times = vstack([times, simulator.t])\n",
    "        results = vstack([results, (Q1_CURRENT, Q2_CURRENT, Q4_CURRENT, Q5_CURRENT)])\n",
    "            \n",
    "    # return this leg of the simulation\n",
    "    return times, conditions, results\n",
    "\n",
    "\n",
    "# run all the intervals\n",
    "for count, _ in enumerate(q_desireds[1:], start=1):\n",
    "    # put in the last conditions\n",
    "    times, conditions, results = run_interval(count, times, conditions, results)"
   ]
  },
  {
   "cell_type": "code",
   "execution_count": 53,
   "metadata": {},
   "outputs": [
    {
     "data": {
      "image/png": "[encoded data removed]",
      "text/plain": [
       "<Figure size 432x288 with 1 Axes>"
      ]
     },
     "metadata": {
      "needs_background": "light"
     },
     "output_type": "display_data"
    }
   ],
   "source": [
    "# curate the points\n",
    "step = 100\n",
    "Ex = [m2in(PNE_func(q1, q2)[0]) for q1, q2, *_ in results[1::step]]\n",
    "Ey = [m2in(PNE_func(q1, q2)[1]) for q1, q2, *_ in results[1::step]]\n",
    "Rx = [m2in(vals[bodyA.L1]*cos(q)) for q in results[1::step, 0]]\n",
    "Ry = [m2in(vals[bodyA.L1]*sin(q)) for q in results[1::step, 0]]\n",
    "Lx = [m2in(vals[bodyC.L1]*cos(q) - vals[L]) for q in results[1::step, 2]]\n",
    "Ly = [m2in(vals[bodyC.L1]*sin(q)) for q in results[1::step, 2]]\n",
    "\n",
    "# plot the results\n",
    "for i, _ in enumerate(Ex):\n",
    "    plt.plot([0, Rx[i], Ex[i]],[0, Ry[i], Ey[i]])                # right arm\n",
    "    plt.plot([m2in(-vals[L]), Lx[i], Ex[i]], [0, Ly[i], Ey[i]])  # left arm\n",
    "\n",
    "plt.grid()\n",
    "plt.title(\"joint space simulation\")\n",
    "plt.xlabel(\"N.x [in]\")\n",
    "plt.ylabel(\"N.y [in]\");"
   ]
  },
  {
   "cell_type": "markdown",
   "metadata": {},
   "source": [
    "### Auto generate C++ "
   ]
  },
  {
   "cell_type": "code",
   "execution_count": 54,
   "metadata": {},
   "outputs": [
    {
     "name": "stdout",
     "output_type": "stream",
     "text": [
      "tau1 = -LA_1*LB_COM*bodyB_mass*pow(u1, 2)*sin(q2) + LA_1*LB_COM*bodyB_mass*pow(u1 + u2, 2)*sin(q2) - u1d*(pow(LA_COM, 2)*bodyA_mass + bodyA_izz + bodyB_izz + bodyB_mass*(pow(LA_1, 2) + 2*LA_1*LB_COM*cos(q2) + pow(LB_COM, 2)) + pow(gr, 2)*motorR_izz) - u2d*(bodyB_izz + bodyB_mass*(LA_1*LB_COM*cos(q2) + pow(LB_COM, 2))) - (LA_1*cos(q1) + LB_1*(-sin(q1)*sin(q2) + cos(q1)*cos(q2)) - (-LA_1*sin(q1) + LB_1*(-sin(q1)*cos(q2) - sin(q2)*cos(q1)))*(-sin(q1)*sin(q2) + cos(q1)*cos(q2))/(-sin(q1)*cos(q2) - sin(q2)*cos(q1)))*(-LC_1*LD_COM*bodyD_mass*pow(u4, 2)*sin(q5) - u4d*(bodyD_izz + bodyD_mass*(LC_1*LD_COM*cos(q5) + pow(LD_COM, 2))) - u5d*(pow(LD_COM, 2)*bodyD_mass + bodyD_izz))/(LD_1*(-sin(q1)*sin(q2) + cos(q1)*cos(q2))*(-sin(q4)*cos(q5) - sin(q5)*cos(q4))/(-sin(q1)*cos(q2) - sin(q2)*cos(q1)) - LD_1*(-sin(q4)*sin(q5) + cos(q4)*cos(q5))) - (-LA_1*sin(q1) + LB_1*(-sin(q1)*cos(q2) - sin(q2)*cos(q1)) + LD_1*(-sin(q4)*cos(q5) - sin(q5)*cos(q4))*(LA_1*cos(q1) + LB_1*(-sin(q1)*sin(q2) + cos(q1)*cos(q2)) - (-LA_1*sin(q1) + LB_1*(-sin(q1)*cos(q2) - sin(q2)*cos(q1)))*(-sin(q1)*sin(q2) + cos(q1)*cos(q2))/(-sin(q1)*cos(q2) - sin(q2)*cos(q1)))/(LD_1*(-sin(q1)*sin(q2) + cos(q1)*cos(q2))*(-sin(q4)*cos(q5) - sin(q5)*cos(q4))/(-sin(q1)*cos(q2) - sin(q2)*cos(q1)) - LD_1*(-sin(q4)*sin(q5) + cos(q4)*cos(q5))))*(-LA_1*LB_COM*bodyB_mass*pow(u1, 2)*sin(q2) - u1d*(bodyB_izz + bodyB_mass*(LA_1*LB_COM*cos(q2) + pow(LB_COM, 2))) - u2d*(pow(LB_COM, 2)*bodyB_mass + bodyB_izz))/(LB_1*(-sin(q1)*cos(q2) - sin(q2)*cos(q1)))\n",
      "\n",
      "tau2 = -LC_1*LD_COM*bodyD_mass*pow(u4, 2)*sin(q5) + LC_1*LD_COM*bodyD_mass*pow(u4 + u5, 2)*sin(q5) - u4d*(pow(LC_COM, 2)*bodyC_mass + bodyC_izz + bodyD_izz + bodyD_mass*(pow(LC_1, 2) + 2*LC_1*LD_COM*cos(q5) + pow(LD_COM, 2)) + pow(gr, 2)*motorL_izz) - u5d*(bodyD_izz + bodyD_mass*(LC_1*LD_COM*cos(q5) + pow(LD_COM, 2))) - (-LC_1*cos(q4) - LD_1*(-sin(q4)*sin(q5) + cos(q4)*cos(q5)) - (LC_1*sin(q4) - LD_1*(-sin(q4)*cos(q5) - sin(q5)*cos(q4)))*(-sin(q1)*sin(q2) + cos(q1)*cos(q2))/(-sin(q1)*cos(q2) - sin(q2)*cos(q1)))*(-LC_1*LD_COM*bodyD_mass*pow(u4, 2)*sin(q5) - u4d*(bodyD_izz + bodyD_mass*(LC_1*LD_COM*cos(q5) + pow(LD_COM, 2))) - u5d*(pow(LD_COM, 2)*bodyD_mass + bodyD_izz))/(LD_1*(-sin(q1)*sin(q2) + cos(q1)*cos(q2))*(-sin(q4)*cos(q5) - sin(q5)*cos(q4))/(-sin(q1)*cos(q2) - sin(q2)*cos(q1)) - LD_1*(-sin(q4)*sin(q5) + cos(q4)*cos(q5))) - (LC_1*sin(q4) - LD_1*(-sin(q4)*cos(q5) - sin(q5)*cos(q4)) + LD_1*(-sin(q4)*cos(q5) - sin(q5)*cos(q4))*(-LC_1*cos(q4) - LD_1*(-sin(q4)*sin(q5) + cos(q4)*cos(q5)) - (LC_1*sin(q4) - LD_1*(-sin(q4)*cos(q5) - sin(q5)*cos(q4)))*(-sin(q1)*sin(q2) + cos(q1)*cos(q2))/(-sin(q1)*cos(q2) - sin(q2)*cos(q1)))/(LD_1*(-sin(q1)*sin(q2) + cos(q1)*cos(q2))*(-sin(q4)*cos(q5) - sin(q5)*cos(q4))/(-sin(q1)*cos(q2) - sin(q2)*cos(q1)) - LD_1*(-sin(q4)*sin(q5) + cos(q4)*cos(q5))))*(-LA_1*LB_COM*bodyB_mass*pow(u1, 2)*sin(q2) - u1d*(bodyB_izz + bodyB_mass*(LA_1*LB_COM*cos(q2) + pow(LB_COM, 2))) - u2d*(pow(LB_COM, 2)*bodyB_mass + bodyB_izz))/(LB_1*(-sin(q1)*cos(q2) - sin(q2)*cos(q1)))\n",
      "\n",
      "x_current = LA_1*cos(q1) + LB_1*(-sin(q1)*sin(q2) + cos(q1)*cos(q2))\n",
      "\n",
      "y_current = LA_1*sin(q1) + LB_1*(sin(q1)*cos(q2) + sin(q2)*cos(q1))\n",
      "\n",
      "xd_current = -LA_1*q1d*sin(q1) + LB_1*(q1d + q2d)*(-sin(q1)*cos(q2) - sin(q2)*cos(q1))\n",
      "\n",
      "yd_current = LA_1*q1d*cos(q1) + LB_1*(q1d + q2d)*(-sin(q1)*sin(q2) + cos(q1)*cos(q2))\n",
      "\n",
      "xdd_desired = Kp*(-x_current + x_desired) + Kv*(-xd_current + xd_desired)\n",
      "\n",
      "ydd_desired = Kp*(-y_current + y_desired) + Kv*(-yd_current + yd_desired)\n",
      "\n",
      "J(0,0) = 0.08128*sin(q1(t))*sin(q2(t))*Derivative(q1(t), t) + 0.08128*sin(q1(t))*sin(q2(t))*Derivative(q2(t), t) - 0.08128*cos(q1(t))*cos(q2(t))*Derivative(q1(t), t) - 0.08128*cos(q1(t))*cos(q2(t))*Derivative(q2(t), t) - 0.06096*cos(q1(t))*Derivative(q1(t), t)\n",
      "\n",
      "J(0,1) = 0.08128*sin(q1(t))*sin(q2(t))*Derivative(q1(t), t) + 0.08128*sin(q1(t))*sin(q2(t))*Derivative(q2(t), t) - 0.08128*cos(q1(t))*cos(q2(t))*Derivative(q1(t), t) - 0.08128*cos(q1(t))*cos(q2(t))*Derivative(q2(t), t)\n",
      "\n",
      "J(0,2) = 0\n",
      "\n",
      "J(0,3) = 0\n",
      "\n",
      "J(1,0) = -0.08128*sin(q1(t))*cos(q2(t))*Derivative(q1(t), t) - 0.08128*sin(q1(t))*cos(q2(t))*Derivative(q2(t), t) - 0.06096*sin(q1(t))*Derivative(q1(t), t) - 0.08128*sin(q2(t))*cos(q1(t))*Derivative(q1(t), t) - 0.08128*sin(q2(t))*cos(q1(t))*Derivative(q2(t), t)\n",
      "\n",
      "J(1,1) = -0.08128*sin(q1(t))*cos(q2(t))*Derivative(q1(t), t) - 0.08128*sin(q1(t))*cos(q2(t))*Derivative(q2(t), t) - 0.08128*sin(q2(t))*cos(q1(t))*Derivative(q1(t), t) - 0.08128*sin(q2(t))*cos(q1(t))*Derivative(q2(t), t)\n",
      "\n",
      "J(1,2) = 0\n",
      "\n",
      "J(1,3) = 0\n",
      "\n",
      "J(2,0) = 0\n",
      "\n",
      "J(2,1) = 0\n",
      "\n",
      "J(2,2) = 0.08128*sin(q4(t))*sin(q5(t))*Derivative(q4(t), t) + 0.08128*sin(q4(t))*sin(q5(t))*Derivative(q5(t), t) - 0.08128*cos(q4(t))*cos(q5(t))*Derivative(q4(t), t) - 0.08128*cos(q4(t))*cos(q5(t))*Derivative(q5(t), t) - 0.06096*cos(q4(t))*Derivative(q4(t), t)\n",
      "\n",
      "J(2,3) = 0.08128*sin(q4(t))*sin(q5(t))*Derivative(q4(t), t) + 0.08128*sin(q4(t))*sin(q5(t))*Derivative(q5(t), t) - 0.08128*cos(q4(t))*cos(q5(t))*Derivative(q4(t), t) - 0.08128*cos(q4(t))*cos(q5(t))*Derivative(q5(t), t)\n",
      "\n",
      "J(3,0) = 0\n",
      "\n",
      "J(3,1) = 0\n",
      "\n",
      "J(3,2) = -0.08128*sin(q4(t))*cos(q5(t))*Derivative(q4(t), t) - 0.08128*sin(q4(t))*cos(q5(t))*Derivative(q5(t), t) - 0.06096*sin(q4(t))*Derivative(q4(t), t) - 0.08128*sin(q5(t))*cos(q4(t))*Derivative(q4(t), t) - 0.08128*sin(q5(t))*cos(q4(t))*Derivative(q5(t), t)\n",
      "\n",
      "J(3,3) = -0.08128*sin(q4(t))*cos(q5(t))*Derivative(q4(t), t) - 0.08128*sin(q4(t))*cos(q5(t))*Derivative(q5(t), t) - 0.08128*sin(q5(t))*cos(q4(t))*Derivative(q4(t), t) - 0.08128*sin(q5(t))*cos(q4(t))*Derivative(q5(t), t)\n",
      "\n",
      "gamma = acos((1.0/2.0)*sqrt(pow(L, 2) + 2*L*LA_1*cos(q1) - 2*L*LC_1*cos(q4) + pow(LA_1, 2) - 2*LA_1*LC_1*(sin(q1)*sin(q4) + cos(q1)*cos(q4)) + pow(LC_1, 2))/LB_1)\n",
      "\n",
      "alpha1 = acos((L*LA_1*cos(q1) + pow(LA_1, 2) - LA_1*LC_1*(sin(q1)*sin(q4) + cos(q1)*cos(q4)))/(sqrt(pow(L, 2) + 2*L*LA_1*cos(q1) - 2*L*LC_1*cos(q4) + pow(LA_1, 2) - 2*LA_1*LC_1*(sin(q1)*sin(q4) + cos(q1)*cos(q4)) + pow(LC_1, 2))*sqrt(pow(LA_1, 2))))\n",
      "\n",
      "alpha2 = q1 - q4 - acos(123.11107123023477*(-0.0037161215999999991*sin(q1)*sin(q4) - 0.0037161215999999991*cos(q1)*cos(q4) + 0.0061935359999999995*cos(q1) + 0.0037161215999999991)/sqrt(-0.41860465116279061*sin(q1)*sin(q4) - 0.41860465116279061*cos(q1)*cos(q4) + 0.69767441860465118*cos(q1) - 0.69767441860465118*cos(q4) + 1)) + M_PI\n",
      "\n",
      "q2d = 0.25*(3.0*q1d*sin(-q1 + q4 + q5) - 4.0*q1d*sin(q1 + q2 - q4 - q5) - 3.0*q4d*sin(q5))/sin(q1 + q2 - q4 - q5)\n",
      "\n",
      "q5d = 0.25*(3.0*q1d*sin(q2) - 3.0*q4d*sin(q1 + q2 - q4) - 4.0*q4d*sin(q1 + q2 - q4 - q5))/sin(q1 + q2 - q4 - q5)\n",
      "\n"
     ]
    }
   ],
   "source": [
    "# print out c_code expressions\n",
    "for key, value in c_code.items():\n",
    "    print(f\"{key} = {value}\\n\")"
   ]
  },
  {
   "cell_type": "markdown",
   "metadata": {},
   "source": [
    "### Generate points for arduino vectors"
   ]
  },
  {
   "cell_type": "code",
   "execution_count": 59,
   "metadata": {},
   "outputs": [
    {
     "name": "stdout",
     "output_type": "stream",
     "text": [
      "x_vals\n",
      "-0.024130000000000002,-0.025109694891845433,-0.027940772047069844,-0.03231152000762576,-0.037742050406485934,\n",
      "-0.043638982741677504,-0.04936304043722211,-0.05430183707487175,-0.05793953911243276,-0.05991544862125914,\n",
      "-0.06006481576422884,-0.05843722123776428,-0.055290431739842306,-0.051060433906428296,-0.04631107392098367,\n",
      "-0.04166906019567737,-0.037751758933673205,-0.03509603594308051,-0.034096278695686474,-0.034958683944632196,\n",
      "-0.037677038040337056,-0.04203276169998632,-0.04761921890801684,-0.053887517549479486,-0.06020857400112338,\n",
      "-0.0659443557417252,-0.07052016738026737,-0.07348972614351527,-0.07458559645041507,-0.07374922564018348,\n",
      "-0.07113715314750665,-0.06710268721665746,-0.06215514566636449,-0.05690132009825523,-0.05197585348931449,\n",
      "-0.0479684873453353,-0.04535649185902958,-0.04445,-0.04535649185902955,-0.04796848734533526,\n",
      "-0.051975853489314404,-0.056901320098255125,-0.06215514566636439,-0.06710268721665741,-0.0711371531475066,\n",
      "-0.07374922564018344,-0.07458559645041507,-0.07348972614351532,-0.07052016738026741,-0.06594435574172532,\n",
      "-0.060208574001123484,-0.0538875175494796,-0.0476192189080169,-0.04203276169998642,-0.03767703804033712,\n",
      "-0.03495868394463221,-0.03409627869568646,-0.03509603594308047,-0.03775175893367311,-0.041669060195677274,\n",
      "-0.04631107392098358,-0.051060433906428226,-0.055290431739842265,-0.05843722123776423,-0.0600648157642288,\n",
      "-0.05991544862125915,-0.05793953911243282,-0.054301837074871837,-0.04936304043722219,-0.04363898274167759,\n",
      "-0.03774205040648601,-0.0323115200076259,-0.027940772047069913,-0.02510969489184546,-0.024130000000000002,\n",
      "y_vals\n",
      "0.1016,0.0969614901814798,0.09294513617911893,0.09010135103969591,0.088845263319553,\n",
      "0.0894086404960349,0.09181277471109715,0.09586543310033867,0.10118222556401539,0.1072299530957212,\n",
      "0.11338698841483608,0.1190137945636598,0.12352552866172861,0.12645843950934463,0.1275224764493718,\n",
      "0.12663410186561616,0.12392556098743099,0.11972955194459331,0.1145410490401533,0.10896064195312585,\n",
      "0.10362586489986711,0.09913836146798602,0.09599520618428542,0.09453222858529324,0.09488581392825457,\n",
      "0.09697754341701223,0.10052342712539639,0.10506667282789922,0.11003024472190248,0.11478320478103199,\n",
      "0.11871325455397722,0.12129718654719589,0.122161192868283,0.12112413730960561,0.11821884316764986,\n",
      "0.11368896048982106,0.1079617662038626,0.10160000000000004,0.09523823379613751,0.089511039510179,\n",
      "0.08498115683235019,0.08207586269039441,0.08103880713171698,0.08190281345280408,0.08448674544602272,\n",
      "0.08841679521896788,0.0931697552780974,0.09813332717210065,0.10267657287460354,0.10622245658298769,\n",
      "0.1083141860717454,0.10866777141470675,0.1072047938157146,0.10406163853201406,0.099574135100133,\n",
      "0.09423935804687424,0.08865895095984677,0.08347044805540675,0.07927443901256909,0.07656589813438387,\n",
      "0.07567752355062818,0.07674156049065534,0.07967447133827134,0.0841862054363401,0.08981301158516376,\n",
      "0.09597004690427871,0.10201777443598448,0.10733456689966123,0.1113872252889028,0.11379135950396507,\n",
      "0.114354736680447,0.11309864896030417,0.11025486382088114,0.10623850981852027,0.10160000000000007,\n"
     ]
    }
   ],
   "source": [
    "per_line = 5\n",
    "\n",
    "print(\"x_vals\")\n",
    "for i, _ in enumerate(x_vals[::per_line]):\n",
    "    i *= per_line\n",
    "    print(*x_vals[i:i+5], \"\", sep=\",\")\n",
    "    \n",
    "print(\"y_vals\")\n",
    "for i, _ in enumerate(y_vals[::per_line]):\n",
    "    i *= per_line\n",
    "    print(*y_vals[i:i+5], \"\", sep=\",\")"
   ]
  },
  {
   "cell_type": "markdown",
   "metadata": {},
   "source": [
    "### Generate angles for arduino vectors"
   ]
  },
  {
   "cell_type": "code",
   "execution_count": 64,
   "metadata": {},
   "outputs": [
    {
     "name": "stdout",
     "output_type": "stream",
     "text": [
      "q1_vals\n",
      "0.9140829292879634,0.8780748888112396,0.8765237998246486,0.9117214846703798,0.9794736769381787,\n",
      "1.0700335584853868,1.1717506400091862,1.2748073938384386,1.3726842732247824,1.4614019855374178,\n",
      "1.5376777428257513,1.5965587618246606,1.6287286582151137,1.6205960174754594,1.5653189721558074,\n",
      "1.474950622633884,1.3706641873354002,1.2702763816028337,1.1869514948161128,1.130846871179979,\n",
      "1.109366910770917,1.1258961519004627,1.1782262590223704,1.2585596119913167,1.3560087324008454,\n",
      "1.4601026569492255,1.562922191839539,1.6590292416728052,1.7437019982978705,1.809550215102155,\n",
      "1.8409040220700112,1.8144529946506578,1.7279389914405,1.608505746060645,1.4809950464837305,\n",
      "1.3606259505080478,1.258030864784392,1.1819801558964707,1.139585633103628,1.1348459860162343,\n",
      "1.1665126984693526,1.2271133951480995,1.304747761168127,1.3868314868201967,1.4630478178423414,\n",
      "1.5259842950061204,1.5701413043159202,1.5907235109606421,1.5833479958808463,1.5453102048117178,\n",
      "1.4777745994285287,1.3867023176107216,1.2814056357463746,1.1723716830545148,1.070046556416459,\n",
      "0.9845181300064579,0.9251990457961629,0.8996741926374362,0.9114154925850264,0.9573635373447067,\n",
      "1.027741005348061,1.1093644426983262,1.1902031973163665,1.261867272799953,1.319370706311709,\n",
      "1.3596446079586755,1.380174230066638,1.3784244263174659,1.3523683977893048,1.3020243900186868,\n",
      "1.2309841849022127,1.1465541625826963,1.058474094501223,0.9774363435804101,0.9140829293105299,\n",
      "q2_vals\n",
      "1.512005955975962,1.6001186599615926,1.6620537272463465,1.6881505038905453,1.6723483349469537,\n",
      "1.6136256504338453,1.5158995195794474,1.3864673333652855,1.2342697541750154,1.0691143228126643,\n",
      "0.9023309488028849,0.7491341453422273,0.6324363778746434,0.582336886851152,0.616713304702449,\n",
      "0.7200292337372963,0.8606991204272497,1.0131214535752715,1.1597435093812574,1.2872894937753019,\n",
      "1.3845157635035434,1.4420197330607591,1.4534586711345134,1.4170429948695018,1.3359586301821191,\n",
      "1.2172767524730503,1.0702730007884442,0.9054961070503568,0.7356292212204733,0.5795369286930956,\n",
      "0.4709716973952665,0.4568887271603801,0.546935554573628,0.698913349505417,0.8746627440650226,\n",
      "1.053157176694752,1.2216132273668217,1.3700696086884605,1.4894756122261363,1.5717406610557758,\n",
      "1.6110986018493314,1.605956403366329,1.5598986209706234,1.4810378918961493,1.380342336984325,\n",
      "1.2702244092443638,1.1639880370114803,1.0756898197939577,1.0192140249707855,1.0053755898647592,\n",
      "1.0378917907493328,1.1118529298027298,1.2165069361986747,1.3393618538013106,1.4684946133590302,\n",
      "1.592937529580173,1.702319394663482,1.7867583240337706,1.8376262813073259,1.8492555503464612,\n",
      "1.8206992957245398,1.7561328497028392,1.6635162534825612,1.5526649381087685,1.4339777540660381,\n",
      "1.3181018471793287,1.2160594513042597,1.1390424396330492,1.0970218806405507,1.095999787214903,\n",
      "1.1354763456580432,1.2084380743048642,1.3038268439349745,1.4091842659284395,1.5120059559608572,\n",
      "q4_vals\n",
      "1.4501431919842653,1.5105053544277935,1.5881678655433786,1.676889879040713,1.7696038696766312,\n",
      "1.8569219002756099,1.9272314047066292,1.9690393105634487,1.9744642718687353,1.9413683434389897,\n",
      "1.8728933495972788,1.7755604470406756,1.6577774868569162,1.5301130535105898,1.4094431261526181,\n",
      "1.3296125523781954,1.3263445145691906,1.3804903143125107,1.4604707155922145,1.5534808434261353,\n",
      "1.6549648064898665,1.7620175912460359,1.8705295253846754,1.973613773631946,2.0614035387680656,\n",
      "2.1230178023792714,2.150222905771786,2.1404101821761565,2.0969773893719164,2.0277330999528567,\n",
      "1.9431500360916591,1.8553969330515525,1.777616877813887,1.7219186347994069,1.6956099341165247,\n",
      "1.6990004257421927,1.7277833074489426,1.7769656283073063,1.842690713089488,1.9219264877770064,\n",
      "2.011099627982356,2.1043530583822236,2.192265462007121,2.2624944312141886,2.3032134998362275,\n",
      "2.3075258432732086,2.2754837028941344,2.2128035920836426,2.128288557197152,2.0318671939961686,\n",
      "1.933619840734234,1.8432356963513257,1.7692345579015716,1.7177810139717204,1.6917709261069733,\n",
      "1.6910695933864621,1.7137170312574441,1.7569966466292481,1.8175781143128888,1.890677308681323,\n",
      "1.9687165571027725,2.0405931083763904,2.0930794985973984,2.1146615253465795,2.0994329281485316,\n",
      "2.048175555042894,1.9666544074550645,1.8633090256939953,1.7479430358979713,1.6316959329624485,\n",
      "1.527711521341505,1.4506822424433459,1.4122575096848415,1.4144011288341014,1.4501431919728236,\n",
      "q5_vals\n",
      "-0.9202370900305313,-1.0501188161336188,-1.1835896343364918,-1.3056754777694455,-1.403640026672514,\n",
      "-1.4665855964238714,-1.4863615847895764,-1.4590832187408411,-1.3859327185225954,-1.272401432852303,\n",
      "-1.1265194945228225,-0.9573660926956098,-0.7748695434933234,-0.5919764536108529,-0.4327157281342907,\n",
      "-0.3510311047862648,-0.4040789401553962,-0.5524745705023526,-0.7346153549337585,-0.9215900572879615,\n",
      "-1.09921598536357,-1.2575008470372626,-1.3874800336388668,-1.4808371010756118,-1.5310258596942605,\n",
      "-1.5351256844754455,-1.4952065776264236,-1.418167560581888,-1.314314466581098,-1.1959422522485055,\n",
      "-1.076844077790058,-0.9726171646389766,-0.9004183999927079,-0.8757348137776664,-0.9056878245513432,\n",
      "-0.9849667298859952,-1.0998264196236214,-1.234927214974529,-1.376728844883258,-1.5136486868086885,\n",
      "-1.6352434649517125,-1.7317523264518682,-1.7946026386286498,-1.8179578256156972,-1.8005253769031266,\n",
      "-1.746207546653974,-1.6629762828687462,-1.5609292869741185,-1.4508402740847768,-1.3436148421688634,\n",
      "-1.250221553850163,-1.1813343150521545,-1.1459874138378183,-1.1492757597737946,-1.1904813360798772,\n",
      "-1.263281752959082,-1.3578201521162214,-1.4628603493272954,-1.5669137844536054,-1.6585512676415652,\n",
      "-1.7266904029035552,-1.7615689583599459,-1.7565268623731254,-1.709715448336642,-1.6244072479875675,\n",
      "-1.5076551532596272,-1.368473207098514,-1.2167901473101246,-1.0636171591134775,-0.922290872992877,\n",
      "-0.8100571022158749,-0.7472049470050838,-0.7487451292533358,-0.8124861996450135,-0.9202370900120341,\n"
     ]
    }
   ],
   "source": [
    "print(\"q1_vals\")\n",
    "q1_vals = [q[0] for q in q_desireds]\n",
    "for i, _ in enumerate(q1_vals[::per_line]):\n",
    "    i *= per_line\n",
    "    print(*q1_vals[i:i+5], \"\", sep=\",\")\n",
    "\n",
    "print(\"q2_vals\")\n",
    "q2_vals = [q[1] for q in q_desireds]\n",
    "for i, _ in enumerate(q2_vals[::per_line]):\n",
    "    i *= per_line\n",
    "    print(*q2_vals[i:i+5], \"\", sep=\",\")\n",
    "\n",
    "print(\"q4_vals\")\n",
    "q4_vals = [q[2] for q in q_desireds]\n",
    "for i, _ in enumerate(q4_vals[::per_line]):\n",
    "    i *= per_line\n",
    "    print(*q4_vals[i:i+5], \"\", sep=\",\")\n",
    "\n",
    "print(\"q5_vals\")\n",
    "q5_vals = [q[3] for q in q_desireds]\n",
    "for i, _ in enumerate(q5_vals[::per_line]):\n",
    "    i *= per_line\n",
    "    print(*q5_vals[i:i+5], \"\", sep=\",\")"
   ]
  }
 ],
 "metadata": {
  "kernelspec": {
   "display_name": "Python 3",
   "language": "python",
   "name": "python3"
  },
  "language_info": {
   "codemirror_mode": {
    "name": "ipython",
    "version": 3
   },
   "file_extension": ".py",
   "mimetype": "text/x-python",
   "name": "python",
   "nbconvert_exporter": "python",
   "pygments_lexer": "ipython3",
   "version": "3.8.2"
  }
 },
 "nbformat": 4,
 "nbformat_minor": 4
}
