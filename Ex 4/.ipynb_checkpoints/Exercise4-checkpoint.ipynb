{
 "cells": [
  {
   "cell_type": "markdown",
   "metadata": {},
   "source": [
    "# Intro to Robotics: Exercise 4\n",
    "# Author: Samuel Law & Rhys Miller"
   ]
  },
  {
   "cell_type": "code",
   "execution_count": 1,
   "metadata": {},
   "outputs": [],
   "source": [
    "%reset -f"
   ]
  },
  {
   "cell_type": "code",
   "execution_count": 2,
   "metadata": {},
   "outputs": [],
   "source": [
    "%matplotlib inline"
   ]
  },
  {
   "cell_type": "code",
   "execution_count": 3,
   "metadata": {},
   "outputs": [],
   "source": [
    "import sympy as sm\n",
    "import sympy.physics.mechanics as me\n",
    "from scipy.integrate import RK45\n",
    "from numpy import array, vstack, pi, sqrt, arccos, sin, cos, linalg, linspace\n",
    "from math import degrees\n",
    "import matplotlib.pyplot as plt"
   ]
  },
  {
   "cell_type": "markdown",
   "metadata": {},
   "source": [
    "### Kinematics"
   ]
  },
  {
   "cell_type": "code",
   "execution_count": 4,
   "metadata": {},
   "outputs": [],
   "source": [
    "# setup N frame\n",
    "N = me.ReferenceFrame(\"N\")\n",
    "pN = me.Point(\"pN\")\n",
    "pN.set_vel(N, 0)"
   ]
  },
  {
   "cell_type": "code",
   "execution_count": 5,
   "metadata": {},
   "outputs": [],
   "source": [
    "# set up constants\n",
    "g, gr, L = sm.symbols(\"g, gr, L\")"
   ]
  },
  {
   "cell_type": "code",
   "execution_count": 6,
   "metadata": {},
   "outputs": [],
   "source": [
    "# set up independent variables\n",
    "q1, q2, q4, q5, u1, u2, u4, u5 = me.dynamicsymbols(\"q1, q2, q4, q5, u1, u2, u4, u5\")\n",
    "q1d, q2d, q4d, q5d, u1d, u2d, u4d, u5d = me.dynamicsymbols(\"q1, q2, q4, q5, u1, u2, u4, u5\", 1)"
   ]
  },
  {
   "cell_type": "code",
   "execution_count": 7,
   "metadata": {},
   "outputs": [],
   "source": [
    "# set up dependent variables which are the gears\n",
    "q0, q3 = -q1*gr, -q4*gr\n",
    "u0, u3 = -u1*gr, -u4*gr\n",
    "q0d, q3d = -q1d*gr, -q4d*gr\n",
    "u0d, u3d = -u1d*gr, -u4d*gr"
   ]
  },
  {
   "cell_type": "code",
   "execution_count": 8,
   "metadata": {},
   "outputs": [],
   "source": [
    "# create dict for use when generating ccode\n",
    "var2sym = {\n",
    "    # positions\n",
    "    q1: sm.Symbol(\"q1\"),\n",
    "    q2: sm.Symbol(\"q2\"),\n",
    "    q4: sm.Symbol(\"q4\"),\n",
    "    q5: sm.Symbol(\"q5\"),\n",
    "    # position derivatives\n",
    "    q1d: sm.Symbol(\"q1d\"),\n",
    "    q2d: sm.Symbol(\"q2d\"),\n",
    "    q4d: sm.Symbol(\"q4d\"),\n",
    "    q5d: sm.Symbol(\"q5d\"),\n",
    "    # velocities\n",
    "    u1: sm.Symbol(\"u1\"),\n",
    "    u2: sm.Symbol(\"u2\"),\n",
    "    u4: sm.Symbol(\"u4\"),\n",
    "    u5: sm.Symbol(\"u5\"),\n",
    "    # velocity derivatives\n",
    "    u1d: sm.Symbol(\"u1d\"),\n",
    "    u2d: sm.Symbol(\"u2d\"),\n",
    "    u4d: sm.Symbol(\"u4d\"),\n",
    "    u5d: sm.Symbol(\"u5d\"),\n",
    "}"
   ]
  },
  {
   "cell_type": "code",
   "execution_count": 9,
   "metadata": {},
   "outputs": [],
   "source": [
    "# set up the motor bodies\n",
    "right_motor = me.Body(\n",
    "    name = \"motorR\",\n",
    "    frame = N.orientnew(\"R\", \"axis\", (q0, N.z)),\n",
    "    masscenter = pN.locatenew(\"motorR_COM\", 0)\n",
    ")\n",
    "left_motor = me.Body(\n",
    "    name = \"motorL\",\n",
    "    frame = N.orientnew(\"L\", \"axis\", (q3, N.z)),\n",
    "    masscenter = pN.locatenew(\"motorL_COM\", -L*N.x)\n",
    ")"
   ]
  },
  {
   "cell_type": "code",
   "execution_count": 10,
   "metadata": {},
   "outputs": [],
   "source": [
    "# set up the link bodies\n",
    "bodyA = me.Body(\n",
    "    name = \"bodyA\",\n",
    "    frame = N.orientnew(\"A\", \"axis\", (q1, N.z))\n",
    ")\n",
    "bodyB = me.Body(\n",
    "    name = \"bodyB\",\n",
    "    frame = bodyA.frame.orientnew(\"B\", \"axis\", (q2, bodyA.frame.z))\n",
    ")\n",
    "bodyC = me.Body(\n",
    "    name = \"bodyC\",\n",
    "    frame = N.orientnew(\"C\", \"axis\", (q4, N.z))\n",
    ")\n",
    "bodyD = me.Body(\n",
    "    name = \"bodyD\",\n",
    "    frame = bodyC.frame.orientnew(\"D\", \"axis\", (q5, bodyC.frame.z))\n",
    ")"
   ]
  },
  {
   "cell_type": "code",
   "execution_count": 11,
   "metadata": {},
   "outputs": [],
   "source": [
    "# define the link lengths\n",
    "bodyA.L1, bodyA.L2 = sm.symbols(\"LA_1, LA_2\")\n",
    "bodyB.L1, bodyB.L2 = sm.symbols(\"LB_1, LB_2\")\n",
    "bodyC.L1, bodyC.L2 = sm.symbols(\"LC_1, LC_2\")\n",
    "bodyD.L1, bodyD.L2 = sm.symbols(\"LD_1, LD_2\")\n",
    "\n",
    "# define the COM lengths\n",
    "bodyA.L = sm.symbols(\"LA_COM\")\n",
    "bodyB.L = sm.symbols(\"LB_COM\")\n",
    "bodyC.L = sm.symbols(\"LC_COM\")\n",
    "bodyD.L = sm.symbols(\"LD_COM\")"
   ]
  },
  {
   "cell_type": "code",
   "execution_count": 12,
   "metadata": {},
   "outputs": [],
   "source": [
    "# set all the positions\n",
    "bodyA.masscenter = pN.locatenew(\"pA\", bodyA.L*bodyA.frame.x)\n",
    "bodyB.masscenter = pN.locatenew(\"pB\", (bodyA.L1*bodyA.frame.x) + (bodyB.L*bodyB.frame.x))\n",
    "bodyC.masscenter = left_motor.masscenter.locatenew(\"pC\", bodyC.L*bodyC.frame.x)\n",
    "bodyD.masscenter = left_motor.masscenter.locatenew(\"pD\", (bodyC.L1*bodyC.frame.x) + (bodyD.L*bodyD.frame.x))"
   ]
  },
  {
   "cell_type": "code",
   "execution_count": 13,
   "metadata": {},
   "outputs": [],
   "source": [
    "# set all the velocities\n",
    "right_motor.masscenter.set_vel(N, 0)\n",
    "left_motor.masscenter.set_vel(N, 0)\n",
    "bodyA.masscenter.set_vel(N, bodyA.masscenter.pos_from(pN).dt(N))\n",
    "bodyB.masscenter.set_vel(N, bodyB.masscenter.pos_from(pN).dt(N))\n",
    "bodyC.masscenter.set_vel(N, bodyC.masscenter.pos_from(pN).dt(N))\n",
    "bodyD.masscenter.set_vel(N, bodyD.masscenter.pos_from(pN).dt(N))"
   ]
  },
  {
   "cell_type": "code",
   "execution_count": 14,
   "metadata": {},
   "outputs": [],
   "source": [
    "# set all the accelerations\n",
    "bodyA.masscenter.set_acc(N, bodyA.masscenter.vel(N).dt(N))\n",
    "bodyB.masscenter.set_acc(N, bodyB.masscenter.vel(N).dt(N))\n",
    "bodyC.masscenter.set_acc(N, bodyC.masscenter.vel(N).dt(N))"
   ]
  },
  {
   "cell_type": "code",
   "execution_count": 15,
   "metadata": {},
   "outputs": [],
   "source": [
    "# define the independent coordinates\n",
    "q_ind = [q1, q4]\n",
    "q_dep = [q2, q5]\n",
    "u_ind = [u1, u4]\n",
    "u_dep = [u2, u5]\n",
    "\n",
    "# and the kinematic differential equations\n",
    "kde = [\n",
    "    [q1d - u1],\n",
    "    [q2d - u2],\n",
    "    [q4d - u4],\n",
    "    [q5d - u5],\n",
    "]\n",
    "\n",
    "# and create the vector loop equations\n",
    "zero = pN.locatenew(\n",
    "    \"zero\", \n",
    "    bodyA.L1*bodyA.frame.x + bodyB.L1*bodyB.frame.x - \\\n",
    "    bodyC.L1*bodyC.frame.x - bodyD.L1*bodyD.frame.x - L*N.x\n",
    ")\n",
    "\n",
    "pos_constraints = [zero.pos_from(pN).dot(N.x), \n",
    "                   zero.pos_from(pN).dot(N.y)]\n",
    "vel_constraints = [zero.pos_from(pN).dt(N).dot(N.x), \n",
    "                   zero.pos_from(pN).dt(N).dot(N.y)]"
   ]
  },
  {
   "cell_type": "code",
   "execution_count": 16,
   "metadata": {},
   "outputs": [],
   "source": [
    "KM = me.KanesMethod(\n",
    "    frame = N, \n",
    "    q_ind = q_ind,\n",
    "    u_ind = u_ind,\n",
    "    kd_eqs = kde,\n",
    "    q_dependent = q_dep,\n",
    "    configuration_constraints = pos_constraints,\n",
    "    u_dependent = u_dep,\n",
    "    velocity_constraints = vel_constraints\n",
    ")"
   ]
  },
  {
   "cell_type": "markdown",
   "metadata": {},
   "source": [
    "### Dynamics"
   ]
  },
  {
   "cell_type": "code",
   "execution_count": 17,
   "metadata": {},
   "outputs": [],
   "source": [
    "# define the loads\n",
    "tau1, tau2 = sm.symbols(\"tau1, tau2\")\n",
    "loads = [\n",
    "    # point/frame, force/moment\n",
    "    (right_motor.masscenter, right_motor.mass*g*-N.z),\n",
    "    (left_motor.masscenter, left_motor.mass*g*-N.z),\n",
    "    (bodyA.masscenter, bodyA.mass*g*-N.z),\n",
    "    (bodyB.masscenter, bodyB.mass*g*-N.z),\n",
    "    (bodyC.masscenter, bodyC.mass*g*-N.z),\n",
    "    (bodyD.masscenter, bodyD.mass*g*-N.z),\n",
    "    (bodyA.frame, tau1*right_motor.frame.z),\n",
    "    (bodyC.frame, tau2*left_motor.frame.z),\n",
    "]\n",
    "# define the bodies\n",
    "bodies = [right_motor, bodyA, bodyB, left_motor, bodyC, bodyD]"
   ]
  },
  {
   "cell_type": "code",
   "execution_count": 18,
   "metadata": {},
   "outputs": [
    {
     "data": {
      "text/plain": [
       "((2, 1), (2, 1))"
      ]
     },
     "execution_count": 18,
     "metadata": {},
     "output_type": "execute_result"
    }
   ],
   "source": [
    "Fr, Fr_star = KM.kanes_equations(bodies, loads)\n",
    "Fr.shape, Fr_star.shape"
   ]
  },
  {
   "cell_type": "code",
   "execution_count": 19,
   "metadata": {},
   "outputs": [],
   "source": [
    "# create container to capture auto generated c++ code\n",
    "c_code = {}\n",
    "c_code[\"tau1\"] = sm.ccode(me.msubs(Fr_star[0], var2sym))\n",
    "c_code[\"tau2\"] = sm.ccode(me.msubs(Fr_star[1], var2sym))"
   ]
  },
  {
   "cell_type": "code",
   "execution_count": 20,
   "metadata": {},
   "outputs": [],
   "source": [
    "in2m = lambda x: x*25.4/1000\n",
    "vals = {\n",
    "    # constants\n",
    "    g: 9.81,               # N*m\n",
    "    L: in2m(4),            # m\n",
    "    gr: 144,               # a.u.\n",
    "    # joint c-c\n",
    "    bodyA.L1: in2m(2.4),   # m\n",
    "    bodyC.L1: in2m(2.4),   # m\n",
    "    bodyB.L1: in2m(3.2),   # m\n",
    "    bodyD.L1: in2m(3.2),   # m\n",
    "    # com properties\n",
    "    bodyA.L: 0.027,        # m\n",
    "    bodyC.L: 0.027,        # m\n",
    "    bodyB.L: 0.04,         # m\n",
    "    bodyD.L: 0.04,         # m\n",
    "    # masses\n",
    "    bodyA.mass: 0.007,     # kg\n",
    "    bodyC.mass: 0.007,     # kg \n",
    "    bodyB.mass: 0.008,     # kg\n",
    "    bodyD.mass: 0.008,     # kg\n",
    "    # moments of inertia \n",
    "    \"bodyA_izz\": 6.39e-6,  # kg m^2\n",
    "    \"bodyC_izz\": 6.39e-6,  # kg m^2\n",
    "    \"bodyB_izz\": 1.01e-5,  # kg m^2\n",
    "    \"bodyD_izz\": 1.01e-5,  # kg m^2\n",
    "    \"motorR_izz\": 3.3e-7,  # kg m^2\n",
    "    \"motorL_izz\": 3.3e-7,  # kg m^2\n",
    "}"
   ]
  },
  {
   "cell_type": "markdown",
   "metadata": {},
   "source": [
    "### Code Capture & Function Generation"
   ]
  },
  {
   "cell_type": "code",
   "execution_count": 21,
   "metadata": {},
   "outputs": [],
   "source": [
    "# create the position matrix\n",
    "pE = pN.locatenew(\"pE\", (bodyA.L1*bodyA.frame.x) + (bodyB.L1*bodyB.frame.x))\n",
    "PNE = (pE.pos_from(pN).to_matrix(N))\n",
    "PNE = PNE.row_del(-1)\n",
    "c_code[\"x_current\"] = sm.ccode(me.msubs(PNE[0], var2sym))\n",
    "c_code[\"y_current\"] = sm.ccode(me.msubs(PNE[1], var2sym))"
   ]
  },
  {
   "cell_type": "code",
   "execution_count": 22,
   "metadata": {},
   "outputs": [
    {
     "data": {
      "text/latex": [
       "$\\displaystyle \\left[\\begin{matrix}0.14224\\\\0\\end{matrix}\\right]$"
      ],
      "text/plain": [
       "Matrix([\n",
       "[0.14224],\n",
       "[      0]])"
      ]
     },
     "execution_count": 22,
     "metadata": {},
     "output_type": "execute_result"
    }
   ],
   "source": [
    "# create callable for the simulation\n",
    "PNE = PNE.subs(vals)\n",
    "PNE_func = sm.lambdify([q1, q2], PNE, modules=\"sympy\")\n",
    "PNE_func(0, 0)"
   ]
  },
  {
   "cell_type": "code",
   "execution_count": 23,
   "metadata": {},
   "outputs": [],
   "source": [
    "# create velocity matrix\n",
    "VNE = pE.pos_from(pN).dt(N).to_matrix(N)\n",
    "VNE = VNE.row_del(-1)\n",
    "c_code[\"xd_current\"] = sm.ccode(me.msubs(VNE[0], var2sym))\n",
    "c_code[\"yd_current\"] = sm.ccode(me.msubs(VNE[1], var2sym))"
   ]
  },
  {
   "cell_type": "code",
   "execution_count": 24,
   "metadata": {},
   "outputs": [
    {
     "data": {
      "text/latex": [
       "$\\displaystyle \\left[\\begin{matrix}0\\\\0.14224\\end{matrix}\\right]$"
      ],
      "text/plain": [
       "Matrix([\n",
       "[      0],\n",
       "[0.14224]])"
      ]
     },
     "execution_count": 24,
     "metadata": {},
     "output_type": "execute_result"
    }
   ],
   "source": [
    "VNE = VNE.subs(vals)\n",
    "VNE_func = sm.lambdify([q1, q2, q1d, q2d], VNE, modules=\"sympy\")\n",
    "VNE_func(0, 0, 1, 0)"
   ]
  },
  {
   "cell_type": "code",
   "execution_count": 25,
   "metadata": {},
   "outputs": [
    {
     "data": {
      "text/latex": [
       "$\\displaystyle \\left[\\begin{matrix}Kp \\left(- x_{current} + x_{desired}\\right) + Kv \\left(- xd_{current} + xd_{desired}\\right)\\\\Kp \\left(- y_{current} + y_{desired}\\right) + Kv \\left(- yd_{current} + yd_{desired}\\right)\\end{matrix}\\right]$"
      ],
      "text/plain": [
       "Matrix([\n",
       "[Kp*(-x_current + x_desired) + Kv*(-xd_current + xd_desired)],\n",
       "[Kp*(-y_current + y_desired) + Kv*(-yd_current + yd_desired)]])"
      ]
     },
     "execution_count": 25,
     "metadata": {},
     "output_type": "execute_result"
    }
   ],
   "source": [
    "# create the task space controller\n",
    "Kp, Kv = sm.symbols(\"Kp, Kv\")\n",
    "X_current = sm.Matrix(sm.symbols(\"x_current, y_current\"))\n",
    "Xd_current = sm.Matrix(sm.symbols(\"xd_current, yd_current\"))\n",
    "X_desired = sm.Matrix(sm.symbols(\"x_desired, y_desired\"))\n",
    "Xd_desired = sm.Matrix(sm.symbols(\"xd_desired, yd_desired\"))\n",
    "u = (Kv*(Xd_desired - Xd_current)) + (Kp*(X_desired - X_current))\n",
    "u"
   ]
  },
  {
   "cell_type": "code",
   "execution_count": 26,
   "metadata": {},
   "outputs": [],
   "source": [
    "c_code[\"xdd_desired\"] = sm.ccode(me.msubs(u[0], var2sym))\n",
    "c_code[\"ydd_desired\"] = sm.ccode(me.msubs(u[1], var2sym))"
   ]
  },
  {
   "cell_type": "code",
   "execution_count": 27,
   "metadata": {},
   "outputs": [
    {
     "data": {
      "text/plain": [
       "((2, 2), (2, 2), (4, 4))"
      ]
     },
     "execution_count": 27,
     "metadata": {},
     "output_type": "execute_result"
    }
   ],
   "source": [
    "# get the positions\n",
    "pE_rhs = right_motor.masscenter.locatenew(\"pE_rhs\", (bodyA.L1*bodyA.frame.x) + (bodyB.L1*bodyB.frame.x))\n",
    "pE_lhs = left_motor.masscenter.locatenew(\"pE_lhs\", (bodyC.L1*bodyC.frame.x) + (bodyD.L1*bodyD.frame.x))\n",
    "\n",
    "# create the 2x2 matrix\n",
    "M_rhs = pE_rhs.pos_from(pN).dt(N).to_matrix(N)\n",
    "M_lhs = pE_lhs.pos_from(pN).dt(N).to_matrix(N)\n",
    "M_rhs = M_rhs.subs(vals)\n",
    "M_lhs = M_lhs.subs(vals)\n",
    "M_rhs = M_rhs.row_del(-1)\n",
    "M_lhs = M_lhs.row_del(-1)\n",
    "M = sm.Matrix.vstack(M_rhs, M_lhs)\n",
    "\n",
    "# create the jacobains\n",
    "X_rhs = sm.Matrix([q1d, q2d])\n",
    "X_lhs = sm.Matrix([q4d, q5d])\n",
    "X = sm.Matrix([q1d, q2d, q4d, q5d])\n",
    "J_rhs = M_rhs.jacobian(X_rhs)\n",
    "J_lhs = M_lhs.jacobian(X_lhs)\n",
    "J = M.jacobian(X)\n",
    "J_rhs.shape, J_lhs.shape, J.shape"
   ]
  },
  {
   "cell_type": "code",
   "execution_count": 28,
   "metadata": {},
   "outputs": [],
   "source": [
    "# extract the Jacobina c++ code\n",
    "rows, cols = J.shape\n",
    "for r in range(rows):\n",
    "    for c in range(cols):\n",
    "        c_code[f\"J({r},{c})\"] = J[r, c]"
   ]
  },
  {
   "cell_type": "code",
   "execution_count": 29,
   "metadata": {},
   "outputs": [
    {
     "data": {
      "text/latex": [
       "$\\displaystyle \\left[\\begin{matrix}- 0.16256 \\sin{\\left(1 \\right)} \\cos{\\left(1 \\right)} - 0.06096 \\sin{\\left(1 \\right)} & - 0.16256 \\sin{\\left(1 \\right)} \\cos{\\left(1 \\right)} & 0 & 0\\\\- 0.08128 \\sin^{2}{\\left(1 \\right)} + 0.08128 \\cos^{2}{\\left(1 \\right)} + 0.06096 \\cos{\\left(1 \\right)} & - 0.08128 \\sin^{2}{\\left(1 \\right)} + 0.08128 \\cos^{2}{\\left(1 \\right)} & 0 & 0\\\\0 & 0 & - 0.16256 \\sin{\\left(1 \\right)} \\cos{\\left(1 \\right)} - 0.06096 \\sin{\\left(1 \\right)} & - 0.16256 \\sin{\\left(1 \\right)} \\cos{\\left(1 \\right)}\\\\0 & 0 & - 0.08128 \\sin^{2}{\\left(1 \\right)} + 0.08128 \\cos^{2}{\\left(1 \\right)} + 0.06096 \\cos{\\left(1 \\right)} & - 0.08128 \\sin^{2}{\\left(1 \\right)} + 0.08128 \\cos^{2}{\\left(1 \\right)}\\end{matrix}\\right]$"
      ],
      "text/plain": [
       "Matrix([\n",
       "[                -0.16256*sin(1)*cos(1) - 0.06096*sin(1),                 -0.16256*sin(1)*cos(1),                                                       0,                                      0],\n",
       "[-0.08128*sin(1)**2 + 0.08128*cos(1)**2 + 0.06096*cos(1), -0.08128*sin(1)**2 + 0.08128*cos(1)**2,                                                       0,                                      0],\n",
       "[                                                      0,                                      0,                 -0.16256*sin(1)*cos(1) - 0.06096*sin(1),                 -0.16256*sin(1)*cos(1)],\n",
       "[                                                      0,                                      0, -0.08128*sin(1)**2 + 0.08128*cos(1)**2 + 0.06096*cos(1), -0.08128*sin(1)**2 + 0.08128*cos(1)**2]])"
      ]
     },
     "execution_count": 29,
     "metadata": {},
     "output_type": "execute_result"
    }
   ],
   "source": [
    "# create jocobain callable\n",
    "J_func = sm.lambdify([q1, q2, q4, q5], J, modules=\"sympy\")\n",
    "J_func(1, 1, 1, 1)"
   ]
  },
  {
   "cell_type": "code",
   "execution_count": 30,
   "metadata": {},
   "outputs": [],
   "source": [
    "# create the jacobian derivative\n",
    "Jd = sm.diff(J, 't')\n",
    "\n",
    "# collect the c-code\n",
    "rows, cols = Jd.shape\n",
    "for r in range(rows):\n",
    "    for c in range(cols):\n",
    "        c_code[f\"J({r},{c})\"] = Jd[r, c]"
   ]
  },
  {
   "cell_type": "code",
   "execution_count": 31,
   "metadata": {},
   "outputs": [
    {
     "data": {
      "text/latex": [
       "$\\displaystyle \\left[\\begin{matrix}- 0.16256 \\cos^{2}{\\left(1 \\right)} - 0.06096 \\cos{\\left(1 \\right)} + 0.16256 \\sin^{2}{\\left(1 \\right)} & - 0.16256 \\cos^{2}{\\left(1 \\right)} + 0.16256 \\sin^{2}{\\left(1 \\right)} & 0 & 0\\\\- 0.32512 \\sin{\\left(1 \\right)} \\cos{\\left(1 \\right)} - 0.06096 \\sin{\\left(1 \\right)} & - 0.32512 \\sin{\\left(1 \\right)} \\cos{\\left(1 \\right)} & 0 & 0\\\\0 & 0 & - 0.16256 \\cos^{2}{\\left(1 \\right)} - 0.06096 \\cos{\\left(1 \\right)} + 0.16256 \\sin^{2}{\\left(1 \\right)} & - 0.16256 \\cos^{2}{\\left(1 \\right)} + 0.16256 \\sin^{2}{\\left(1 \\right)}\\\\0 & 0 & - 0.32512 \\sin{\\left(1 \\right)} \\cos{\\left(1 \\right)} - 0.06096 \\sin{\\left(1 \\right)} & - 0.32512 \\sin{\\left(1 \\right)} \\cos{\\left(1 \\right)}\\end{matrix}\\right]$"
      ],
      "text/plain": [
       "Matrix([\n",
       "[-0.16256*cos(1)**2 - 0.06096*cos(1) + 0.16256*sin(1)**2, -0.16256*cos(1)**2 + 0.16256*sin(1)**2,                                                       0,                                      0],\n",
       "[                -0.32512*sin(1)*cos(1) - 0.06096*sin(1),                 -0.32512*sin(1)*cos(1),                                                       0,                                      0],\n",
       "[                                                      0,                                      0, -0.16256*cos(1)**2 - 0.06096*cos(1) + 0.16256*sin(1)**2, -0.16256*cos(1)**2 + 0.16256*sin(1)**2],\n",
       "[                                                      0,                                      0,                 -0.32512*sin(1)*cos(1) - 0.06096*sin(1),                 -0.32512*sin(1)*cos(1)]])"
      ]
     },
     "execution_count": 31,
     "metadata": {},
     "output_type": "execute_result"
    }
   ],
   "source": [
    "# create the jacobian derivative callable\n",
    "Jd_func = sm.lambdify([q1, q2, q4, q5, q1d, q2d, q4d, q5d], Jd, modules=\"sympy\")\n",
    "Jd_func(1, 1, 1, 1, 1, 1, 1, 1)"
   ]
  },
  {
   "cell_type": "markdown",
   "metadata": {},
   "source": [
    "### Inverse Kinematics"
   ]
  },
  {
   "cell_type": "code",
   "execution_count": 32,
   "metadata": {},
   "outputs": [
    {
     "data": {
      "text/latex": [
       "$\\displaystyle \\operatorname{acos}{\\left(\\frac{\\sqrt{L^{2} + 2 L LA_{1} \\cos{\\left(\\operatorname{q_{1}}{\\left(t \\right)} \\right)} - 2 L LC_{1} \\cos{\\left(\\operatorname{q_{4}}{\\left(t \\right)} \\right)} + LA_{1}^{2} - 2 LA_{1} LC_{1} \\left(\\sin{\\left(\\operatorname{q_{1}}{\\left(t \\right)} \\right)} \\sin{\\left(\\operatorname{q_{4}}{\\left(t \\right)} \\right)} + \\cos{\\left(\\operatorname{q_{1}}{\\left(t \\right)} \\right)} \\cos{\\left(\\operatorname{q_{4}}{\\left(t \\right)} \\right)}\\right) + LC_{1}^{2}}}{2 LB_{1}} \\right)}$"
      ],
      "text/plain": [
       "acos(sqrt(L**2 + 2*L*LA_1*cos(q1(t)) - 2*L*LC_1*cos(q4(t)) + LA_1**2 - 2*LA_1*LC_1*(sin(q1(t))*sin(q4(t)) + cos(q1(t))*cos(q4(t))) + LC_1**2)/(2*LB_1))"
      ]
     },
     "execution_count": 32,
     "metadata": {},
     "output_type": "execute_result"
    }
   ],
   "source": [
    "# create length vectors\n",
    "p1 = right_motor.masscenter.locatenew(\"p1\", bodyA.L1*bodyA.frame.x)\n",
    "p2 = left_motor.masscenter.locatenew(\"p2\", bodyC.L1*bodyC.frame.x)\n",
    "\n",
    "# calculate gamma using the law of cosines\n",
    "W = p2.pos_from(p1)\n",
    "gamma = sm.acos(W.magnitude()/(2*bodyB.L1))\n",
    "c_code[\"gamma\"] = sm.ccode(me.msubs(gamma, var2sym))\n",
    "gamma"
   ]
  },
  {
   "cell_type": "code",
   "execution_count": 33,
   "metadata": {},
   "outputs": [
    {
     "data": {
      "text/plain": [
       "0.8956647938578651"
      ]
     },
     "execution_count": 33,
     "metadata": {},
     "output_type": "execute_result"
    }
   ],
   "source": [
    "# substitute in numerical values\n",
    "gamma = gamma.subs(vals)\n",
    "\n",
    "# create gamma function\n",
    "gamma_func = sm.lambdify([q1, q4], gamma, modules=\"numpy\")\n",
    "gamma_func(pi/2, pi/2)"
   ]
  },
  {
   "cell_type": "code",
   "execution_count": 34,
   "metadata": {},
   "outputs": [
    {
     "data": {
      "text/latex": [
       "$\\displaystyle \\operatorname{acos}{\\left(\\frac{L LA_{1} \\cos{\\left(\\operatorname{q_{1}}{\\left(t \\right)} \\right)} + LA_{1}^{2} - LA_{1} LC_{1} \\left(\\sin{\\left(\\operatorname{q_{1}}{\\left(t \\right)} \\right)} \\sin{\\left(\\operatorname{q_{4}}{\\left(t \\right)} \\right)} + \\cos{\\left(\\operatorname{q_{1}}{\\left(t \\right)} \\right)} \\cos{\\left(\\operatorname{q_{4}}{\\left(t \\right)} \\right)}\\right)}{\\sqrt{L^{2} + 2 L LA_{1} \\cos{\\left(\\operatorname{q_{1}}{\\left(t \\right)} \\right)} - 2 L LC_{1} \\cos{\\left(\\operatorname{q_{4}}{\\left(t \\right)} \\right)} + LA_{1}^{2} - 2 LA_{1} LC_{1} \\left(\\sin{\\left(\\operatorname{q_{1}}{\\left(t \\right)} \\right)} \\sin{\\left(\\operatorname{q_{4}}{\\left(t \\right)} \\right)} + \\cos{\\left(\\operatorname{q_{1}}{\\left(t \\right)} \\right)} \\cos{\\left(\\operatorname{q_{4}}{\\left(t \\right)} \\right)}\\right) + LC_{1}^{2}} \\sqrt{LA_{1}^{2}}} \\right)}$"
      ],
      "text/plain": [
       "acos((L*LA_1*cos(q1(t)) + LA_1**2 - LA_1*LC_1*(sin(q1(t))*sin(q4(t)) + cos(q1(t))*cos(q4(t))))/(sqrt(L**2 + 2*L*LA_1*cos(q1(t)) - 2*L*LC_1*cos(q4(t)) + LA_1**2 - 2*LA_1*LC_1*(sin(q1(t))*sin(q4(t)) + cos(q1(t))*cos(q4(t))) + LC_1**2)*sqrt(LA_1**2)))"
      ]
     },
     "execution_count": 34,
     "metadata": {},
     "output_type": "execute_result"
    }
   ],
   "source": [
    "# create expression for alpha1\n",
    "alpha1 = sm.acos(W.dot(-p1.pos_from(right_motor.masscenter))/(W.magnitude()*p1.pos_from(right_motor.masscenter).magnitude()) )\n",
    "c_code[\"alpha1\"] = sm.ccode(me.msubs(alpha1, var2sym))\n",
    "alpha1"
   ]
  },
  {
   "cell_type": "code",
   "execution_count": 35,
   "metadata": {},
   "outputs": [
    {
     "data": {
      "text/latex": [
       "$\\displaystyle \\operatorname{acos}{\\left(\\frac{123.111071230235 \\left(- 0.0037161216 \\sin{\\left(\\operatorname{q_{1}}{\\left(t \\right)} \\right)} \\sin{\\left(\\operatorname{q_{4}}{\\left(t \\right)} \\right)} - 0.0037161216 \\cos{\\left(\\operatorname{q_{1}}{\\left(t \\right)} \\right)} \\cos{\\left(\\operatorname{q_{4}}{\\left(t \\right)} \\right)} + 0.006193536 \\cos{\\left(\\operatorname{q_{1}}{\\left(t \\right)} \\right)} + 0.0037161216\\right)}{\\sqrt{- 0.418604651162791 \\sin{\\left(\\operatorname{q_{1}}{\\left(t \\right)} \\right)} \\sin{\\left(\\operatorname{q_{4}}{\\left(t \\right)} \\right)} - 0.418604651162791 \\cos{\\left(\\operatorname{q_{1}}{\\left(t \\right)} \\right)} \\cos{\\left(\\operatorname{q_{4}}{\\left(t \\right)} \\right)} + 0.697674418604651 \\cos{\\left(\\operatorname{q_{1}}{\\left(t \\right)} \\right)} - 0.697674418604651 \\cos{\\left(\\operatorname{q_{4}}{\\left(t \\right)} \\right)} + 1}} \\right)}$"
      ],
      "text/plain": [
       "acos(123.111071230235*(-0.0037161216*sin(q1(t))*sin(q4(t)) - 0.0037161216*cos(q1(t))*cos(q4(t)) + 0.006193536*cos(q1(t)) + 0.0037161216)/sqrt(-0.418604651162791*sin(q1(t))*sin(q4(t)) - 0.418604651162791*cos(q1(t))*cos(q4(t)) + 0.697674418604651*cos(q1(t)) - 0.697674418604651*cos(q4(t)) + 1))"
      ]
     },
     "execution_count": 35,
     "metadata": {},
     "output_type": "execute_result"
    }
   ],
   "source": [
    "# sub in numbers\n",
    "alpha1 = alpha1.subs(vals)\n",
    "alpha1"
   ]
  },
  {
   "cell_type": "code",
   "execution_count": 36,
   "metadata": {},
   "outputs": [
    {
     "data": {
      "text/latex": [
       "$\\displaystyle \\operatorname{q_{1}}{\\left(t \\right)} - \\operatorname{q_{4}}{\\left(t \\right)} - \\operatorname{acos}{\\left(\\frac{123.111071230235 \\left(- 0.0037161216 \\sin{\\left(\\operatorname{q_{1}}{\\left(t \\right)} \\right)} \\sin{\\left(\\operatorname{q_{4}}{\\left(t \\right)} \\right)} - 0.0037161216 \\cos{\\left(\\operatorname{q_{1}}{\\left(t \\right)} \\right)} \\cos{\\left(\\operatorname{q_{4}}{\\left(t \\right)} \\right)} + 0.006193536 \\cos{\\left(\\operatorname{q_{1}}{\\left(t \\right)} \\right)} + 0.0037161216\\right)}{\\sqrt{- 0.418604651162791 \\sin{\\left(\\operatorname{q_{1}}{\\left(t \\right)} \\right)} \\sin{\\left(\\operatorname{q_{4}}{\\left(t \\right)} \\right)} - 0.418604651162791 \\cos{\\left(\\operatorname{q_{1}}{\\left(t \\right)} \\right)} \\cos{\\left(\\operatorname{q_{4}}{\\left(t \\right)} \\right)} + 0.697674418604651 \\cos{\\left(\\operatorname{q_{1}}{\\left(t \\right)} \\right)} - 0.697674418604651 \\cos{\\left(\\operatorname{q_{4}}{\\left(t \\right)} \\right)} + 1}} \\right)} + \\pi$"
      ],
      "text/plain": [
       "q1(t) - q4(t) - acos(123.111071230235*(-0.0037161216*sin(q1(t))*sin(q4(t)) - 0.0037161216*cos(q1(t))*cos(q4(t)) + 0.006193536*cos(q1(t)) + 0.0037161216)/sqrt(-0.418604651162791*sin(q1(t))*sin(q4(t)) - 0.418604651162791*cos(q1(t))*cos(q4(t)) + 0.697674418604651*cos(q1(t)) - 0.697674418604651*cos(q4(t)) + 1)) + pi"
      ]
     },
     "execution_count": 36,
     "metadata": {},
     "output_type": "execute_result"
    }
   ],
   "source": [
    "# create expression for alpha2\n",
    "alpha2 = q1 - q4 - alpha1 + sm.pi\n",
    "c_code[\"alpha2\"] = sm.ccode(me.msubs(alpha2, var2sym))\n",
    "alpha2"
   ]
  },
  {
   "cell_type": "code",
   "execution_count": 37,
   "metadata": {},
   "outputs": [
    {
     "data": {
      "text/plain": [
       "[1.5707963267948966, 1.5707963267948966]"
      ]
     },
     "execution_count": 37,
     "metadata": {},
     "output_type": "execute_result"
    }
   ],
   "source": [
    "# create callables for alpha1 and alpha2\n",
    "alpha_func = sm.lambdify([q1, q4], [alpha1, alpha2], modules=\"numpy\")\n",
    "alpha_func(pi/2, pi/2)"
   ]
  },
  {
   "cell_type": "code",
   "execution_count": 38,
   "metadata": {},
   "outputs": [
    {
     "data": {
      "text/plain": [
       "{Derivative(q2(t), t): 0.25*(3.0*sin(-q1(t) + q4(t) + q5(t))*Derivative(q1(t), t) - 4.0*sin(q1(t) + q2(t) - q4(t) - q5(t))*Derivative(q1(t), t) - 3.0*sin(q5(t))*Derivative(q4(t), t))/sin(q1(t) + q2(t) - q4(t) - q5(t)),\n",
       " Derivative(q5(t), t): 0.25*(-3.0*sin(q1(t) + q2(t) - q4(t))*Derivative(q4(t), t) - 4.0*sin(q1(t) + q2(t) - q4(t) - q5(t))*Derivative(q4(t), t) + 3.0*sin(q2(t))*Derivative(q1(t), t))/sin(q1(t) + q2(t) - q4(t) - q5(t))}"
      ]
     },
     "execution_count": 38,
     "metadata": {},
     "output_type": "execute_result"
    }
   ],
   "source": [
    "# solve for q2d and q5d using vector loop constraint\n",
    "M = zero.pos_from(pN).dt(N).to_matrix(N)\n",
    "M = M.subs(vals)\n",
    "sol = sm.solve([M], [q2d, q5d])\n",
    "sol"
   ]
  },
  {
   "cell_type": "code",
   "execution_count": 39,
   "metadata": {},
   "outputs": [],
   "source": [
    "eq1 = me.msubs(sol[q2d], var2sym)\n",
    "eq2 = me.msubs(sol[q5d], var2sym)\n",
    "c_code[\"q2d\"] = eq1\n",
    "c_code[\"q5d\"] = eq2"
   ]
  },
  {
   "cell_type": "code",
   "execution_count": 40,
   "metadata": {},
   "outputs": [
    {
     "data": {
      "text/plain": [
       "[-1.0, -1.0000000000000002]"
      ]
     },
     "execution_count": 40,
     "metadata": {},
     "output_type": "execute_result"
    }
   ],
   "source": [
    "qd_func = sm.lambdify([q1, q2, q4, q5, q1d, q4d], [sol[q2d], sol[q5d]], modules=\"numpy\")\n",
    "qd_func(pi/2, 0.68, pi/2, -0.68, 1, 1)"
   ]
  },
  {
   "cell_type": "markdown",
   "metadata": {},
   "source": [
    "### Simulation"
   ]
  },
  {
   "cell_type": "code",
   "execution_count": 41,
   "metadata": {},
   "outputs": [],
   "source": [
    "# x1 = q1,    x1d = q1d\n",
    "# x2 = q4,    x2d = q4d\n",
    "# x3 = q1d,   x3d = q1dd\n",
    "# x4 = q4d,   x4d = q4dd\n",
    "\n",
    "# declare controller variables\n",
    "KP = 100\n",
    "KV = sqrt(KP*8)\n",
    "\n",
    "# declare globals for point tracking\n",
    "X_CURRENT, Y_CURRENT = 0, 0\n",
    "X_DESIRED, Y_DESIRED = 0, 0\n",
    "\n",
    "def model(t, x):\n",
    "    # unpack the vector\n",
    "    q1, q4, q1d, q4d = x\n",
    "    \n",
    "    # get gamma, alpha1, and alpha2\n",
    "    gamma = gamma_func(q1, q4)\n",
    "    alpha1, alpha2 = alpha_func(q1, q4)\n",
    "    \n",
    "    # solve for q2, and q5\n",
    "    q2 = pi - (alpha1 + gamma)\n",
    "    q5 = pi + (alpha2 + gamma)\n",
    "     \n",
    "    # solve for the velocities\n",
    "    q2d, q5d = qd_func(q1, q2, q4, q5, q1d, q4d)\n",
    "    \n",
    "    \n",
    "    # calculate point E position\n",
    "    x, y = PNE_func(q1, q2)\n",
    "    \n",
    "    # assign to global namespace\n",
    "    global X_CURRENT, Y_CURRENT\n",
    "    X_CURRENT, Y_CURRENT = x, y\n",
    "    \n",
    "    # calculate the speeds\n",
    "    xd, yd = VNE_func(q1, q2, q1d, q2d)\n",
    "    \n",
    "    # calculate the controller output\n",
    "    global X_DESIRED, Y_DESIRED, KP, KV\n",
    "    u = (KV*(sm.Matrix([0 - xd, 0 - yd]))) + \\\n",
    "        (KP*(sm.Matrix([X_DESIRED - x, Y_DESIRED - y])))\n",
    "    \n",
    "    # create task space acceleration vector\n",
    "    Xdd = sm.Matrix.vstack(u, u)\n",
    "    \n",
    "    # calculate the jacobian\n",
    "    J = J_func(q1, q2, q4, q5)\n",
    "    \n",
    "    # calculate the angular velocities\n",
    "    Xd = sm.Matrix([xd, yd, xd, yd])\n",
    "    q1d, q2d, q4d, q5d = J.inv()*Xd\n",
    "    \n",
    "    # calculate the desired accelerations\n",
    "    Jd = Jd_func(q1, q2, q4, q5, q1d, q2d, q4d, q5d)\n",
    "    q1dd, q2dd, q4dd, q5dd = J.inv()*(Xdd - (Jd*sm.Matrix([q1d, q2d, q4d, q5d])))\n",
    "                    \n",
    "    # assign the xdots\n",
    "    x1d = q1d\n",
    "    x2d = q4d\n",
    "    x3d = q1dd\n",
    "    x4d = q4dd\n",
    "    \n",
    "    # return the values\n",
    "    return (x1d, x2d, x3d, x4d)"
   ]
  },
  {
   "cell_type": "code",
   "execution_count": 42,
   "metadata": {},
   "outputs": [],
   "source": [
    "# create the callable for the target point\n",
    "R, r, d = in2m(0.5), in2m(0.1), in2m(0.65)\n",
    "x_offset, y_offset = -in2m(2), in2m(4)\n",
    "xh = lambda theta: float(((R-r)*cos(theta)) + (d*cos((R-r)*(theta/r))) + x_offset)\n",
    "yh = lambda theta: float(((R-r)*sin(theta)) - (d*sin((R-r)*(theta/r))) + y_offset)"
   ]
  },
  {
   "cell_type": "code",
   "execution_count": 43,
   "metadata": {},
   "outputs": [
    {
     "data": {
      "image/png": "[encoded data removed]",
      "text/plain": [
       "<Figure size 432x288 with 1 Axes>"
      ]
     },
     "metadata": {
      "needs_background": "light"
     },
     "output_type": "display_data"
    }
   ],
   "source": [
    "m2in = lambda x: x*1000/25.4\n",
    "thetas = linspace(0, 2*pi, 75)\n",
    "x_vals = [xh(t) for t in thetas]\n",
    "y_vals = [yh(t) for t in thetas]\n",
    "plt.plot([m2in(v) for v in x_vals], [m2in(v) for v in y_vals], '.')\n",
    "plt.grid()\n",
    "plt.title(\"target shape\")\n",
    "plt.xlabel(\"N.x [m]\")\n",
    "plt.ylabel(\"N.y [m]\");"
   ]
  },
  {
   "cell_type": "code",
   "execution_count": 46,
   "metadata": {},
   "outputs": [],
   "source": [
    "# create the containers and error theshold\n",
    "conditions = array([pi/2, pi/2, 0, 0])\n",
    "times = array([0])\n",
    "results = array([0, 0])\n",
    "eps = 0.001\n",
    "\n",
    "\n",
    "# create the function that runs the interval\n",
    "def run_interval(theta, times, conditions, results):\n",
    "    # set up this leg of the simulation\n",
    "    simulator = RK45(model, times[0], conditions, 1, max_step = 0.1)\n",
    "    global X_DESIRED, Y_DESIRED\n",
    "    X_DESIRED = xh(theta)\n",
    "    Y_DESIRED = yh(theta)\n",
    "    \n",
    "    # run this leg of the simulation\n",
    "    while True:\n",
    "        # attempt to step\n",
    "        try:\n",
    "            simulator.step()\n",
    "        # if the solver is finished\n",
    "        except Exception as e:\n",
    "            break\n",
    "        # if the step was successful\n",
    "        else:\n",
    "            # if it's close enough to the target\n",
    "            if linalg.norm([float(X_DESIRED - X_CURRENT), float(Y_DESIRED - Y_CURRENT)]) <= eps:\n",
    "                break\n",
    "            # if its not close enough to the target\n",
    "            else:\n",
    "                times = vstack([times, simulator.t])\n",
    "                conditions = simulator.y\n",
    "                results = vstack([results, (X_CURRENT, Y_CURRENT)])\n",
    "            \n",
    "    # return this leg of the simulation\n",
    "    return theta, times, conditions, results\n",
    "\n",
    "\n",
    "# run all the intervals\n",
    "theta = 0\n",
    "while theta < 7:\n",
    "    # put in the last conditions\n",
    "    theta, times, conditions, results = run_interval(theta, times, conditions, results)\n",
    "    theta += 0.1"
   ]
  },
  {
   "cell_type": "code",
   "execution_count": 47,
   "metadata": {},
   "outputs": [
    {
     "data": {
      "image/png": "[encoded data removed]",
      "text/plain": [
       "<Figure size 432x288 with 1 Axes>"
      ]
     },
     "metadata": {
      "needs_background": "light"
     },
     "output_type": "display_data"
    }
   ],
   "source": [
    "x = [m2in(x) for x in results[1::, 0]]\n",
    "y = [m2in(y) for y in results[1::, 1]]\n",
    "plt.plot(x, y)\n",
    "plt.grid()\n",
    "plt.title(\"task space controller\")\n",
    "plt.xlabel(\"N.x [in]\")\n",
    "plt.ylabel(\"N.y [in]\");"
   ]
  },
  {
   "cell_type": "markdown",
   "metadata": {},
   "source": [
    "### Auto generate C++ "
   ]
  },
  {
   "cell_type": "code",
   "execution_count": 48,
   "metadata": {},
   "outputs": [
    {
     "name": "stdout",
     "output_type": "stream",
     "text": [
      "tau1 = -LA_1*LB_COM*bodyB_mass*pow(u1, 2)*sin(q2) + LA_1*LB_COM*bodyB_mass*pow(u1 + u2, 2)*sin(q2) - u1d*(pow(LA_COM, 2)*bodyA_mass + bodyA_izz + bodyB_izz + bodyB_mass*(pow(LA_1, 2) + 2*LA_1*LB_COM*cos(q2) + pow(LB_COM, 2)) + pow(gr, 2)*motorR_izz) - u2d*(bodyB_izz + bodyB_mass*(LA_1*LB_COM*cos(q2) + pow(LB_COM, 2))) - (LA_1*cos(q1) + LB_1*(-sin(q1)*sin(q2) + cos(q1)*cos(q2)) - (-LA_1*sin(q1) + LB_1*(-sin(q1)*cos(q2) - sin(q2)*cos(q1)))*(-sin(q1)*sin(q2) + cos(q1)*cos(q2))/(-sin(q1)*cos(q2) - sin(q2)*cos(q1)))*(-LC_1*LD_COM*bodyD_mass*pow(u4, 2)*sin(q5) - u4d*(bodyD_izz + bodyD_mass*(LC_1*LD_COM*cos(q5) + pow(LD_COM, 2))) - u5d*(pow(LD_COM, 2)*bodyD_mass + bodyD_izz))/(LD_1*(-sin(q1)*sin(q2) + cos(q1)*cos(q2))*(-sin(q4)*cos(q5) - sin(q5)*cos(q4))/(-sin(q1)*cos(q2) - sin(q2)*cos(q1)) - LD_1*(-sin(q4)*sin(q5) + cos(q4)*cos(q5))) - (-LA_1*sin(q1) + LB_1*(-sin(q1)*cos(q2) - sin(q2)*cos(q1)) + LD_1*(-sin(q4)*cos(q5) - sin(q5)*cos(q4))*(LA_1*cos(q1) + LB_1*(-sin(q1)*sin(q2) + cos(q1)*cos(q2)) - (-LA_1*sin(q1) + LB_1*(-sin(q1)*cos(q2) - sin(q2)*cos(q1)))*(-sin(q1)*sin(q2) + cos(q1)*cos(q2))/(-sin(q1)*cos(q2) - sin(q2)*cos(q1)))/(LD_1*(-sin(q1)*sin(q2) + cos(q1)*cos(q2))*(-sin(q4)*cos(q5) - sin(q5)*cos(q4))/(-sin(q1)*cos(q2) - sin(q2)*cos(q1)) - LD_1*(-sin(q4)*sin(q5) + cos(q4)*cos(q5))))*(-LA_1*LB_COM*bodyB_mass*pow(u1, 2)*sin(q2) - u1d*(bodyB_izz + bodyB_mass*(LA_1*LB_COM*cos(q2) + pow(LB_COM, 2))) - u2d*(pow(LB_COM, 2)*bodyB_mass + bodyB_izz))/(LB_1*(-sin(q1)*cos(q2) - sin(q2)*cos(q1)))\n",
      "\n",
      "tau2 = -LC_1*LD_COM*bodyD_mass*pow(u4, 2)*sin(q5) + LC_1*LD_COM*bodyD_mass*pow(u4 + u5, 2)*sin(q5) - u4d*(pow(LC_COM, 2)*bodyC_mass + bodyC_izz + bodyD_izz + bodyD_mass*(pow(LC_1, 2) + 2*LC_1*LD_COM*cos(q5) + pow(LD_COM, 2)) + pow(gr, 2)*motorL_izz) - u5d*(bodyD_izz + bodyD_mass*(LC_1*LD_COM*cos(q5) + pow(LD_COM, 2))) - (-LC_1*cos(q4) - LD_1*(-sin(q4)*sin(q5) + cos(q4)*cos(q5)) - (LC_1*sin(q4) - LD_1*(-sin(q4)*cos(q5) - sin(q5)*cos(q4)))*(-sin(q1)*sin(q2) + cos(q1)*cos(q2))/(-sin(q1)*cos(q2) - sin(q2)*cos(q1)))*(-LC_1*LD_COM*bodyD_mass*pow(u4, 2)*sin(q5) - u4d*(bodyD_izz + bodyD_mass*(LC_1*LD_COM*cos(q5) + pow(LD_COM, 2))) - u5d*(pow(LD_COM, 2)*bodyD_mass + bodyD_izz))/(LD_1*(-sin(q1)*sin(q2) + cos(q1)*cos(q2))*(-sin(q4)*cos(q5) - sin(q5)*cos(q4))/(-sin(q1)*cos(q2) - sin(q2)*cos(q1)) - LD_1*(-sin(q4)*sin(q5) + cos(q4)*cos(q5))) - (LC_1*sin(q4) - LD_1*(-sin(q4)*cos(q5) - sin(q5)*cos(q4)) + LD_1*(-sin(q4)*cos(q5) - sin(q5)*cos(q4))*(-LC_1*cos(q4) - LD_1*(-sin(q4)*sin(q5) + cos(q4)*cos(q5)) - (LC_1*sin(q4) - LD_1*(-sin(q4)*cos(q5) - sin(q5)*cos(q4)))*(-sin(q1)*sin(q2) + cos(q1)*cos(q2))/(-sin(q1)*cos(q2) - sin(q2)*cos(q1)))/(LD_1*(-sin(q1)*sin(q2) + cos(q1)*cos(q2))*(-sin(q4)*cos(q5) - sin(q5)*cos(q4))/(-sin(q1)*cos(q2) - sin(q2)*cos(q1)) - LD_1*(-sin(q4)*sin(q5) + cos(q4)*cos(q5))))*(-LA_1*LB_COM*bodyB_mass*pow(u1, 2)*sin(q2) - u1d*(bodyB_izz + bodyB_mass*(LA_1*LB_COM*cos(q2) + pow(LB_COM, 2))) - u2d*(pow(LB_COM, 2)*bodyB_mass + bodyB_izz))/(LB_1*(-sin(q1)*cos(q2) - sin(q2)*cos(q1)))\n",
      "\n",
      "x_current = LA_1*cos(q1) + LB_1*(-sin(q1)*sin(q2) + cos(q1)*cos(q2))\n",
      "\n",
      "y_current = LA_1*sin(q1) + LB_1*(sin(q1)*cos(q2) + sin(q2)*cos(q1))\n",
      "\n",
      "xd_current = -LA_1*q1d*sin(q1) + LB_1*(q1d + q2d)*(-sin(q1)*cos(q2) - sin(q2)*cos(q1))\n",
      "\n",
      "yd_current = LA_1*q1d*cos(q1) + LB_1*(q1d + q2d)*(-sin(q1)*sin(q2) + cos(q1)*cos(q2))\n",
      "\n",
      "xdd_desired = Kp*(-x_current + x_desired) + Kv*(-xd_current + xd_desired)\n",
      "\n",
      "ydd_desired = Kp*(-y_current + y_desired) + Kv*(-yd_current + yd_desired)\n",
      "\n",
      "J(0,0) = 0.08128*sin(q1(t))*sin(q2(t))*Derivative(q1(t), t) + 0.08128*sin(q1(t))*sin(q2(t))*Derivative(q2(t), t) - 0.08128*cos(q1(t))*cos(q2(t))*Derivative(q1(t), t) - 0.08128*cos(q1(t))*cos(q2(t))*Derivative(q2(t), t) - 0.06096*cos(q1(t))*Derivative(q1(t), t)\n",
      "\n",
      "J(0,1) = 0.08128*sin(q1(t))*sin(q2(t))*Derivative(q1(t), t) + 0.08128*sin(q1(t))*sin(q2(t))*Derivative(q2(t), t) - 0.08128*cos(q1(t))*cos(q2(t))*Derivative(q1(t), t) - 0.08128*cos(q1(t))*cos(q2(t))*Derivative(q2(t), t)\n",
      "\n",
      "J(0,2) = 0\n",
      "\n",
      "J(0,3) = 0\n",
      "\n",
      "J(1,0) = -0.08128*sin(q1(t))*cos(q2(t))*Derivative(q1(t), t) - 0.08128*sin(q1(t))*cos(q2(t))*Derivative(q2(t), t) - 0.06096*sin(q1(t))*Derivative(q1(t), t) - 0.08128*sin(q2(t))*cos(q1(t))*Derivative(q1(t), t) - 0.08128*sin(q2(t))*cos(q1(t))*Derivative(q2(t), t)\n",
      "\n",
      "J(1,1) = -0.08128*sin(q1(t))*cos(q2(t))*Derivative(q1(t), t) - 0.08128*sin(q1(t))*cos(q2(t))*Derivative(q2(t), t) - 0.08128*sin(q2(t))*cos(q1(t))*Derivative(q1(t), t) - 0.08128*sin(q2(t))*cos(q1(t))*Derivative(q2(t), t)\n",
      "\n",
      "J(1,2) = 0\n",
      "\n",
      "J(1,3) = 0\n",
      "\n",
      "J(2,0) = 0\n",
      "\n",
      "J(2,1) = 0\n",
      "\n",
      "J(2,2) = 0.08128*sin(q4(t))*sin(q5(t))*Derivative(q4(t), t) + 0.08128*sin(q4(t))*sin(q5(t))*Derivative(q5(t), t) - 0.08128*cos(q4(t))*cos(q5(t))*Derivative(q4(t), t) - 0.08128*cos(q4(t))*cos(q5(t))*Derivative(q5(t), t) - 0.06096*cos(q4(t))*Derivative(q4(t), t)\n",
      "\n",
      "J(2,3) = 0.08128*sin(q4(t))*sin(q5(t))*Derivative(q4(t), t) + 0.08128*sin(q4(t))*sin(q5(t))*Derivative(q5(t), t) - 0.08128*cos(q4(t))*cos(q5(t))*Derivative(q4(t), t) - 0.08128*cos(q4(t))*cos(q5(t))*Derivative(q5(t), t)\n",
      "\n",
      "J(3,0) = 0\n",
      "\n",
      "J(3,1) = 0\n",
      "\n",
      "J(3,2) = -0.08128*sin(q4(t))*cos(q5(t))*Derivative(q4(t), t) - 0.08128*sin(q4(t))*cos(q5(t))*Derivative(q5(t), t) - 0.06096*sin(q4(t))*Derivative(q4(t), t) - 0.08128*sin(q5(t))*cos(q4(t))*Derivative(q4(t), t) - 0.08128*sin(q5(t))*cos(q4(t))*Derivative(q5(t), t)\n",
      "\n",
      "J(3,3) = -0.08128*sin(q4(t))*cos(q5(t))*Derivative(q4(t), t) - 0.08128*sin(q4(t))*cos(q5(t))*Derivative(q5(t), t) - 0.08128*sin(q5(t))*cos(q4(t))*Derivative(q4(t), t) - 0.08128*sin(q5(t))*cos(q4(t))*Derivative(q5(t), t)\n",
      "\n",
      "gamma = acos((1.0/2.0)*sqrt(pow(L, 2) + 2*L*LA_1*cos(q1) - 2*L*LC_1*cos(q4) + pow(LA_1, 2) - 2*LA_1*LC_1*(sin(q1)*sin(q4) + cos(q1)*cos(q4)) + pow(LC_1, 2))/LB_1)\n",
      "\n",
      "alpha1 = acos((L*LA_1*cos(q1) + pow(LA_1, 2) - LA_1*LC_1*(sin(q1)*sin(q4) + cos(q1)*cos(q4)))/(sqrt(pow(L, 2) + 2*L*LA_1*cos(q1) - 2*L*LC_1*cos(q4) + pow(LA_1, 2) - 2*LA_1*LC_1*(sin(q1)*sin(q4) + cos(q1)*cos(q4)) + pow(LC_1, 2))*sqrt(pow(LA_1, 2))))\n",
      "\n",
      "alpha2 = q1 - q4 - acos(123.11107123023477*(-0.0037161215999999991*sin(q1)*sin(q4) - 0.0037161215999999991*cos(q1)*cos(q4) + 0.0061935359999999995*cos(q1) + 0.0037161215999999991)/sqrt(-0.41860465116279061*sin(q1)*sin(q4) - 0.41860465116279061*cos(q1)*cos(q4) + 0.69767441860465118*cos(q1) - 0.69767441860465118*cos(q4) + 1)) + M_PI\n",
      "\n",
      "q2d = 0.25*(3.0*q1d*sin(-q1 + q4 + q5) - 4.0*q1d*sin(q1 + q2 - q4 - q5) - 3.0*q4d*sin(q5))/sin(q1 + q2 - q4 - q5)\n",
      "\n",
      "q5d = 0.25*(3.0*q1d*sin(q2) - 3.0*q4d*sin(q1 + q2 - q4) - 4.0*q4d*sin(q1 + q2 - q4 - q5))/sin(q1 + q2 - q4 - q5)\n",
      "\n"
     ]
    }
   ],
   "source": [
    "# print out c_code expressions\n",
    "for key, value in c_code.items():\n",
    "    print(f\"{key} = {value}\\n\")"
   ]
  },
  {
   "cell_type": "markdown",
   "metadata": {},
   "source": [
    "### Generate points for arduino vectors"
   ]
  },
  {
   "cell_type": "code",
   "execution_count": 49,
   "metadata": {},
   "outputs": [
    {
     "name": "stdout",
     "output_type": "stream",
     "text": [
      "x_vals\n",
      "-0.024130000000000002,-0.025109694891845433,-0.027940772047069844,-0.03231152000762576,-0.037742050406485934,\n",
      "-0.025109694891845433,-0.027940772047069844,-0.03231152000762576,-0.037742050406485934,-0.043638982741677504,\n",
      "-0.027940772047069844,-0.03231152000762576,-0.037742050406485934,-0.043638982741677504,-0.04936304043722211,\n",
      "-0.03231152000762576,-0.037742050406485934,-0.043638982741677504,-0.04936304043722211,-0.05430183707487175,\n",
      "-0.037742050406485934,-0.043638982741677504,-0.04936304043722211,-0.05430183707487175,-0.05793953911243276,\n",
      "-0.043638982741677504,-0.04936304043722211,-0.05430183707487175,-0.05793953911243276,-0.05991544862125914,\n",
      "-0.04936304043722211,-0.05430183707487175,-0.05793953911243276,-0.05991544862125914,-0.06006481576422884,\n",
      "-0.05430183707487175,-0.05793953911243276,-0.05991544862125914,-0.06006481576422884,-0.05843722123776428,\n",
      "-0.05793953911243276,-0.05991544862125914,-0.06006481576422884,-0.05843722123776428,-0.055290431739842306,\n",
      "-0.05991544862125914,-0.06006481576422884,-0.05843722123776428,-0.055290431739842306,-0.051060433906428296,\n",
      "-0.06006481576422884,-0.05843722123776428,-0.055290431739842306,-0.051060433906428296,-0.04631107392098367,\n",
      "-0.05843722123776428,-0.055290431739842306,-0.051060433906428296,-0.04631107392098367,-0.04166906019567737,\n",
      "-0.055290431739842306,-0.051060433906428296,-0.04631107392098367,-0.04166906019567737,-0.037751758933673205,\n",
      "-0.051060433906428296,-0.04631107392098367,-0.04166906019567737,-0.037751758933673205,-0.03509603594308051,\n",
      "y_vals\n",
      "0.1016,0.0969614901814798,0.09294513617911893,0.09010135103969591,0.088845263319553,\n",
      "0.0969614901814798,0.09294513617911893,0.09010135103969591,0.088845263319553,0.0894086404960349,\n",
      "0.09294513617911893,0.09010135103969591,0.088845263319553,0.0894086404960349,0.09181277471109715,\n",
      "0.09010135103969591,0.088845263319553,0.0894086404960349,0.09181277471109715,0.09586543310033867,\n",
      "0.088845263319553,0.0894086404960349,0.09181277471109715,0.09586543310033867,0.10118222556401539,\n",
      "0.0894086404960349,0.09181277471109715,0.09586543310033867,0.10118222556401539,0.1072299530957212,\n",
      "0.09181277471109715,0.09586543310033867,0.10118222556401539,0.1072299530957212,0.11338698841483608,\n",
      "0.09586543310033867,0.10118222556401539,0.1072299530957212,0.11338698841483608,0.1190137945636598,\n",
      "0.10118222556401539,0.1072299530957212,0.11338698841483608,0.1190137945636598,0.12352552866172861,\n",
      "0.1072299530957212,0.11338698841483608,0.1190137945636598,0.12352552866172861,0.12645843950934463,\n",
      "0.11338698841483608,0.1190137945636598,0.12352552866172861,0.12645843950934463,0.1275224764493718,\n",
      "0.1190137945636598,0.12352552866172861,0.12645843950934463,0.1275224764493718,0.12663410186561616,\n",
      "0.12352552866172861,0.12645843950934463,0.1275224764493718,0.12663410186561616,0.12392556098743099,\n",
      "0.12645843950934463,0.1275224764493718,0.12663410186561616,0.12392556098743099,0.11972955194459331,\n"
     ]
    }
   ],
   "source": [
    "print(\"x_vals\")\n",
    "for i, v in enumerate(x_vals[5::5], 5):\n",
    "    print(*x_vals[i-5:i],\"\", sep=\",\")\n",
    "print(\"y_vals\")\n",
    "for i, v in enumerate(y_vals[5::5], 5):\n",
    "    print(*y_vals[i-5:i],\"\", sep=\",\")"
   ]
  }
 ],
 "metadata": {
  "kernelspec": {
   "display_name": "Python 3",
   "language": "python",
   "name": "python3"
  },
  "language_info": {
   "codemirror_mode": {
    "name": "ipython",
    "version": 3
   },
   "file_extension": ".py",
   "mimetype": "text/x-python",
   "name": "python",
   "nbconvert_exporter": "python",
   "pygments_lexer": "ipython3",
   "version": "3.8.2"
  }
 },
 "nbformat": 4,
 "nbformat_minor": 4
}
