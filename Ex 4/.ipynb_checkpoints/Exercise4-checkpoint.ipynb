{
 "cells": [
  {
   "cell_type": "markdown",
   "metadata": {},
   "source": [
    "# Intro to Robotics: Exercise 3\n",
    "# Author: Samuel Law & Rhys Miller"
   ]
  },
  {
   "cell_type": "code",
   "execution_count": 1,
   "metadata": {},
   "outputs": [],
   "source": [
    "%reset -f"
   ]
  },
  {
   "cell_type": "code",
   "execution_count": 2,
   "metadata": {},
   "outputs": [],
   "source": [
    "%matplotlib inline"
   ]
  },
  {
   "cell_type": "code",
   "execution_count": 3,
   "metadata": {},
   "outputs": [],
   "source": [
    "import sympy as sm\n",
    "import sympy.physics.mechanics as me\n",
    "from scipy.integrate import RK45\n",
    "from numpy import array, vstack, pi, sqrt, arccos, sin, cos\n",
    "from math import degrees\n",
    "import matplotlib.pyplot as plt"
   ]
  },
  {
   "cell_type": "markdown",
   "metadata": {},
   "source": [
    "### Kinematics"
   ]
  },
  {
   "cell_type": "code",
   "execution_count": 4,
   "metadata": {},
   "outputs": [],
   "source": [
    "# setup N frame\n",
    "N = me.ReferenceFrame(\"N\")\n",
    "pN = me.Point(\"pN\")\n",
    "pN.set_vel(N, 0)"
   ]
  },
  {
   "cell_type": "code",
   "execution_count": 5,
   "metadata": {},
   "outputs": [],
   "source": [
    "# set up constants\n",
    "g, gr, L = sm.symbols(\"g, gr, L\")"
   ]
  },
  {
   "cell_type": "code",
   "execution_count": 6,
   "metadata": {},
   "outputs": [],
   "source": [
    "# set up independent variables\n",
    "q1, q2, q4, q5, u1, u2, u4, u5 = me.dynamicsymbols(\"q1, q2, q4, q5, u1, u2, u4, u5\")\n",
    "q1d, q2d, q4d, q5d, u1d, u2d, u4d, u5d = me.dynamicsymbols(\"q1, q2, q4, q5, u1, u2, u4, u5\", 1)"
   ]
  },
  {
   "cell_type": "code",
   "execution_count": 7,
   "metadata": {},
   "outputs": [],
   "source": [
    "# set up dependent variables which are the gears\n",
    "q0, q3 = -q1*gr, -q4*gr\n",
    "u0, u3 = -u1*gr, -u4*gr\n",
    "q0d, q3d = -q1d*gr, -q4d*gr\n",
    "u0d, u3d = -u1d*gr, -u4d*gr"
   ]
  },
  {
   "cell_type": "code",
   "execution_count": 81,
   "metadata": {},
   "outputs": [],
   "source": [
    "# create dict for use when generating ccode\n",
    "var2sym = {\n",
    "    # positions\n",
    "    q1: sm.Symbol(\"q1\"),\n",
    "    q2: sm.Symbol(\"q2\"),\n",
    "    q4: sm.Symbol(\"q4\"),\n",
    "    q5: sm.Symbol(\"q5\"),\n",
    "    # position derivatives\n",
    "    q1d: sm.Symbol(\"q1d\"),\n",
    "    q2d: sm.Symbol(\"q2d\"),\n",
    "    q4d: sm.Symbol(\"q4d\"),\n",
    "    q5d: sm.Symbol(\"q5d\"),\n",
    "    # velocities\n",
    "    u1: sm.Symbol(\"u1\"),\n",
    "    u2: sm.Symbol(\"u2\"),\n",
    "    u4: sm.Symbol(\"u4\"),\n",
    "    u5: sm.Symbol(\"u5\"),\n",
    "    # velocity derivatives\n",
    "    u1d: sm.Symbol(\"u1d\"),\n",
    "    u2d: sm.Symbol(\"u2d\"),\n",
    "    u4d: sm.Symbol(\"u4d\"),\n",
    "    u5d: sm.Symbol(\"u5d\"),\n",
    "}"
   ]
  },
  {
   "cell_type": "code",
   "execution_count": 8,
   "metadata": {},
   "outputs": [],
   "source": [
    "# set up the motor bodies\n",
    "right_motor = me.Body(\n",
    "    name = \"motorR\",\n",
    "    frame = N.orientnew(\"R\", \"axis\", (q0, N.z)),\n",
    "    masscenter = pN.locatenew(\"motorR_COM\", 0)\n",
    ")\n",
    "left_motor = me.Body(\n",
    "    name = \"motorL\",\n",
    "    frame = N.orientnew(\"L\", \"axis\", (q3, N.z)),\n",
    "    masscenter = pN.locatenew(\"motorL_COM\", -L*N.x)\n",
    ")"
   ]
  },
  {
   "cell_type": "code",
   "execution_count": 9,
   "metadata": {},
   "outputs": [],
   "source": [
    "# set up the link bodies\n",
    "bodyA = me.Body(\n",
    "    name = \"bodyA\",\n",
    "    frame = N.orientnew(\"A\", \"axis\", (q1, N.z))\n",
    ")\n",
    "bodyB = me.Body(\n",
    "    name = \"bodyB\",\n",
    "    frame = bodyA.frame.orientnew(\"B\", \"axis\", (q2, bodyA.frame.z))\n",
    ")\n",
    "bodyC = me.Body(\n",
    "    name = \"bodyC\",\n",
    "    frame = N.orientnew(\"C\", \"axis\", (q4, N.z))\n",
    ")\n",
    "bodyD = me.Body(\n",
    "    name = \"bodyD\",\n",
    "    frame = bodyC.frame.orientnew(\"D\", \"axis\", (q5, bodyC.frame.z))\n",
    ")"
   ]
  },
  {
   "cell_type": "code",
   "execution_count": 10,
   "metadata": {},
   "outputs": [],
   "source": [
    "# define the link lengths\n",
    "bodyA.L1, bodyA.L2 = sm.symbols(\"LA_1, LA_2\")\n",
    "bodyB.L1, bodyB.L2 = sm.symbols(\"LB_1, LB_2\")\n",
    "bodyC.L1, bodyC.L2 = sm.symbols(\"LC_1, LC_2\")\n",
    "bodyD.L1, bodyD.L2 = sm.symbols(\"LD_1, LD_2\")\n",
    "\n",
    "# define the COM lengths\n",
    "bodyA.L = sm.symbols(\"LA_COM\")\n",
    "bodyB.L = sm.symbols(\"LB_COM\")\n",
    "bodyC.L = sm.symbols(\"LC_COM\")\n",
    "bodyD.L = sm.symbols(\"LD_COM\")"
   ]
  },
  {
   "cell_type": "code",
   "execution_count": 11,
   "metadata": {},
   "outputs": [],
   "source": [
    "# set all the positions\n",
    "bodyA.masscenter = pN.locatenew(\"pA\", bodyA.L*bodyA.frame.x)\n",
    "bodyB.masscenter = pN.locatenew(\"pB\", (bodyA.L1*bodyA.frame.x) + (bodyB.L*bodyB.frame.x))\n",
    "bodyC.masscenter = left_motor.masscenter.locatenew(\"pC\", bodyC.L*bodyC.frame.x)\n",
    "bodyD.masscenter = left_motor.masscenter.locatenew(\"pD\", (bodyC.L1*bodyC.frame.x) + (bodyD.L*bodyD.frame.x))"
   ]
  },
  {
   "cell_type": "code",
   "execution_count": 12,
   "metadata": {},
   "outputs": [],
   "source": [
    "# set all the velocities\n",
    "right_motor.masscenter.set_vel(N, 0)\n",
    "left_motor.masscenter.set_vel(N, 0)\n",
    "bodyA.masscenter.set_vel(N, bodyA.masscenter.pos_from(pN).dt(N))\n",
    "bodyB.masscenter.set_vel(N, bodyB.masscenter.pos_from(pN).dt(N))\n",
    "bodyC.masscenter.set_vel(N, bodyC.masscenter.pos_from(pN).dt(N))\n",
    "bodyD.masscenter.set_vel(N, bodyD.masscenter.pos_from(pN).dt(N))"
   ]
  },
  {
   "cell_type": "code",
   "execution_count": 13,
   "metadata": {},
   "outputs": [],
   "source": [
    "# set all the accelerations\n",
    "bodyA.masscenter.set_acc(N, bodyA.masscenter.vel(N).dt(N))\n",
    "bodyB.masscenter.set_acc(N, bodyB.masscenter.vel(N).dt(N))\n",
    "bodyC.masscenter.set_acc(N, bodyC.masscenter.vel(N).dt(N))"
   ]
  },
  {
   "cell_type": "code",
   "execution_count": 14,
   "metadata": {},
   "outputs": [],
   "source": [
    "# define the independent coordinates\n",
    "q_ind = [q1, q4]\n",
    "q_dep = [q2, q5]\n",
    "u_ind = [u1, u4]\n",
    "u_dep = [u2, u5]\n",
    "\n",
    "# and the kinematic differential equations\n",
    "kde = [\n",
    "    [q1d - u1],\n",
    "    [q2d - u2],\n",
    "    [q4d - u4],\n",
    "    [q5d - u5],\n",
    "]\n",
    "\n",
    "# and create the vector loop equations\n",
    "zero = pN.locatenew(\n",
    "    \"zero\", \n",
    "    bodyA.L1*bodyA.frame.x + bodyB.L1*bodyB.frame.x - \\\n",
    "    bodyC.L1*bodyC.frame.x - bodyD.L1*bodyD.frame.x - L*N.x\n",
    ")\n",
    "\n",
    "pos_constraints = [zero.pos_from(pN).dot(N.x), \n",
    "                   zero.pos_from(pN).dot(N.y)]\n",
    "vel_constraints = [zero.pos_from(pN).dt(N).dot(N.x), \n",
    "                   zero.pos_from(pN).dt(N).dot(N.y)]"
   ]
  },
  {
   "cell_type": "code",
   "execution_count": 15,
   "metadata": {},
   "outputs": [],
   "source": [
    "KM = me.KanesMethod(\n",
    "    frame = N, \n",
    "    q_ind = q_ind,\n",
    "    u_ind = u_ind,\n",
    "    kd_eqs = kde,\n",
    "    q_dependent = q_dep,\n",
    "    configuration_constraints = pos_constraints,\n",
    "    u_dependent = u_dep,\n",
    "    velocity_constraints = vel_constraints\n",
    ")"
   ]
  },
  {
   "cell_type": "markdown",
   "metadata": {},
   "source": [
    "### Dynamics"
   ]
  },
  {
   "cell_type": "code",
   "execution_count": 16,
   "metadata": {},
   "outputs": [],
   "source": [
    "# define the loads\n",
    "tau1, tau2 = sm.symbols(\"tau1, tau2\")\n",
    "loads = [\n",
    "    # point/frame, force/moment\n",
    "    (right_motor.masscenter, right_motor.mass*g*-N.z),\n",
    "    (left_motor.masscenter, left_motor.mass*g*-N.z),\n",
    "    (bodyA.masscenter, bodyA.mass*g*-N.z),\n",
    "    (bodyB.masscenter, bodyB.mass*g*-N.z),\n",
    "    (bodyC.masscenter, bodyC.mass*g*-N.z),\n",
    "    (bodyD.masscenter, bodyD.mass*g*-N.z),\n",
    "    (bodyA.frame, tau1*right_motor.frame.z),\n",
    "    (bodyC.frame, tau2*left_motor.frame.z),\n",
    "]\n",
    "# define the bodies\n",
    "bodies = [right_motor, bodyA, bodyB, left_motor, bodyC, bodyD]"
   ]
  },
  {
   "cell_type": "code",
   "execution_count": 17,
   "metadata": {},
   "outputs": [
    {
     "data": {
      "text/plain": [
       "((2, 1), (2, 1))"
      ]
     },
     "execution_count": 17,
     "metadata": {},
     "output_type": "execute_result"
    }
   ],
   "source": [
    "Fr, Fr_star = KM.kanes_equations(bodies, loads)\n",
    "Fr.shape, Fr_star.shape"
   ]
  },
  {
   "cell_type": "code",
   "execution_count": 58,
   "metadata": {},
   "outputs": [
    {
     "data": {
      "text/plain": [
       "'-LC_1*LD_COM*bodyD_mass*pow(u4, 2)*sin(q5) + LC_1*LD_COM*bodyD_mass*pow(u4 + u5, 2)*sin(q5) - u4d*(pow(LC_COM, 2)*bodyC_mass + bodyC_izz + bodyD_izz + bodyD_mass*(pow(LC_1, 2) + 2*LC_1*LD_COM*cos(q5) + pow(LD_COM, 2)) + pow(gr, 2)*motorL_izz) - u5d*(bodyD_izz + bodyD_mass*(LC_1*LD_COM*cos(q5) + pow(LD_COM, 2))) - (-LC_1*cos(q4) - LD_1*(-sin(q4)*sin(q5) + cos(q4)*cos(q5)) - (LC_1*sin(q4) - LD_1*(-sin(q4)*cos(q5) - sin(q5)*cos(q4)))*(-sin(q1)*sin(q2) + cos(q1)*cos(q2))/(-sin(q1)*cos(q2) - sin(q2)*cos(q1)))*(-LC_1*LD_COM*bodyD_mass*pow(u4, 2)*sin(q5) - u4d*(bodyD_izz + bodyD_mass*(LC_1*LD_COM*cos(q5) + pow(LD_COM, 2))) - u5d*(pow(LD_COM, 2)*bodyD_mass + bodyD_izz))/(LD_1*(-sin(q1)*sin(q2) + cos(q1)*cos(q2))*(-sin(q4)*cos(q5) - sin(q5)*cos(q4))/(-sin(q1)*cos(q2) - sin(q2)*cos(q1)) - LD_1*(-sin(q4)*sin(q5) + cos(q4)*cos(q5))) - (LC_1*sin(q4) - LD_1*(-sin(q4)*cos(q5) - sin(q5)*cos(q4)) + LD_1*(-sin(q4)*cos(q5) - sin(q5)*cos(q4))*(-LC_1*cos(q4) - LD_1*(-sin(q4)*sin(q5) + cos(q4)*cos(q5)) - (LC_1*sin(q4) - LD_1*(-sin(q4)*cos(q5) - sin(q5)*cos(q4)))*(-sin(q1)*sin(q2) + cos(q1)*cos(q2))/(-sin(q1)*cos(q2) - sin(q2)*cos(q1)))/(LD_1*(-sin(q1)*sin(q2) + cos(q1)*cos(q2))*(-sin(q4)*cos(q5) - sin(q5)*cos(q4))/(-sin(q1)*cos(q2) - sin(q2)*cos(q1)) - LD_1*(-sin(q4)*sin(q5) + cos(q4)*cos(q5))))*(-LA_1*LB_COM*bodyB_mass*pow(u1, 2)*sin(q2) - u1d*(bodyB_izz + bodyB_mass*(LA_1*LB_COM*cos(q2) + pow(LB_COM, 2))) - u2d*(pow(LB_COM, 2)*bodyB_mass + bodyB_izz))/(LB_1*(-sin(q1)*cos(q2) - sin(q2)*cos(q1)))'"
      ]
     },
     "execution_count": 58,
     "metadata": {},
     "output_type": "execute_result"
    }
   ],
   "source": [
    "# sm.ccode(me.msubs(Fr_star[1], var2sym))"
   ]
  },
  {
   "cell_type": "code",
   "execution_count": 18,
   "metadata": {},
   "outputs": [],
   "source": [
    "in2m = lambda x: x*25.4/1000\n",
    "vals = {\n",
    "    # constants\n",
    "    g: 9.81,               # N*m\n",
    "    L: in2m(4),            # m\n",
    "    gr: 144,               # a.u.\n",
    "    # joint c-c\n",
    "    bodyA.L1: in2m(2.4),   # m\n",
    "    bodyC.L1: in2m(2.4),   # m\n",
    "    bodyB.L1: in2m(3.2),   # m\n",
    "    bodyD.L1: in2m(3.2),   # m\n",
    "    # com properties\n",
    "    bodyA.L: 0.027,        # m\n",
    "    bodyC.L: 0.027,        # m\n",
    "    bodyB.L: 0.04,         # m\n",
    "    bodyD.L: 0.04,         # m\n",
    "    # masses\n",
    "    bodyA.mass: 0.007,     # kg\n",
    "    bodyC.mass: 0.007,     # kg \n",
    "    bodyB.mass: 0.008,     # kg\n",
    "    bodyD.mass: 0.008,     # kg\n",
    "    # moments of inertia \n",
    "    \"bodyA_izz\": 6.39e-6,  # kg m^2\n",
    "    \"bodyC_izz\": 6.39e-6,  # kg m^2\n",
    "    \"bodyB_izz\": 1.01e-5,  # kg m^2\n",
    "    \"bodyD_izz\": 1.01e-5,  # kg m^2\n",
    "    \"motorR_izz\": 3.3e-7,  # kg m^2\n",
    "    \"motorL_izz\": 3.3e-7,  # kg m^2\n",
    "}"
   ]
  },
  {
   "cell_type": "code",
   "execution_count": 19,
   "metadata": {},
   "outputs": [
    {
     "name": "stdout",
     "output_type": "stream",
     "text": [
      "g 9.81\n",
      "L 0.1016\n",
      "gr 144\n",
      "LA_1 0.06095999999999999\n",
      "LC_1 0.06095999999999999\n",
      "LB_1 0.08128\n",
      "LD_1 0.08128\n",
      "LA_COM 0.027\n",
      "LC_COM 0.027\n",
      "LB_COM 0.04\n",
      "LD_COM 0.04\n",
      "bodyA_mass 0.007\n",
      "bodyC_mass 0.007\n",
      "bodyB_mass 0.008\n",
      "bodyD_mass 0.008\n",
      "bodyA_izz 6.39e-06\n",
      "bodyC_izz 6.39e-06\n",
      "bodyB_izz 1.01e-05\n",
      "bodyD_izz 1.01e-05\n",
      "motorR_izz 3.3e-07\n",
      "motorL_izz 3.3e-07\n"
     ]
    }
   ],
   "source": [
    "[print(k, v) for k, v in vals.items()];"
   ]
  },
  {
   "cell_type": "markdown",
   "metadata": {},
   "source": [
    "### Simulation"
   ]
  },
  {
   "cell_type": "code",
   "execution_count": 45,
   "metadata": {},
   "outputs": [],
   "source": [
    "# create the position function\n",
    "pE = pN.locatenew(\"pE\", (bodyA.L1*bodyA.frame.x) + (bodyB.L1*bodyB.frame.x))\n",
    "PNE = (pE.pos_from(pN).to_matrix(N).subs(vals))\n",
    "PNE = PNE.row_del(-1)\n",
    "# sm.ccode(me.msubs(PNE[1], var2sym))"
   ]
  },
  {
   "cell_type": "code",
   "execution_count": 46,
   "metadata": {},
   "outputs": [
    {
     "data": {
      "text/latex": [
       "$\\displaystyle \\left[\\begin{matrix}0.14224\\\\0\\end{matrix}\\right]$"
      ],
      "text/plain": [
       "Matrix([\n",
       "[0.14224],\n",
       "[      0]])"
      ]
     },
     "execution_count": 46,
     "metadata": {},
     "output_type": "execute_result"
    }
   ],
   "source": [
    "PNE_func = sm.lambdify([q1, q2], PNE, modules=\"sympy\")\n",
    "PNE_func(0, 0)"
   ]
  },
  {
   "cell_type": "code",
   "execution_count": 50,
   "metadata": {},
   "outputs": [],
   "source": [
    "VNE = pE.pos_from(pN).dt(N).to_matrix(N)\n",
    "VNE = VNE.row_del(-1)\n",
    "# sm.ccode(me.msubs(VNE[1], var2sym))\n",
    "VNE = VNE.subs(vals)"
   ]
  },
  {
   "cell_type": "code",
   "execution_count": 51,
   "metadata": {},
   "outputs": [
    {
     "data": {
      "text/latex": [
       "$\\displaystyle \\left[\\begin{matrix}0\\\\0.14224\\end{matrix}\\right]$"
      ],
      "text/plain": [
       "Matrix([\n",
       "[      0],\n",
       "[0.14224]])"
      ]
     },
     "execution_count": 51,
     "metadata": {},
     "output_type": "execute_result"
    }
   ],
   "source": [
    "VNE_func = sm.lambdify([q1, q2, q1d, q2d], VNE, modules=\"sympy\")\n",
    "VNE_func(0, 0, 1, 0)"
   ]
  },
  {
   "cell_type": "code",
   "execution_count": 23,
   "metadata": {},
   "outputs": [
    {
     "data": {
      "text/latex": [
       "$\\displaystyle \\left[\\begin{matrix}Kp \\left(- x_{current} + x_{desired}\\right) + Kv \\left(- xd_{current} + xd_{desired}\\right)\\\\Kp \\left(- y_{current} + y_{desired}\\right) + Kv \\left(- yd_{current} + yd_{desired}\\right)\\end{matrix}\\right]$"
      ],
      "text/plain": [
       "Matrix([\n",
       "[Kp*(-x_current + x_desired) + Kv*(-xd_current + xd_desired)],\n",
       "[Kp*(-y_current + y_desired) + Kv*(-yd_current + yd_desired)]])"
      ]
     },
     "execution_count": 23,
     "metadata": {},
     "output_type": "execute_result"
    }
   ],
   "source": [
    "# create the task space controller\n",
    "Kp, Kv = sm.symbols(\"Kp, Kv\")\n",
    "X_current = sm.Matrix(sm.symbols(\"x_current, y_current\"))\n",
    "Xd_current = sm.Matrix(sm.symbols(\"xd_current, yd_current\"))\n",
    "X_desired = sm.Matrix(sm.symbols(\"x_desired, y_desired\"))\n",
    "Xd_desired = sm.Matrix(sm.symbols(\"xd_desired, yd_desired\"))\n",
    "u = (Kv*(Xd_desired - Xd_current)) + (Kp*(X_desired - X_current))\n",
    "u"
   ]
  },
  {
   "cell_type": "code",
   "execution_count": 60,
   "metadata": {},
   "outputs": [],
   "source": [
    "# sm.ccode(me.msubs(u[1], var2sym))"
   ]
  },
  {
   "cell_type": "code",
   "execution_count": 93,
   "metadata": {},
   "outputs": [
    {
     "data": {
      "text/plain": [
       "((2, 2), (2, 2), (4, 4))"
      ]
     },
     "execution_count": 93,
     "metadata": {},
     "output_type": "execute_result"
    }
   ],
   "source": [
    "# get the positions\n",
    "pE_rhs = right_motor.masscenter.locatenew(\"pE_rhs\", (bodyA.L1*bodyA.frame.x) + (bodyB.L1*bodyB.frame.x))\n",
    "pE_lhs = left_motor.masscenter.locatenew(\"pE_lhs\", (bodyC.L1*bodyC.frame.x) + (bodyD.L1*bodyD.frame.x))\n",
    "\n",
    "# create the 2x2 matrix\n",
    "M_rhs = pE_rhs.pos_from(pN).dt(N).to_matrix(N)\n",
    "M_lhs = pE_lhs.pos_from(pN).dt(N).to_matrix(N)\n",
    "M_rhs = M_rhs.subs(vals)\n",
    "M_lhs = M_lhs.subs(vals)\n",
    "M_rhs = M_rhs.row_del(-1)\n",
    "M_lhs = M_lhs.row_del(-1)\n",
    "M = sm.Matrix.vstack(M_rhs, M_lhs)\n",
    "\n",
    "# create the jacobains\n",
    "X_rhs = sm.Matrix([q1d, q2d])\n",
    "X_lhs = sm.Matrix([q4d, q5d])\n",
    "X = sm.Matrix([q1d, q2d, q4d, q5d])\n",
    "J_rhs = M_rhs.jacobian(X_rhs)\n",
    "J_lhs = M_lhs.jacobian(X_lhs)\n",
    "J = M.jacobian(X)\n",
    "J_rhs.shape, J_lhs.shape, J.shape"
   ]
  },
  {
   "cell_type": "code",
   "execution_count": 25,
   "metadata": {},
   "outputs": [
    {
     "data": {
      "text/latex": [
       "$\\displaystyle \\left[\\begin{matrix}- 0.16256 \\sin{\\left(1 \\right)} \\cos{\\left(1 \\right)} - 0.06096 \\sin{\\left(1 \\right)} & - 0.16256 \\sin{\\left(1 \\right)} \\cos{\\left(1 \\right)} & 0 & 0\\\\- 0.08128 \\sin^{2}{\\left(1 \\right)} + 0.08128 \\cos^{2}{\\left(1 \\right)} + 0.06096 \\cos{\\left(1 \\right)} & - 0.08128 \\sin^{2}{\\left(1 \\right)} + 0.08128 \\cos^{2}{\\left(1 \\right)} & 0 & 0\\\\0 & 0 & - 0.16256 \\sin{\\left(1 \\right)} \\cos{\\left(1 \\right)} - 0.06096 \\sin{\\left(1 \\right)} & - 0.16256 \\sin{\\left(1 \\right)} \\cos{\\left(1 \\right)}\\\\0 & 0 & - 0.08128 \\sin^{2}{\\left(1 \\right)} + 0.08128 \\cos^{2}{\\left(1 \\right)} + 0.06096 \\cos{\\left(1 \\right)} & - 0.08128 \\sin^{2}{\\left(1 \\right)} + 0.08128 \\cos^{2}{\\left(1 \\right)}\\end{matrix}\\right]$"
      ],
      "text/plain": [
       "Matrix([\n",
       "[                -0.16256*sin(1)*cos(1) - 0.06096*sin(1),                 -0.16256*sin(1)*cos(1),                                                       0,                                      0],\n",
       "[-0.08128*sin(1)**2 + 0.08128*cos(1)**2 + 0.06096*cos(1), -0.08128*sin(1)**2 + 0.08128*cos(1)**2,                                                       0,                                      0],\n",
       "[                                                      0,                                      0,                 -0.16256*sin(1)*cos(1) - 0.06096*sin(1),                 -0.16256*sin(1)*cos(1)],\n",
       "[                                                      0,                                      0, -0.08128*sin(1)**2 + 0.08128*cos(1)**2 + 0.06096*cos(1), -0.08128*sin(1)**2 + 0.08128*cos(1)**2]])"
      ]
     },
     "execution_count": 25,
     "metadata": {},
     "output_type": "execute_result"
    }
   ],
   "source": [
    "J_func = sm.lambdify([q1, q2, q4, q5], J, modules=\"sympy\")\n",
    "J_func(1, 1, 1, 1)"
   ]
  },
  {
   "cell_type": "code",
   "execution_count": 92,
   "metadata": {},
   "outputs": [
    {
     "data": {
      "text/plain": [
       "'LD_1*(-q4d*sin(q4)*cos(q5) - q4d*sin(q5)*cos(q4) - q5d*sin(q4)*cos(q5) - q5d*sin(q5)*cos(q4))'"
      ]
     },
     "execution_count": 92,
     "metadata": {},
     "output_type": "execute_result"
    }
   ],
   "source": [
    "Jd = sm.diff(J, 't')\n",
    "# sm.ccode(me.msubs(Jd[3, 3], var2sym))\n",
    "Jd_func = sm.lambdify([q1, q2, q4, q5, q1d, q2d, q4d, q5d], Jd, modules=\"sympy\")\n",
    "Jd_func(1, 1, 1, 1, 1, 1, 1, 1)"
   ]
  },
  {
   "cell_type": "markdown",
   "metadata": {},
   "source": [
    "### Inverse Kinematics"
   ]
  },
  {
   "cell_type": "code",
   "execution_count": 27,
   "metadata": {},
   "outputs": [
    {
     "data": {
      "text/latex": [
       "$\\displaystyle \\operatorname{acos}{\\left(\\frac{\\sqrt{L^{2} + 2 L LA_{1} \\cos{\\left(\\operatorname{q_{1}}{\\left(t \\right)} \\right)} - 2 L LC_{1} \\cos{\\left(\\operatorname{q_{4}}{\\left(t \\right)} \\right)} + LA_{1}^{2} - 2 LA_{1} LC_{1} \\left(\\sin{\\left(\\operatorname{q_{1}}{\\left(t \\right)} \\right)} \\sin{\\left(\\operatorname{q_{4}}{\\left(t \\right)} \\right)} + \\cos{\\left(\\operatorname{q_{1}}{\\left(t \\right)} \\right)} \\cos{\\left(\\operatorname{q_{4}}{\\left(t \\right)} \\right)}\\right) + LC_{1}^{2}}}{2 LB_{1}} \\right)}$"
      ],
      "text/plain": [
       "acos(sqrt(L**2 + 2*L*LA_1*cos(q1(t)) - 2*L*LC_1*cos(q4(t)) + LA_1**2 - 2*LA_1*LC_1*(sin(q1(t))*sin(q4(t)) + cos(q1(t))*cos(q4(t))) + LC_1**2)/(2*LB_1))"
      ]
     },
     "execution_count": 27,
     "metadata": {},
     "output_type": "execute_result"
    }
   ],
   "source": [
    "# create length vectors\n",
    "p1 = right_motor.masscenter.locatenew(\"p1\", bodyA.L1*bodyA.frame.x)\n",
    "p2 = left_motor.masscenter.locatenew(\"p2\", bodyC.L1*bodyC.frame.x)\n",
    "\n",
    "# calculate gamma using the law of cosines\n",
    "W = p2.pos_from(p1)\n",
    "gamma = sm.acos(W.magnitude()/(2*bodyB.L1))\n",
    "gamma\n",
    "# sm.ccode(me.msubs(gamma, var2sym))"
   ]
  },
  {
   "cell_type": "code",
   "execution_count": 28,
   "metadata": {},
   "outputs": [
    {
     "data": {
      "text/plain": [
       "0.8956647938578651"
      ]
     },
     "execution_count": 28,
     "metadata": {},
     "output_type": "execute_result"
    }
   ],
   "source": [
    "# substitute in numerical values\n",
    "gamma = gamma.subs(vals)\n",
    "\n",
    "# create gamma function\n",
    "gamma_func = sm.lambdify([q1, q4], gamma, modules=\"numpy\")\n",
    "gamma_func(pi/2, pi/2)"
   ]
  },
  {
   "cell_type": "code",
   "execution_count": 29,
   "metadata": {},
   "outputs": [
    {
     "data": {
      "text/latex": [
       "$\\displaystyle \\operatorname{acos}{\\left(\\frac{L LA_{1} \\cos{\\left(\\operatorname{q_{1}}{\\left(t \\right)} \\right)} + LA_{1}^{2} - LA_{1} LC_{1} \\left(\\sin{\\left(\\operatorname{q_{1}}{\\left(t \\right)} \\right)} \\sin{\\left(\\operatorname{q_{4}}{\\left(t \\right)} \\right)} + \\cos{\\left(\\operatorname{q_{1}}{\\left(t \\right)} \\right)} \\cos{\\left(\\operatorname{q_{4}}{\\left(t \\right)} \\right)}\\right)}{\\sqrt{L^{2} + 2 L LA_{1} \\cos{\\left(\\operatorname{q_{1}}{\\left(t \\right)} \\right)} - 2 L LC_{1} \\cos{\\left(\\operatorname{q_{4}}{\\left(t \\right)} \\right)} + LA_{1}^{2} - 2 LA_{1} LC_{1} \\left(\\sin{\\left(\\operatorname{q_{1}}{\\left(t \\right)} \\right)} \\sin{\\left(\\operatorname{q_{4}}{\\left(t \\right)} \\right)} + \\cos{\\left(\\operatorname{q_{1}}{\\left(t \\right)} \\right)} \\cos{\\left(\\operatorname{q_{4}}{\\left(t \\right)} \\right)}\\right) + LC_{1}^{2}} \\sqrt{LA_{1}^{2}}} \\right)}$"
      ],
      "text/plain": [
       "acos((L*LA_1*cos(q1(t)) + LA_1**2 - LA_1*LC_1*(sin(q1(t))*sin(q4(t)) + cos(q1(t))*cos(q4(t))))/(sqrt(L**2 + 2*L*LA_1*cos(q1(t)) - 2*L*LC_1*cos(q4(t)) + LA_1**2 - 2*LA_1*LC_1*(sin(q1(t))*sin(q4(t)) + cos(q1(t))*cos(q4(t))) + LC_1**2)*sqrt(LA_1**2)))"
      ]
     },
     "execution_count": 29,
     "metadata": {},
     "output_type": "execute_result"
    }
   ],
   "source": [
    "# create expression for alpha1\n",
    "alpha1 = sm.acos(W.dot(-p1.pos_from(right_motor.masscenter))/(W.magnitude()*p1.pos_from(right_motor.masscenter).magnitude()) )\n",
    "alpha1\n",
    "# sm.ccode(me.msubs(alpha1, var2sym))"
   ]
  },
  {
   "cell_type": "code",
   "execution_count": 30,
   "metadata": {},
   "outputs": [
    {
     "data": {
      "text/latex": [
       "$\\displaystyle \\operatorname{acos}{\\left(\\frac{123.111071230235 \\left(- 0.0037161216 \\sin{\\left(\\operatorname{q_{1}}{\\left(t \\right)} \\right)} \\sin{\\left(\\operatorname{q_{4}}{\\left(t \\right)} \\right)} - 0.0037161216 \\cos{\\left(\\operatorname{q_{1}}{\\left(t \\right)} \\right)} \\cos{\\left(\\operatorname{q_{4}}{\\left(t \\right)} \\right)} + 0.006193536 \\cos{\\left(\\operatorname{q_{1}}{\\left(t \\right)} \\right)} + 0.0037161216\\right)}{\\sqrt{- 0.418604651162791 \\sin{\\left(\\operatorname{q_{1}}{\\left(t \\right)} \\right)} \\sin{\\left(\\operatorname{q_{4}}{\\left(t \\right)} \\right)} - 0.418604651162791 \\cos{\\left(\\operatorname{q_{1}}{\\left(t \\right)} \\right)} \\cos{\\left(\\operatorname{q_{4}}{\\left(t \\right)} \\right)} + 0.697674418604651 \\cos{\\left(\\operatorname{q_{1}}{\\left(t \\right)} \\right)} - 0.697674418604651 \\cos{\\left(\\operatorname{q_{4}}{\\left(t \\right)} \\right)} + 1}} \\right)}$"
      ],
      "text/plain": [
       "acos(123.111071230235*(-0.0037161216*sin(q1(t))*sin(q4(t)) - 0.0037161216*cos(q1(t))*cos(q4(t)) + 0.006193536*cos(q1(t)) + 0.0037161216)/sqrt(-0.418604651162791*sin(q1(t))*sin(q4(t)) - 0.418604651162791*cos(q1(t))*cos(q4(t)) + 0.697674418604651*cos(q1(t)) - 0.697674418604651*cos(q4(t)) + 1))"
      ]
     },
     "execution_count": 30,
     "metadata": {},
     "output_type": "execute_result"
    }
   ],
   "source": [
    "# sub in numbers\n",
    "alpha1 = alpha1.subs(vals)\n",
    "alpha1"
   ]
  },
  {
   "cell_type": "code",
   "execution_count": 31,
   "metadata": {},
   "outputs": [
    {
     "data": {
      "text/latex": [
       "$\\displaystyle \\operatorname{q_{1}}{\\left(t \\right)} - \\operatorname{q_{4}}{\\left(t \\right)} - \\operatorname{acos}{\\left(\\frac{123.111071230235 \\left(- 0.0037161216 \\sin{\\left(\\operatorname{q_{1}}{\\left(t \\right)} \\right)} \\sin{\\left(\\operatorname{q_{4}}{\\left(t \\right)} \\right)} - 0.0037161216 \\cos{\\left(\\operatorname{q_{1}}{\\left(t \\right)} \\right)} \\cos{\\left(\\operatorname{q_{4}}{\\left(t \\right)} \\right)} + 0.006193536 \\cos{\\left(\\operatorname{q_{1}}{\\left(t \\right)} \\right)} + 0.0037161216\\right)}{\\sqrt{- 0.418604651162791 \\sin{\\left(\\operatorname{q_{1}}{\\left(t \\right)} \\right)} \\sin{\\left(\\operatorname{q_{4}}{\\left(t \\right)} \\right)} - 0.418604651162791 \\cos{\\left(\\operatorname{q_{1}}{\\left(t \\right)} \\right)} \\cos{\\left(\\operatorname{q_{4}}{\\left(t \\right)} \\right)} + 0.697674418604651 \\cos{\\left(\\operatorname{q_{1}}{\\left(t \\right)} \\right)} - 0.697674418604651 \\cos{\\left(\\operatorname{q_{4}}{\\left(t \\right)} \\right)} + 1}} \\right)} + \\pi$"
      ],
      "text/plain": [
       "q1(t) - q4(t) - acos(123.111071230235*(-0.0037161216*sin(q1(t))*sin(q4(t)) - 0.0037161216*cos(q1(t))*cos(q4(t)) + 0.006193536*cos(q1(t)) + 0.0037161216)/sqrt(-0.418604651162791*sin(q1(t))*sin(q4(t)) - 0.418604651162791*cos(q1(t))*cos(q4(t)) + 0.697674418604651*cos(q1(t)) - 0.697674418604651*cos(q4(t)) + 1)) + pi"
      ]
     },
     "execution_count": 31,
     "metadata": {},
     "output_type": "execute_result"
    }
   ],
   "source": [
    "# create expression for alpha2\n",
    "alpha2 = q1 - q4 - alpha1 + sm.pi\n",
    "alpha2"
   ]
  },
  {
   "cell_type": "code",
   "execution_count": 32,
   "metadata": {},
   "outputs": [
    {
     "data": {
      "text/plain": [
       "[1.5707963267948966, 1.5707963267948966]"
      ]
     },
     "execution_count": 32,
     "metadata": {},
     "output_type": "execute_result"
    }
   ],
   "source": [
    "# create callables for alpha1 and alpha2\n",
    "alpha_func = sm.lambdify([q1, q4], [alpha1, alpha2], modules=\"numpy\")\n",
    "alpha_func(pi/2, pi/2)"
   ]
  },
  {
   "cell_type": "code",
   "execution_count": 33,
   "metadata": {},
   "outputs": [
    {
     "data": {
      "text/plain": [
       "{Derivative(q2(t), t): 0.25*(3.0*sin(-q1(t) + q4(t) + q5(t))*Derivative(q1(t), t) - 4.0*sin(q1(t) + q2(t) - q4(t) - q5(t))*Derivative(q1(t), t) - 3.0*sin(q5(t))*Derivative(q4(t), t))/sin(q1(t) + q2(t) - q4(t) - q5(t)),\n",
       " Derivative(q5(t), t): 0.25*(-3.0*sin(q1(t) + q2(t) - q4(t))*Derivative(q4(t), t) - 4.0*sin(q1(t) + q2(t) - q4(t) - q5(t))*Derivative(q4(t), t) + 3.0*sin(q2(t))*Derivative(q1(t), t))/sin(q1(t) + q2(t) - q4(t) - q5(t))}"
      ]
     },
     "execution_count": 33,
     "metadata": {},
     "output_type": "execute_result"
    }
   ],
   "source": [
    "M = zero.pos_from(pN).dt(N).to_matrix(N)\n",
    "M = M.subs(vals)\n",
    "sol = sm.solve([M], [q2d, q5d])\n",
    "sol"
   ]
  },
  {
   "cell_type": "code",
   "execution_count": 35,
   "metadata": {},
   "outputs": [
    {
     "data": {
      "text/plain": [
       "'0.25*(3.0*q1d*sin(q2) - 3.0*q4d*sin(q1 + q2 - q4) - 4.0*q4d*sin(q1 + q2 - q4 - q5))/sin(q1 + q2 - q4 - q5)'"
      ]
     },
     "execution_count": 35,
     "metadata": {},
     "output_type": "execute_result"
    }
   ],
   "source": [
    "eq1 = me.msubs(sol[q2d], var2sym)\n",
    "eq2 = me.msubs(sol[q5d], var2sym)\n",
    "# sm.ccode(eq2)"
   ]
  },
  {
   "cell_type": "code",
   "execution_count": 34,
   "metadata": {},
   "outputs": [
    {
     "data": {
      "text/plain": [
       "[-1.0, -1.0000000000000002]"
      ]
     },
     "execution_count": 34,
     "metadata": {},
     "output_type": "execute_result"
    }
   ],
   "source": [
    "qd_func = sm.lambdify([q1, q2, q4, q5, q1d, q4d], [sol[q2d], sol[q5d]], modules=\"numpy\")\n",
    "qd_func(pi/2, 0.68, pi/2, -0.68, 1, 1)"
   ]
  },
  {
   "cell_type": "code",
   "execution_count": 39,
   "metadata": {},
   "outputs": [],
   "source": [
    "# x1 = q1,    x1d = q1d\n",
    "# x2 = q4,    x2d = q4d\n",
    "# x3 = q1d,   x3d = q1dd\n",
    "# x4 = q4d,   x4d = q4dd\n",
    "\n",
    "# declare controller\n",
    "U = u.subs(\n",
    "    {Kp: 5, Kv: 4.0, \n",
    "     \"x_desired\": -in2m(1.5), \"y_desired\": in2m(4),\n",
    "     \"xd_desired\": 0, \"yd_desired\": 0}\n",
    ")\n",
    "\n",
    "def model_2(t, x):\n",
    "    # unpack the vector\n",
    "    q1, q4, q1d, q4d = x\n",
    "    \n",
    "    # get gamma, alpha1, and alpha2\n",
    "    gamma = gamma_func(q1, q4)\n",
    "    alpha1, alpha2 = alpha_func(q1, q4)\n",
    "    \n",
    "    # solve for q2, and q5\n",
    "    q2 = pi - (alpha1 + gamma)\n",
    "    q5 = pi + (alpha2 + gamma)\n",
    "     \n",
    "    # solve for the velocities\n",
    "    q2d, q5d = qd_func(q1, q2, q4, q5, q1d, q4d)\n",
    "    \n",
    "    \n",
    "    # calculate point E position\n",
    "    x, y = PNE_func(q1, q2)\n",
    "    \n",
    "    # calculate the speeds\n",
    "    xd, yd = VNE_func(q1, q2, q1d, q2d)\n",
    "    \n",
    "    # calculate the controller output\n",
    "    global U\n",
    "    u = U.subs({\"x_current\": x, \"y_current\": y,\n",
    "                \"xd_current\": xd, \"yd_current\": yd})\n",
    "    \n",
    "    # create task space acceleration vector\n",
    "    Xdd = sm.Matrix.vstack(u, u)\n",
    "    \n",
    "    # calculate the jacobian\n",
    "    J = J_func(q1, q2, q4, q5)\n",
    "    \n",
    "    # calculate the angular velocities\n",
    "    Xd = sm.Matrix([xd, yd, xd, yd])\n",
    "    q1d, q2d, q4d, q5d = J.inv()*Xd\n",
    "    \n",
    "    # calculate the desired accelerations\n",
    "    Jd = Jd_func(q1, q2, q4, q5, q1d, q2d, q4d, q5d)\n",
    "    q1dd, q2dd, q4dd, q5dd = J.inv()*(Xdd - (Jd*sm.Matrix([q1d, q2d, q4d, q5d])))\n",
    "                    \n",
    "    # assign the xdots\n",
    "    x1d = q1d\n",
    "    x2d = q4d\n",
    "    x3d = q1dd\n",
    "    x4d = q4dd\n",
    "    \n",
    "    # return the values\n",
    "    return (x1d, x2d, x3d, x4d)"
   ]
  },
  {
   "cell_type": "code",
   "execution_count": 40,
   "metadata": {},
   "outputs": [
    {
     "name": "stdout",
     "output_type": "stream",
     "text": [
      "Attempt to step on a failed or finished solver.\n"
     ]
    }
   ],
   "source": [
    "# create and run the simulator\n",
    "ic = [pi/2, pi/2, 0, 0]\n",
    "\n",
    "simulator = RK45(model_2, 0, ic, 10)\n",
    "\n",
    "times = array([0])\n",
    "results = array(ic)\n",
    "while True:\n",
    "    try:\n",
    "        simulator.step()\n",
    "    except Exception as e:\n",
    "        print(e)\n",
    "        break\n",
    "    else:\n",
    "        times = vstack([times, simulator.t])\n",
    "        results = vstack([results, simulator.y])"
   ]
  },
  {
   "cell_type": "code",
   "execution_count": 41,
   "metadata": {},
   "outputs": [
    {
     "data": {
      "image/png": "[encoded data removed]",
      "text/plain": [
       "<Figure size 432x288 with 1 Axes>"
      ]
     },
     "metadata": {
      "needs_background": "light"
     },
     "output_type": "display_data"
    }
   ],
   "source": [
    "plt.plot(times, results[:, 0:2])\n",
    "plt.grid()\n",
    "plt.title(\"task space controller\")\n",
    "plt.xlabel(\"N.x [m]\")\n",
    "plt.ylabel(\"N.y [m]\");"
   ]
  }
 ],
 "metadata": {
  "kernelspec": {
   "display_name": "Python 3",
   "language": "python",
   "name": "python3"
  },
  "language_info": {
   "codemirror_mode": {
    "name": "ipython",
    "version": 3
   },
   "file_extension": ".py",
   "mimetype": "text/x-python",
   "name": "python",
   "nbconvert_exporter": "python",
   "pygments_lexer": "ipython3",
   "version": "3.8.2"
  }
 },
 "nbformat": 4,
 "nbformat_minor": 4
}
