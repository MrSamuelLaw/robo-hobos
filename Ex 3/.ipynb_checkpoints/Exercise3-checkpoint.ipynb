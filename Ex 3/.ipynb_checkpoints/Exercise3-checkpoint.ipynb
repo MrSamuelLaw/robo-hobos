{
 "cells": [
  {
   "cell_type": "markdown",
   "metadata": {},
   "source": [
    "# TITLE: Intro to Robotics Exercise 3\n",
    "# AUTHORS: Rhys Miller & Samuel Law"
   ]
  },
  {
   "cell_type": "code",
   "execution_count": 36,
   "metadata": {},
   "outputs": [],
   "source": [
    "%reset -f"
   ]
  },
  {
   "cell_type": "code",
   "execution_count": 37,
   "metadata": {},
   "outputs": [],
   "source": [
    "%matplotlib inline"
   ]
  },
  {
   "cell_type": "code",
   "execution_count": 38,
   "metadata": {},
   "outputs": [],
   "source": [
    "import sympy as sm\n",
    "import sympy.physics.mechanics as me\n",
    "import matplotlib.pyplot as plt\n",
    "from IPython.display import Latex, display\n",
    "from mathtools.root_locus import *\n",
    "from mathtools.symbolic import sym2poly\n",
    "from numpy import linspace, array, pi, sqrt, polyfit, vstack, sign\n",
    "from scipy.integrate import RK45"
   ]
  },
  {
   "cell_type": "code",
   "execution_count": 39,
   "metadata": {},
   "outputs": [],
   "source": [
    "def show(eq_lhs: str, eq_rhs: str):\n",
    "    eq = f\"${eq_lhs} = {eq_rhs}$\"\n",
    "    return display(Latex(eq))"
   ]
  },
  {
   "cell_type": "markdown",
   "metadata": {},
   "source": [
    "## Kinematics"
   ]
  },
  {
   "cell_type": "code",
   "execution_count": 40,
   "metadata": {},
   "outputs": [],
   "source": [
    "# create the inertial frame\n",
    "N = me.ReferenceFrame(\"N\")\n",
    "pN = me.Point(\"pN\")\n",
    "pN.set_vel(N, 0)"
   ]
  },
  {
   "cell_type": "code",
   "execution_count": 41,
   "metadata": {},
   "outputs": [],
   "source": [
    "# define the constant g\n",
    "g, gear_ratio = sm.symbols(\"g, gear_ratio\")"
   ]
  },
  {
   "cell_type": "code",
   "execution_count": 42,
   "metadata": {},
   "outputs": [],
   "source": [
    "# declare independent variables\n",
    "q1, u1 = me.dynamicsymbols(\"q1, u1\")\n",
    "q1d, u1d = me.dynamicsymbols(\"q1, u1\", 1)\n",
    "q1dd = me.dynamicsymbols(\"q1\", 2)"
   ]
  },
  {
   "cell_type": "code",
   "execution_count": 43,
   "metadata": {},
   "outputs": [],
   "source": [
    "# declare dependent variables\n",
    "q0 = -q1*gear_ratio\n",
    "q0d = -q1d*gear_ratio\n",
    "q0dd = -q1dd*gear_ratio\n",
    "u0 = -u1*gear_ratio"
   ]
  },
  {
   "cell_type": "code",
   "execution_count": 44,
   "metadata": {},
   "outputs": [],
   "source": [
    "# create the bodies\n",
    "bodyA = me.Body(\n",
    "    name = \"bodyA\",\n",
    "    frame = N.orientnew(\"A\", \"axis\", (q0,N.z)),\n",
    ")\n",
    "bodyB = me.Body(\n",
    "    name = \"bodyB\",\n",
    "    frame = N.orientnew(\"B\", \"axis\", (q1, N.z))\n",
    ")"
   ]
  },
  {
   "cell_type": "code",
   "execution_count": 45,
   "metadata": {},
   "outputs": [],
   "source": [
    "# define the motor shaft diameter\n",
    "bodyA.D = sm.symbols(\"D_A\")\n",
    "# define the link length to bodyB COM\n",
    "bodyB.L = sm.symbols(\"L_B\")"
   ]
  },
  {
   "cell_type": "code",
   "execution_count": 46,
   "metadata": {},
   "outputs": [],
   "source": [
    "# define positions of the COMs\n",
    "bodyA.masscenter = pN.locatenew(\"pA\", 0)\n",
    "bodyB.masscenter = pN.locatenew(\"pB\", bodyB.L*bodyB.frame.x)"
   ]
  },
  {
   "cell_type": "code",
   "execution_count": 47,
   "metadata": {},
   "outputs": [],
   "source": [
    "# define the velocities\n",
    "bodyA.masscenter.set_vel(N, bodyA.masscenter.pos_from(pN).dt(N))\n",
    "bodyB.masscenter.set_vel(N, bodyB.masscenter.pos_from(pN).dt(N))"
   ]
  },
  {
   "cell_type": "code",
   "execution_count": 48,
   "metadata": {},
   "outputs": [],
   "source": [
    "# define accelerations\n",
    "bodyA.masscenter.set_acc(N, bodyA.masscenter.vel(N).dt(N))\n",
    "bodyB.masscenter.set_acc(N, bodyB.masscenter.vel(N).dt(N))"
   ]
  },
  {
   "cell_type": "markdown",
   "metadata": {},
   "source": [
    "## Dynamics"
   ]
  },
  {
   "cell_type": "code",
   "execution_count": 49,
   "metadata": {},
   "outputs": [],
   "source": [
    "# apply kanes method\n",
    "KM = me.KanesMethod(\n",
    "    frame = N,\n",
    "    q_ind = [q1],\n",
    "    u_ind = [u1],\n",
    "    kd_eqs = [q1d - u1]\n",
    ")"
   ]
  },
  {
   "cell_type": "code",
   "execution_count": 50,
   "metadata": {},
   "outputs": [],
   "source": [
    "# create a list of the bodies\n",
    "bodies = [bodyA, bodyB]"
   ]
  },
  {
   "cell_type": "code",
   "execution_count": 51,
   "metadata": {},
   "outputs": [],
   "source": [
    "# define the applied loads\n",
    "tau1 = sm.symbols(\"tau_1\")\n",
    "loads = [\n",
    "    # point/frame, force.moment\n",
    "    (bodyA.masscenter, -g*bodyA.mass*N.z),\n",
    "    (bodyB.masscenter, -g*bodyB.mass*N.z),\n",
    "    (bodyB.frame, tau1*bodyA.frame.z)\n",
    "]"
   ]
  },
  {
   "cell_type": "code",
   "execution_count": 52,
   "metadata": {},
   "outputs": [],
   "source": [
    "# apply the loads and bodies to the KM object\n",
    "KM.kanes_equations(bodies, loads);"
   ]
  },
  {
   "cell_type": "code",
   "execution_count": 53,
   "metadata": {},
   "outputs": [],
   "source": [
    "# extract the mass and force matrix\n",
    "MM = KM.mass_matrix\n",
    "FM = KM.forcing"
   ]
  },
  {
   "cell_type": "code",
   "execution_count": 54,
   "metadata": {},
   "outputs": [
    {
     "data": {
      "text/latex": [
       "$TM = \\left[\\begin{matrix}\\left(L_{B}^{2} bodyB_{mass} + bodyA_{izz} gear_{ratio}^{2} + bodyB_{izz}\\right) \\ddot{q}_{1}\\end{matrix}\\right]$"
      ],
      "text/plain": [
       "<IPython.core.display.Latex object>"
      ]
     },
     "metadata": {},
     "output_type": "display_data"
    }
   ],
   "source": [
    "# seperate the force out into driving and non-driving\n",
    "A, b = sm.linear_eq_to_matrix(FM, tau1)\n",
    "TM = A.inv()*(MM*sm.Matrix([q1dd]) + b)\n",
    "show(\"TM\", me.vlatex(TM))"
   ]
  },
  {
   "cell_type": "code",
   "execution_count": 55,
   "metadata": {},
   "outputs": [],
   "source": [
    "# create a dict to hold numeric values\n",
    "vals = {\n",
    "    # lengths\n",
    "    bodyB.L: 0.02162775,         # m\n",
    "    bodyB.mass:   0.00728203,    # kg \n",
    "    \"bodyB_izz\":  6.39e-06,      # kg*m^2\n",
    "    \"bodyA_izz\":  3.3e-07,       # kg*m^2\n",
    "    gear_ratio: 144,             # a.u\n",
    "}"
   ]
  },
  {
   "cell_type": "markdown",
   "metadata": {},
   "source": [
    "# Joint Space Simulation"
   ]
  },
  {
   "cell_type": "markdown",
   "metadata": {},
   "source": []
  },
  {
   "cell_type": "markdown",
   "metadata": {},
   "source": [
    "The following block diagram requires several assumptions to model accurately\n",
    "1. The signal is constrained to between 0 and 5 volts\n",
    "2. The motor and q_actual have a linear relationship\n",
    "3. Due to nonlinear behavior that limits the voltage 12V, <br> modeling in time domain is easier.\n",
    "4. The delay between the control signal and the motor signal is neglegable"
   ]
  },
  {
   "cell_type": "code",
   "execution_count": 56,
   "metadata": {},
   "outputs": [],
   "source": [
    "# create variables for desired output\n",
    "q1_desired, q1d_desired = sm.symbols(\"q1_desired, q1d_desired\")\n",
    "\n",
    "# creatue variables for current output\n",
    "q1_current, q1d_current = sm.symbols(\"q1_current, q1d_current\")"
   ]
  },
  {
   "cell_type": "code",
   "execution_count": 57,
   "metadata": {},
   "outputs": [
    {
     "data": {
      "text/latex": [
       "$\\displaystyle Kp \\left(- q_{1 current} + q_{1 desired}\\right) + Kv \\left(- q1d_{current} + q1d_{desired}\\right)$"
      ],
      "text/plain": [
       "Kp*(-q1_current + q1_desired) + Kv*(-q1d_current + q1d_desired)"
      ]
     },
     "execution_count": 57,
     "metadata": {},
     "output_type": "execute_result"
    }
   ],
   "source": [
    "# create the controller signal\n",
    "Kp, Kv = sm.symbols(\"Kp, Kv\")\n",
    "u = (Kv*(q1d_desired - q1d_current)) + (Kp*(q1_desired - q1_current))\n",
    "u"
   ]
  },
  {
   "cell_type": "code",
   "execution_count": 58,
   "metadata": {},
   "outputs": [
    {
     "data": {
      "text/latex": [
       "$\\displaystyle 0.00685267623922198$"
      ],
      "text/plain": [
       "0.00685267623922198"
      ]
     },
     "execution_count": 58,
     "metadata": {},
     "output_type": "execute_result"
    }
   ],
   "source": [
    "# create the constant C1\n",
    "C1, *_ = TM.subs(vals)/q1dd  # the term that describes the \n",
    "C1"
   ]
  },
  {
   "cell_type": "code",
   "execution_count": 59,
   "metadata": {},
   "outputs": [
    {
     "data": {
      "text/plain": [
       "8.412655325659497"
      ]
     },
     "execution_count": 59,
     "metadata": {},
     "output_type": "execute_result"
    }
   ],
   "source": [
    "# create the constant C2\n",
    "R = 7.5        # ohms\n",
    "kt = 0.891514  # Nm/amp, from manufacture's page\n",
    "C2 = R/kt\n",
    "C2"
   ]
  },
  {
   "cell_type": "markdown",
   "metadata": {},
   "source": [
    "### SIMULATION CONTROLS"
   ]
  },
  {
   "cell_type": "code",
   "execution_count": 60,
   "metadata": {},
   "outputs": [
    {
     "data": {
      "text/plain": [
       "238.732414637843"
      ]
     },
     "execution_count": 60,
     "metadata": {},
     "output_type": "execute_result"
    }
   ],
   "source": [
    "# calculate max Kp value\n",
    "V_min = 3                   # voltage required for motor to actually move based on experimentation\n",
    "CPR = 1000                  # counts per revolution\n",
    "rad_min = 2*pi/1000         # smallest detectable error \n",
    "Kp_max = V_min/(rad_min*2)  # the 2 allows it to be +- one count from desired position\n",
    "Kp_max"
   ]
  },
  {
   "cell_type": "code",
   "execution_count": 61,
   "metadata": {},
   "outputs": [],
   "source": [
    "# create all the callables\n",
    "simulation_parameters = {\n",
    "    q1_desired: 3,\n",
    "    q1d_desired: 0,\n",
    "    Kp: int(Kp_max),\n",
    "    Kv: sqrt(477*8),\n",
    "}"
   ]
  },
  {
   "cell_type": "code",
   "execution_count": 62,
   "metadata": {},
   "outputs": [
    {
     "data": {
      "text/plain": [
       "-2142.0"
      ]
     },
     "execution_count": 62,
     "metadata": {},
     "output_type": "execute_result"
    }
   ],
   "source": [
    "# create controller callable\n",
    "controller_signal = sm.lambdify([q1_current, q1d_current], u.subs(simulation_parameters), modules=\"numpy\")\n",
    "controller_signal(12, 0)"
   ]
  },
  {
   "cell_type": "code",
   "execution_count": 63,
   "metadata": {},
   "outputs": [],
   "source": [
    "# create motor torque callable to emulate q1dd\n",
    "rpms = (0, 40, 50)\n",
    "taus = (0.980665, 0.4413, 0)\n",
    "slope1, intercept1 = np.polyfit(rpms[0:2], taus[0:2], 1)\n",
    "slope2, intercept2 = np.polyfit(rpms[1:], taus[1:], 1)\n",
    "def tau_motor(x):\n",
    "    if rpms[0] <= x <= rpms[1]:\n",
    "        return (slope1*x) + intercept1\n",
    "    elif rpms[1] <= x <= rpms[2]:\n",
    "        return (slope2*x) + intercept2\n",
    "    else:\n",
    "        return 0"
   ]
  },
  {
   "cell_type": "markdown",
   "metadata": {},
   "source": [
    "x1 = q1,    x1d = q1d <br>\n",
    "x2 = q1d,   x2d = q1dd <br>"
   ]
  },
  {
   "cell_type": "code",
   "execution_count": 64,
   "metadata": {},
   "outputs": [],
   "source": [
    "# create the RK45 simulation\n",
    "def model(t, x):    \n",
    "    # unpack the vector\n",
    "    q1, q1d = x\n",
    "    \n",
    "    # calculate the controller signal\n",
    "    u = controller_signal(q1, q1d)\n",
    "    \n",
    "    # get globals\n",
    "    global C1\n",
    "    \n",
    "    # calculate tau\n",
    "    tau_desired = abs(u*C1)    \n",
    "    \n",
    "    # calculate RPM\n",
    "    RPM = abs(q1d*30/pi)\n",
    "        \n",
    "    # check if desired torque is in the opposite direction of RPM\n",
    "    if sign(u) != sign(q1d):\n",
    "        tau_max = tau_motor(0)\n",
    "    else:\n",
    "        tau_max = tau_motor(RPM)\n",
    "    \n",
    "    # determine value of tau\n",
    "    tau = tau_desired if tau_desired < tau_max else tau_max\n",
    "        \n",
    "    # calculate the acceleration due to torque\n",
    "    q1dd = tau*sign(u)/C1\n",
    "    \n",
    "    # return the xdots\n",
    "    x1d = q1d\n",
    "    x2d = q1dd\n",
    "    \n",
    "    return (x1d, x2d)\n",
    "\n",
    "# create the initial conditions\n",
    "simulator = RK45(model, 0, [0, 0], 3.5, max_step=0.05)\n",
    "results = array([0, 0])\n",
    "while True:\n",
    "    try:\n",
    "        simulator.step()\n",
    "    except:\n",
    "        break\n",
    "    else:\n",
    "        results = vstack([results, (simulator.t, simulator.y[0])])"
   ]
  },
  {
   "cell_type": "code",
   "execution_count": 65,
   "metadata": {},
   "outputs": [
    {
     "data": {
      "image/png": "[encoded data removed]",
      "text/plain": [
       "<Figure size 432x288 with 1 Axes>"
      ]
     },
     "metadata": {
      "needs_background": "light"
     },
     "output_type": "display_data"
    }
   ],
   "source": [
    "plt.plot(results[:, 0], results[:, 1])\n",
    "plt.grid()\n",
    "plt.xlabel(\"time [s]\")\n",
    "plt.ylabel(\"q1 [rad]\")\n",
    "plt.title(\"Joint Space Controller\");"
   ]
  },
  {
   "cell_type": "code",
   "execution_count": 66,
   "metadata": {},
   "outputs": [
    {
     "name": "stdout",
     "output_type": "stream",
     "text": [
      "[[1.0578025  2.92939171]\n",
      " [1.1078025  2.94256167]\n",
      " [1.1578025  2.95327514]\n",
      " [1.2078025  2.96199033]\n",
      " [1.2578025  2.96907995]\n",
      " [1.3078025  2.9748472 ]\n",
      " [1.3578025  2.97953874]\n",
      " [1.4078025  2.9833552 ]\n",
      " [1.4578025  2.98645981]\n",
      " [1.5078025  2.98898535]\n",
      " [1.5578025  2.99103982]\n",
      " [1.6078025  2.99271108]\n",
      " [1.6578025  2.99407062]\n",
      " [1.7078025  2.99517658]\n",
      " [1.7578025  2.99607625]\n",
      " [1.8078025  2.99680811]\n",
      " [1.8578025  2.99740347]\n",
      " [1.9078025  2.99788778]\n",
      " [1.9578025  2.99828175]\n",
      " [2.0078025  2.99860224]\n",
      " [2.0578025  2.99886295]\n",
      " [2.1078025  2.99907504]\n",
      " [2.1578025  2.99924756]\n",
      " [2.2078025  2.99938791]\n",
      " [2.2578025  2.99950208]\n",
      " [2.3078025  2.99959495]\n",
      " [2.3578025  2.9996705 ]\n",
      " [2.4078025  2.99973196]\n",
      " [2.4578025  2.99978195]\n",
      " [2.5078025  2.99982262]\n",
      " [2.5578025  2.99985571]\n",
      " [2.6078025  2.99988262]\n",
      " [2.6578025  2.99990452]\n",
      " [2.7078025  2.99992233]\n",
      " [2.7578025  2.99993681]\n",
      " [2.8078025  2.9999486 ]\n",
      " [2.8578025  2.99995819]\n",
      " [2.9078025  2.99996599]\n",
      " [2.9578025  2.99997233]\n",
      " [3.0078025  2.99997749]\n",
      " [3.0578025  2.99998169]\n",
      " [3.1078025  2.9999851 ]\n",
      " [3.1578025  2.99998788]\n",
      " [3.2078025  2.99999014]\n",
      " [3.2578025  2.99999198]\n",
      " [3.3078025  2.99999348]\n",
      " [3.3578025  2.99999469]\n",
      " [3.4078025  2.99999568]\n",
      " [3.4578025  2.99999649]\n",
      " [3.5        2.99999705]]\n"
     ]
    }
   ],
   "source": [
    "print(results[-50:])"
   ]
  },
  {
   "cell_type": "markdown",
   "metadata": {},
   "source": [
    "# PD Controller Simulation"
   ]
  },
  {
   "cell_type": "markdown",
   "metadata": {},
   "source": [
    "The PD controller is close to the joint space controller, however, the <br> \n",
    "PD controller does not feed into a constant C1 in order to account for mass <br>\n",
    "properties when computing the desired torque. "
   ]
  },
  {
   "cell_type": "code",
   "execution_count": 32,
   "metadata": {},
   "outputs": [],
   "source": [
    "# create all the callables\n",
    "simulation_parameters = {\n",
    "    q1_desired: 12,\n",
    "    q1d_desired: 0,\n",
    "    Kp: int(Kp_max),\n",
    "    Kv: 100\n",
    "}"
   ]
  },
  {
   "cell_type": "code",
   "execution_count": 33,
   "metadata": {},
   "outputs": [
    {
     "data": {
      "text/plain": [
       "0"
      ]
     },
     "execution_count": 33,
     "metadata": {},
     "output_type": "execute_result"
    }
   ],
   "source": [
    "# create controller callable\n",
    "controller_signal = sm.lambdify([q1_current, q1d_current], u.subs(simulation_parameters), modules=\"numpy\")\n",
    "controller_signal(12, 0)"
   ]
  },
  {
   "cell_type": "code",
   "execution_count": 34,
   "metadata": {},
   "outputs": [],
   "source": [
    "# create the RK45 simulation\n",
    "def model(t, x):    \n",
    "    # unpack the vector\n",
    "    q1, q1d = x\n",
    "    \n",
    "    # calculate the controller signal\n",
    "    u = controller_signal(q1, q1d)\n",
    "    \n",
    "    # calculate tau\n",
    "    tau_desired = abs(u)    \n",
    "    \n",
    "    # calculate RPM\n",
    "    RPM = abs(q1d*30/pi)\n",
    "        \n",
    "    # check if desired torque is in the opposite direction of RPM\n",
    "    if sign(u) != sign(q1d):\n",
    "        tau_max = tau_motor(0)\n",
    "    else:\n",
    "        tau_max = tau_motor(RPM)\n",
    "    \n",
    "    # determine value of tau\n",
    "    tau = tau_desired if tau_desired < tau_max else tau_max\n",
    "    \n",
    "    # get globals\n",
    "    global C1\n",
    "        \n",
    "    # calculate the acceleration due to torque\n",
    "    q1dd = tau*sign(u)/C1\n",
    "    \n",
    "    # return the xdots\n",
    "    x1d = q1d\n",
    "    x2d = q1dd\n",
    "    \n",
    "    return (x1d, x2d)\n",
    "\n",
    "# create the initial conditions\n",
    "simulator = RK45(model, 0, [0, 0], 3, max_step=0.05)\n",
    "results = array([0, 0])\n",
    "while True:\n",
    "    try:\n",
    "        simulator.step()\n",
    "    except:\n",
    "        break\n",
    "    else:\n",
    "        results = vstack([results, (simulator.t, simulator.y[0])])"
   ]
  },
  {
   "cell_type": "code",
   "execution_count": 35,
   "metadata": {},
   "outputs": [
    {
     "data": {
      "image/png": "[encoded data removed]",
      "text/plain": [
       "<Figure size 432x288 with 1 Axes>"
      ]
     },
     "metadata": {
      "needs_background": "light"
     },
     "output_type": "display_data"
    }
   ],
   "source": [
    "plt.plot(results[:, 0], results[:, 1])\n",
    "plt.grid()\n",
    "plt.xlabel(\"time [s]\")\n",
    "plt.ylabel(\"q1 [rad]\")\n",
    "plt.title(\"PD Controller\");"
   ]
  }
 ],
 "metadata": {
  "kernelspec": {
   "display_name": "Python 3",
   "language": "python",
   "name": "python3"
  },
  "language_info": {
   "codemirror_mode": {
    "name": "ipython",
    "version": 3
   },
   "file_extension": ".py",
   "mimetype": "text/x-python",
   "name": "python",
   "nbconvert_exporter": "python",
   "pygments_lexer": "ipython3",
   "version": "3.8.2"
  }
 },
 "nbformat": 4,
 "nbformat_minor": 4
}
